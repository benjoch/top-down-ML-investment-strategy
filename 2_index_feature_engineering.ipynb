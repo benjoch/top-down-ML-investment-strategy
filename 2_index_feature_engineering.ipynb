{
 "cells": [
  {
   "cell_type": "markdown",
   "source": [
    "# Overview:\n",
    "\n",
    "This notebook is used to prepare the data for the index. The data is prepared in the following steps:\n",
    "1. Read in the data\n",
    "2. Merge the macro data with the index price data\n",
    "3. Merge the fundamental data with the index price data\n",
    "4. Create technical features using the index price data\n",
    "5. Save the data as a csv file"
   ],
   "metadata": {
    "collapsed": false
   }
  },
  {
   "cell_type": "code",
   "execution_count": null,
   "outputs": [],
   "source": [
    "import pandas as pd"
   ],
   "metadata": {
    "collapsed": false
   }
  },
  {
   "cell_type": "code",
   "execution_count": 2,
   "outputs": [
    {
     "data": {
      "text/plain": "            Date  Adj Close\n0     2006-11-07   1.743284\n1     2006-11-08   1.743284\n2     2006-11-09   1.743284\n3     2006-11-10   1.747295\n4     2006-11-13   1.747295\n...          ...        ...\n4272  2023-10-30  28.910000\n4273  2023-10-31  29.049999\n4274  2023-11-01  28.930000\n4275  2023-11-02  29.430000\n4276  2023-11-03  29.540001\n\n[4277 rows x 2 columns]",
      "text/html": "<div>\n<style scoped>\n    .dataframe tbody tr th:only-of-type {\n        vertical-align: middle;\n    }\n\n    .dataframe tbody tr th {\n        vertical-align: top;\n    }\n\n    .dataframe thead th {\n        text-align: right;\n    }\n</style>\n<table border=\"1\" class=\"dataframe\">\n  <thead>\n    <tr style=\"text-align: right;\">\n      <th></th>\n      <th>Date</th>\n      <th>Adj Close</th>\n    </tr>\n  </thead>\n  <tbody>\n    <tr>\n      <th>0</th>\n      <td>2006-11-07</td>\n      <td>1.743284</td>\n    </tr>\n    <tr>\n      <th>1</th>\n      <td>2006-11-08</td>\n      <td>1.743284</td>\n    </tr>\n    <tr>\n      <th>2</th>\n      <td>2006-11-09</td>\n      <td>1.743284</td>\n    </tr>\n    <tr>\n      <th>3</th>\n      <td>2006-11-10</td>\n      <td>1.747295</td>\n    </tr>\n    <tr>\n      <th>4</th>\n      <td>2006-11-13</td>\n      <td>1.747295</td>\n    </tr>\n    <tr>\n      <th>...</th>\n      <td>...</td>\n      <td>...</td>\n    </tr>\n    <tr>\n      <th>4272</th>\n      <td>2023-10-30</td>\n      <td>28.910000</td>\n    </tr>\n    <tr>\n      <th>4273</th>\n      <td>2023-10-31</td>\n      <td>29.049999</td>\n    </tr>\n    <tr>\n      <th>4274</th>\n      <td>2023-11-01</td>\n      <td>28.930000</td>\n    </tr>\n    <tr>\n      <th>4275</th>\n      <td>2023-11-02</td>\n      <td>29.430000</td>\n    </tr>\n    <tr>\n      <th>4276</th>\n      <td>2023-11-03</td>\n      <td>29.540001</td>\n    </tr>\n  </tbody>\n</table>\n<p>4277 rows × 2 columns</p>\n</div>"
     },
     "execution_count": 2,
     "metadata": {},
     "output_type": "execute_result"
    }
   ],
   "source": [
    "# read in macro and  index price / fundamental data\n",
    "index_prices = pd.read_csv(\"data/index_prices.csv\")\n",
    "macro_data = pd.read_csv(\"data/macro_data.csv\")\n",
    "fundamentals = pd.read_excel(\"data/SPXEWCS DATA VALUES.xlsx\")\n",
    "index_prices"
   ],
   "metadata": {
    "collapsed": false,
    "ExecuteTime": {
     "end_time": "2023-12-15T14:26:59.370615Z",
     "start_time": "2023-12-15T14:26:58.698427Z"
    }
   }
  },
  {
   "cell_type": "code",
   "execution_count": 3,
   "outputs": [],
   "source": [
    "# dictionary explaining the macro data\n",
    "data_dict = {\n",
    "    'NA000334Q': 'Gross Domestic Product, Quarterly, Not Seasonally Adjusted',\n",
    "    'REAINTRATREARAT10Y': '10-Year Real Interest Rate',\n",
    "    'UNRATE': 'Unemployment Rate, Quarterly, Not Seasonally Adjusted',\n",
    "    'CPALTT01USQ661S': 'Consumer Price Index: All Items: Total for United States, Quarterly, Seasonally Adjusted',\n",
    "    'PPIACO': 'Producer Price Index by Commodity: All Commodities, Monthly, Not Seasonally Adjusted',\n",
    "    'HOUST': 'New Privately-Owned Housing Units Started: Total Units',\n",
    "    'PSAVERT': 'Personal Saving Rate, Monthly, Seasonally Adjusted',\n",
    "}\n",
    "\n",
    "# rename columns to be more descriptive\n",
    "macro_data = macro_data.rename(columns={\n",
    "    'NA000334Q': 'GDP',\n",
    "    'REAINTRATREARAT10Y': 'RATE_10',\n",
    "    'UNRATE': 'URATE',\n",
    "    'CPALTT01USQ661S': 'CPI',\n",
    "    'PPIACO': 'PPI',\n",
    "    'HOUST': 'HOUSE',\n",
    "    'PSAVERT': 'SAVE',\n",
    "})"
   ],
   "metadata": {
    "collapsed": false,
    "ExecuteTime": {
     "end_time": "2023-12-15T14:27:00.967523Z",
     "start_time": "2023-12-15T14:27:00.961396Z"
    }
   }
  },
  {
   "cell_type": "code",
   "execution_count": 4,
   "outputs": [],
   "source": [
    "# subset macro data to only have what's needed (data without nans and only for when index is trading)\n",
    "macro_data = macro_data[macro_data['DATE'] > '2006-10'] # select only data for when index is trading\n",
    "macro_data = macro_data.iloc[:-1] # remove last row because of NAs"
   ],
   "metadata": {
    "collapsed": false,
    "ExecuteTime": {
     "end_time": "2023-12-15T14:27:01.347536Z",
     "start_time": "2023-12-15T14:27:01.340946Z"
    }
   }
  },
  {
   "cell_type": "code",
   "execution_count": 5,
   "outputs": [],
   "source": [
    "# forward fill data for GDP and CPI columns\n",
    "# since these are quarterly data, we can forward fill the data so that the last reported value is used for the entire quarter\n",
    "macro_data = macro_data.fillna(method='ffill')"
   ],
   "metadata": {
    "collapsed": false,
    "ExecuteTime": {
     "end_time": "2023-12-15T14:27:01.769215Z",
     "start_time": "2023-12-15T14:27:01.758301Z"
    }
   }
  },
  {
   "cell_type": "code",
   "execution_count": 6,
   "outputs": [],
   "source": [
    "# convert date columns to datetime so that we can merge the dataframes\n",
    "macro_data['DATE'] = pd.to_datetime(macro_data['DATE'])\n",
    "index_prices['Date'] = pd.to_datetime(index_prices['Date'])"
   ],
   "metadata": {
    "collapsed": false,
    "ExecuteTime": {
     "end_time": "2023-12-15T14:27:02.137963Z",
     "start_time": "2023-12-15T14:27:02.134413Z"
    }
   }
  },
  {
   "cell_type": "code",
   "execution_count": 7,
   "outputs": [
    {
     "name": "stdout",
     "output_type": "stream",
     "text": [
      "No macro data for 2023-11-01 00:00:00\n",
      "No macro data for 2023-11-02 00:00:00\n",
      "No macro data for 2023-11-03 00:00:00\n"
     ]
    }
   ],
   "source": [
    "# create dictionary of index data from merging index_prices and macro_data\n",
    "#\n",
    "index_data_dict = {}\n",
    "\n",
    "# for each time step in index_prices, find the corresponding macro data merge it with the price data\n",
    "# add the resulting dataset to the dictionary\n",
    "for row in index_prices.iterrows():\n",
    "\n",
    "    # get index price and date data\n",
    "    index_date = row[1]['Date']\n",
    "    index_price = row[1]['Adj Close']\n",
    "    index_month = row[1]['Date'].month\n",
    "    index_year = row[1]['Date'].year\n",
    "\n",
    "    # append macro data to index_prices with matching month and year\n",
    "    macro_row = macro_data[(macro_data['DATE'].dt.month == index_month) & (macro_data['DATE'].dt.year == index_year)]\n",
    "\n",
    "    # check if macro data exists for the given date\n",
    "    # if not, print a message and continue to the next date\n",
    "    if macro_row.empty:\n",
    "        print(f'No macro data for {index_date}')\n",
    "        continue\n",
    "    else:\n",
    "        # if there is macro data, add it to the dictionary\n",
    "        # add to dictionary\n",
    "        index_data_dict[index_date] = [index_price, macro_row['GDP'].values[0], macro_row['RATE_10'].values[0], macro_row['URATE'].values[0], macro_row['CPI'].values[0], macro_row['PPI'].values[0], macro_row['HOUSE'].values[0], macro_row['SAVE'].values[0]]\n"
   ],
   "metadata": {
    "collapsed": false,
    "ExecuteTime": {
     "end_time": "2023-12-15T14:27:07.025359Z",
     "start_time": "2023-12-15T14:27:02.476491Z"
    }
   }
  },
  {
   "cell_type": "code",
   "execution_count": 8,
   "outputs": [
    {
     "data": {
      "text/plain": "                Price        GDP   RATE_10  URATE         CPI      PPI  \\\n2006-11-07   1.743284  3557633.0  2.199885    4.5   85.366591  164.600   \n2006-11-08   1.743284  3557633.0  2.199885    4.5   85.366591  164.600   \n2006-11-09   1.743284  3557633.0  2.199885    4.5   85.366591  164.600   \n2006-11-10   1.747295  3557633.0  2.199885    4.5   85.366591  164.600   \n2006-11-13   1.747295  3557633.0  2.199885    4.5   85.366591  164.600   \n...               ...        ...       ...    ...         ...      ...   \n2023-10-25  29.120001  6928858.0  2.082461    3.9  129.118446  255.463   \n2023-10-26  29.020000  6928858.0  2.082461    3.9  129.118446  255.463   \n2023-10-27  28.559999  6928858.0  2.082461    3.9  129.118446  255.463   \n2023-10-30  28.910000  6928858.0  2.082461    3.9  129.118446  255.463   \n2023-10-31  29.049999  6928858.0  2.082461    3.9  129.118446  255.463   \n\n             HOUSE  SAVE  \n2006-11-07  1570.0   2.7  \n2006-11-08  1570.0   2.7  \n2006-11-09  1570.0   2.7  \n2006-11-10  1570.0   2.7  \n2006-11-13  1570.0   2.7  \n...            ...   ...  \n2023-10-25  1372.0   3.8  \n2023-10-26  1372.0   3.8  \n2023-10-27  1372.0   3.8  \n2023-10-30  1372.0   3.8  \n2023-10-31  1372.0   3.8  \n\n[4274 rows x 8 columns]",
      "text/html": "<div>\n<style scoped>\n    .dataframe tbody tr th:only-of-type {\n        vertical-align: middle;\n    }\n\n    .dataframe tbody tr th {\n        vertical-align: top;\n    }\n\n    .dataframe thead th {\n        text-align: right;\n    }\n</style>\n<table border=\"1\" class=\"dataframe\">\n  <thead>\n    <tr style=\"text-align: right;\">\n      <th></th>\n      <th>Price</th>\n      <th>GDP</th>\n      <th>RATE_10</th>\n      <th>URATE</th>\n      <th>CPI</th>\n      <th>PPI</th>\n      <th>HOUSE</th>\n      <th>SAVE</th>\n    </tr>\n  </thead>\n  <tbody>\n    <tr>\n      <th>2006-11-07</th>\n      <td>1.743284</td>\n      <td>3557633.0</td>\n      <td>2.199885</td>\n      <td>4.5</td>\n      <td>85.366591</td>\n      <td>164.600</td>\n      <td>1570.0</td>\n      <td>2.7</td>\n    </tr>\n    <tr>\n      <th>2006-11-08</th>\n      <td>1.743284</td>\n      <td>3557633.0</td>\n      <td>2.199885</td>\n      <td>4.5</td>\n      <td>85.366591</td>\n      <td>164.600</td>\n      <td>1570.0</td>\n      <td>2.7</td>\n    </tr>\n    <tr>\n      <th>2006-11-09</th>\n      <td>1.743284</td>\n      <td>3557633.0</td>\n      <td>2.199885</td>\n      <td>4.5</td>\n      <td>85.366591</td>\n      <td>164.600</td>\n      <td>1570.0</td>\n      <td>2.7</td>\n    </tr>\n    <tr>\n      <th>2006-11-10</th>\n      <td>1.747295</td>\n      <td>3557633.0</td>\n      <td>2.199885</td>\n      <td>4.5</td>\n      <td>85.366591</td>\n      <td>164.600</td>\n      <td>1570.0</td>\n      <td>2.7</td>\n    </tr>\n    <tr>\n      <th>2006-11-13</th>\n      <td>1.747295</td>\n      <td>3557633.0</td>\n      <td>2.199885</td>\n      <td>4.5</td>\n      <td>85.366591</td>\n      <td>164.600</td>\n      <td>1570.0</td>\n      <td>2.7</td>\n    </tr>\n    <tr>\n      <th>...</th>\n      <td>...</td>\n      <td>...</td>\n      <td>...</td>\n      <td>...</td>\n      <td>...</td>\n      <td>...</td>\n      <td>...</td>\n      <td>...</td>\n    </tr>\n    <tr>\n      <th>2023-10-25</th>\n      <td>29.120001</td>\n      <td>6928858.0</td>\n      <td>2.082461</td>\n      <td>3.9</td>\n      <td>129.118446</td>\n      <td>255.463</td>\n      <td>1372.0</td>\n      <td>3.8</td>\n    </tr>\n    <tr>\n      <th>2023-10-26</th>\n      <td>29.020000</td>\n      <td>6928858.0</td>\n      <td>2.082461</td>\n      <td>3.9</td>\n      <td>129.118446</td>\n      <td>255.463</td>\n      <td>1372.0</td>\n      <td>3.8</td>\n    </tr>\n    <tr>\n      <th>2023-10-27</th>\n      <td>28.559999</td>\n      <td>6928858.0</td>\n      <td>2.082461</td>\n      <td>3.9</td>\n      <td>129.118446</td>\n      <td>255.463</td>\n      <td>1372.0</td>\n      <td>3.8</td>\n    </tr>\n    <tr>\n      <th>2023-10-30</th>\n      <td>28.910000</td>\n      <td>6928858.0</td>\n      <td>2.082461</td>\n      <td>3.9</td>\n      <td>129.118446</td>\n      <td>255.463</td>\n      <td>1372.0</td>\n      <td>3.8</td>\n    </tr>\n    <tr>\n      <th>2023-10-31</th>\n      <td>29.049999</td>\n      <td>6928858.0</td>\n      <td>2.082461</td>\n      <td>3.9</td>\n      <td>129.118446</td>\n      <td>255.463</td>\n      <td>1372.0</td>\n      <td>3.8</td>\n    </tr>\n  </tbody>\n</table>\n<p>4274 rows × 8 columns</p>\n</div>"
     },
     "execution_count": 8,
     "metadata": {},
     "output_type": "execute_result"
    }
   ],
   "source": [
    "# convert dictionary to dataframe\n",
    "# the index_data dataframe now has the index price and macro data for each time step (day)\n",
    "index_data = pd.DataFrame.from_dict(index_data_dict, orient='index', columns=['Price', 'GDP', 'RATE_10', 'URATE', 'CPI', 'PPI', 'HOUSE', 'SAVE'])\n",
    "index_data"
   ],
   "metadata": {
    "collapsed": false,
    "ExecuteTime": {
     "end_time": "2023-12-15T14:27:07.060549Z",
     "start_time": "2023-12-15T14:27:07.039408Z"
    }
   }
  },
  {
   "cell_type": "code",
   "execution_count": 9,
   "outputs": [
    {
     "data": {
      "text/plain": "           Index Enterprise Value Adjusted Price/Earnings ratio  \\\nDate                                                              \n2006-11-02              2123.3586                        9.7138   \n2006-11-03              2101.3037                        9.5817   \n2006-11-06               2115.073                        9.6612   \n2006-11-07              2112.1243                        9.6442   \n2006-11-08              2122.9425                        9.7067   \n...                           ...                           ...   \n2023-10-25              6645.8868                       15.7161   \n2023-10-26              6628.8768                       15.6644   \n2023-10-27              6550.3068                       15.4255   \n2023-10-30              6609.9668                       15.6069   \n2023-10-31              6634.3468                        15.681   \n\n           Adjusted Price/Estimated Earnings BEst Div Yld  \\\nDate                                                        \n2006-11-02                           19.9605       1.9262   \n2006-11-03                             19.66       1.9571   \n2006-11-06                           19.8239       1.9409   \n2006-11-07                           19.7364       1.9466   \n2006-11-08                           19.8696       1.9357   \n...                                      ...          ...   \n2023-10-25                            15.997       3.1342   \n2023-10-26                           15.9387       3.1371   \n2023-10-27                            15.685       3.1845   \n2023-10-30                           15.8603       3.1553   \n2023-10-31                           15.9343        3.139   \n\n           Total Debt to Total Equity Current Market Cap Profit Margin  \nDate                                                                    \n2006-11-02                   105.0283         1286569.94        4.0568  \n2006-11-03                   105.0283         1277994.84        4.0568  \n2006-11-06                   105.0283         1284279.01        4.0568  \n2006-11-07                   105.0283         1284884.54        4.0568  \n2006-11-08                   105.0283         1290784.26        4.0568  \n...                               ...                ...           ...  \n2023-10-25                    98.9909         2639057.02        3.6098  \n2023-10-26                    98.9909         2622045.95        3.6098  \n2023-10-27                    98.9909         2588702.38        3.6098  \n2023-10-30                    98.9909          2627660.6        3.6098  \n2023-10-31                    98.9909         2637450.62        3.6098  \n\n[4434 rows x 7 columns]",
      "text/html": "<div>\n<style scoped>\n    .dataframe tbody tr th:only-of-type {\n        vertical-align: middle;\n    }\n\n    .dataframe tbody tr th {\n        vertical-align: top;\n    }\n\n    .dataframe thead th {\n        text-align: right;\n    }\n</style>\n<table border=\"1\" class=\"dataframe\">\n  <thead>\n    <tr style=\"text-align: right;\">\n      <th></th>\n      <th>Index Enterprise Value</th>\n      <th>Adjusted Price/Earnings ratio</th>\n      <th>Adjusted Price/Estimated Earnings</th>\n      <th>BEst Div Yld</th>\n      <th>Total Debt to Total Equity</th>\n      <th>Current Market Cap</th>\n      <th>Profit Margin</th>\n    </tr>\n    <tr>\n      <th>Date</th>\n      <th></th>\n      <th></th>\n      <th></th>\n      <th></th>\n      <th></th>\n      <th></th>\n      <th></th>\n    </tr>\n  </thead>\n  <tbody>\n    <tr>\n      <th>2006-11-02</th>\n      <td>2123.3586</td>\n      <td>9.7138</td>\n      <td>19.9605</td>\n      <td>1.9262</td>\n      <td>105.0283</td>\n      <td>1286569.94</td>\n      <td>4.0568</td>\n    </tr>\n    <tr>\n      <th>2006-11-03</th>\n      <td>2101.3037</td>\n      <td>9.5817</td>\n      <td>19.66</td>\n      <td>1.9571</td>\n      <td>105.0283</td>\n      <td>1277994.84</td>\n      <td>4.0568</td>\n    </tr>\n    <tr>\n      <th>2006-11-06</th>\n      <td>2115.073</td>\n      <td>9.6612</td>\n      <td>19.8239</td>\n      <td>1.9409</td>\n      <td>105.0283</td>\n      <td>1284279.01</td>\n      <td>4.0568</td>\n    </tr>\n    <tr>\n      <th>2006-11-07</th>\n      <td>2112.1243</td>\n      <td>9.6442</td>\n      <td>19.7364</td>\n      <td>1.9466</td>\n      <td>105.0283</td>\n      <td>1284884.54</td>\n      <td>4.0568</td>\n    </tr>\n    <tr>\n      <th>2006-11-08</th>\n      <td>2122.9425</td>\n      <td>9.7067</td>\n      <td>19.8696</td>\n      <td>1.9357</td>\n      <td>105.0283</td>\n      <td>1290784.26</td>\n      <td>4.0568</td>\n    </tr>\n    <tr>\n      <th>...</th>\n      <td>...</td>\n      <td>...</td>\n      <td>...</td>\n      <td>...</td>\n      <td>...</td>\n      <td>...</td>\n      <td>...</td>\n    </tr>\n    <tr>\n      <th>2023-10-25</th>\n      <td>6645.8868</td>\n      <td>15.7161</td>\n      <td>15.997</td>\n      <td>3.1342</td>\n      <td>98.9909</td>\n      <td>2639057.02</td>\n      <td>3.6098</td>\n    </tr>\n    <tr>\n      <th>2023-10-26</th>\n      <td>6628.8768</td>\n      <td>15.6644</td>\n      <td>15.9387</td>\n      <td>3.1371</td>\n      <td>98.9909</td>\n      <td>2622045.95</td>\n      <td>3.6098</td>\n    </tr>\n    <tr>\n      <th>2023-10-27</th>\n      <td>6550.3068</td>\n      <td>15.4255</td>\n      <td>15.685</td>\n      <td>3.1845</td>\n      <td>98.9909</td>\n      <td>2588702.38</td>\n      <td>3.6098</td>\n    </tr>\n    <tr>\n      <th>2023-10-30</th>\n      <td>6609.9668</td>\n      <td>15.6069</td>\n      <td>15.8603</td>\n      <td>3.1553</td>\n      <td>98.9909</td>\n      <td>2627660.6</td>\n      <td>3.6098</td>\n    </tr>\n    <tr>\n      <th>2023-10-31</th>\n      <td>6634.3468</td>\n      <td>15.681</td>\n      <td>15.9343</td>\n      <td>3.139</td>\n      <td>98.9909</td>\n      <td>2637450.62</td>\n      <td>3.6098</td>\n    </tr>\n  </tbody>\n</table>\n<p>4434 rows × 7 columns</p>\n</div>"
     },
     "execution_count": 9,
     "metadata": {},
     "output_type": "execute_result"
    }
   ],
   "source": [
    "# prepare fundamentals data to be merged with index_data\n",
    "fundamentals = fundamentals.iloc[238:4672] # remove rows at beginning with missing data, and select only data for timesteps matching index_data\n",
    "fundamentals = fundamentals.drop(columns=['Last Price'])\n",
    "fundementals = fundamentals.rename(columns={'Unnamed: 0': 'Date'})\n",
    "fundementals['Date'] = pd.to_datetime(fundementals['Date'])\n",
    "fundementals = fundementals.set_index('Date')\n",
    "fundementals"
   ],
   "metadata": {
    "collapsed": false,
    "ExecuteTime": {
     "end_time": "2023-12-15T14:27:07.073125Z",
     "start_time": "2023-12-15T14:27:07.068438Z"
    }
   }
  },
  {
   "cell_type": "code",
   "execution_count": 10,
   "outputs": [
    {
     "data": {
      "text/plain": "Index Enterprise Value               0\nAdjusted Price/Earnings ratio        0\nAdjusted Price/Estimated Earnings    0\nBEst Div Yld                         0\nTotal Debt to Total Equity           0\nCurrent Market Cap                   0\nProfit Margin                        0\ndtype: int64"
     },
     "execution_count": 10,
     "metadata": {},
     "output_type": "execute_result"
    }
   ],
   "source": [
    "# check for missing values\n",
    "fundementals.isna().sum()"
   ],
   "metadata": {
    "collapsed": false,
    "ExecuteTime": {
     "end_time": "2023-12-15T14:27:07.091031Z",
     "start_time": "2023-12-15T14:27:07.077909Z"
    }
   }
  },
  {
   "cell_type": "code",
   "execution_count": 11,
   "outputs": [
    {
     "data": {
      "text/plain": "                Price        GDP   RATE_10  URATE         CPI      PPI  \\\n2006-11-07   1.743284  3557633.0  2.199885    4.5   85.366591  164.600   \n2006-11-08   1.743284  3557633.0  2.199885    4.5   85.366591  164.600   \n2006-11-09   1.743284  3557633.0  2.199885    4.5   85.366591  164.600   \n2006-11-10   1.747295  3557633.0  2.199885    4.5   85.366591  164.600   \n2006-11-13   1.747295  3557633.0  2.199885    4.5   85.366591  164.600   \n...               ...        ...       ...    ...         ...      ...   \n2023-10-25  29.120001  6928858.0  2.082461    3.9  129.118446  255.463   \n2023-10-26  29.020000  6928858.0  2.082461    3.9  129.118446  255.463   \n2023-10-27  28.559999  6928858.0  2.082461    3.9  129.118446  255.463   \n2023-10-30  28.910000  6928858.0  2.082461    3.9  129.118446  255.463   \n2023-10-31  29.049999  6928858.0  2.082461    3.9  129.118446  255.463   \n\n             HOUSE  SAVE Index Enterprise Value Adjusted Price/Earnings ratio  \\\n2006-11-07  1570.0   2.7              2112.1243                        9.6442   \n2006-11-08  1570.0   2.7              2122.9425                        9.7067   \n2006-11-09  1570.0   2.7              2116.7542                        9.6709   \n2006-11-10  1570.0   2.7              2118.6522                        9.6819   \n2006-11-13  1570.0   2.7              2116.3033                        9.6683   \n...            ...   ...                    ...                           ...   \n2023-10-25  1372.0   3.8              6645.8868                       15.7161   \n2023-10-26  1372.0   3.8              6628.8768                       15.6644   \n2023-10-27  1372.0   3.8              6550.3068                       15.4255   \n2023-10-30  1372.0   3.8              6609.9668                       15.6069   \n2023-10-31  1372.0   3.8              6634.3468                        15.681   \n\n           Adjusted Price/Estimated Earnings BEst Div Yld  \\\n2006-11-07                           19.7364       1.9466   \n2006-11-08                           19.8696       1.9357   \n2006-11-09                            19.796       1.9406   \n2006-11-10                           19.8196       1.9375   \n2006-11-13                           19.8379       1.9402   \n...                                      ...          ...   \n2023-10-25                            15.997       3.1342   \n2023-10-26                           15.9387       3.1371   \n2023-10-27                            15.685       3.1845   \n2023-10-30                           15.8603       3.1553   \n2023-10-31                           15.9343        3.139   \n\n           Total Debt to Total Equity Current Market Cap Profit Margin  \n2006-11-07                   105.0283         1284884.54        4.0568  \n2006-11-08                   105.0283         1290784.26        4.0568  \n2006-11-09                   105.0283         1277823.39        4.0568  \n2006-11-10                   105.0283         1278345.03        4.0568  \n2006-11-13                   105.0283         1272948.74        4.0568  \n...                               ...                ...           ...  \n2023-10-25                    98.9909         2639057.02        3.6098  \n2023-10-26                    98.9909         2622045.95        3.6098  \n2023-10-27                    98.9909         2588702.38        3.6098  \n2023-10-30                    98.9909          2627660.6        3.6098  \n2023-10-31                    98.9909         2637450.62        3.6098  \n\n[4274 rows x 15 columns]",
      "text/html": "<div>\n<style scoped>\n    .dataframe tbody tr th:only-of-type {\n        vertical-align: middle;\n    }\n\n    .dataframe tbody tr th {\n        vertical-align: top;\n    }\n\n    .dataframe thead th {\n        text-align: right;\n    }\n</style>\n<table border=\"1\" class=\"dataframe\">\n  <thead>\n    <tr style=\"text-align: right;\">\n      <th></th>\n      <th>Price</th>\n      <th>GDP</th>\n      <th>RATE_10</th>\n      <th>URATE</th>\n      <th>CPI</th>\n      <th>PPI</th>\n      <th>HOUSE</th>\n      <th>SAVE</th>\n      <th>Index Enterprise Value</th>\n      <th>Adjusted Price/Earnings ratio</th>\n      <th>Adjusted Price/Estimated Earnings</th>\n      <th>BEst Div Yld</th>\n      <th>Total Debt to Total Equity</th>\n      <th>Current Market Cap</th>\n      <th>Profit Margin</th>\n    </tr>\n  </thead>\n  <tbody>\n    <tr>\n      <th>2006-11-07</th>\n      <td>1.743284</td>\n      <td>3557633.0</td>\n      <td>2.199885</td>\n      <td>4.5</td>\n      <td>85.366591</td>\n      <td>164.600</td>\n      <td>1570.0</td>\n      <td>2.7</td>\n      <td>2112.1243</td>\n      <td>9.6442</td>\n      <td>19.7364</td>\n      <td>1.9466</td>\n      <td>105.0283</td>\n      <td>1284884.54</td>\n      <td>4.0568</td>\n    </tr>\n    <tr>\n      <th>2006-11-08</th>\n      <td>1.743284</td>\n      <td>3557633.0</td>\n      <td>2.199885</td>\n      <td>4.5</td>\n      <td>85.366591</td>\n      <td>164.600</td>\n      <td>1570.0</td>\n      <td>2.7</td>\n      <td>2122.9425</td>\n      <td>9.7067</td>\n      <td>19.8696</td>\n      <td>1.9357</td>\n      <td>105.0283</td>\n      <td>1290784.26</td>\n      <td>4.0568</td>\n    </tr>\n    <tr>\n      <th>2006-11-09</th>\n      <td>1.743284</td>\n      <td>3557633.0</td>\n      <td>2.199885</td>\n      <td>4.5</td>\n      <td>85.366591</td>\n      <td>164.600</td>\n      <td>1570.0</td>\n      <td>2.7</td>\n      <td>2116.7542</td>\n      <td>9.6709</td>\n      <td>19.796</td>\n      <td>1.9406</td>\n      <td>105.0283</td>\n      <td>1277823.39</td>\n      <td>4.0568</td>\n    </tr>\n    <tr>\n      <th>2006-11-10</th>\n      <td>1.747295</td>\n      <td>3557633.0</td>\n      <td>2.199885</td>\n      <td>4.5</td>\n      <td>85.366591</td>\n      <td>164.600</td>\n      <td>1570.0</td>\n      <td>2.7</td>\n      <td>2118.6522</td>\n      <td>9.6819</td>\n      <td>19.8196</td>\n      <td>1.9375</td>\n      <td>105.0283</td>\n      <td>1278345.03</td>\n      <td>4.0568</td>\n    </tr>\n    <tr>\n      <th>2006-11-13</th>\n      <td>1.747295</td>\n      <td>3557633.0</td>\n      <td>2.199885</td>\n      <td>4.5</td>\n      <td>85.366591</td>\n      <td>164.600</td>\n      <td>1570.0</td>\n      <td>2.7</td>\n      <td>2116.3033</td>\n      <td>9.6683</td>\n      <td>19.8379</td>\n      <td>1.9402</td>\n      <td>105.0283</td>\n      <td>1272948.74</td>\n      <td>4.0568</td>\n    </tr>\n    <tr>\n      <th>...</th>\n      <td>...</td>\n      <td>...</td>\n      <td>...</td>\n      <td>...</td>\n      <td>...</td>\n      <td>...</td>\n      <td>...</td>\n      <td>...</td>\n      <td>...</td>\n      <td>...</td>\n      <td>...</td>\n      <td>...</td>\n      <td>...</td>\n      <td>...</td>\n      <td>...</td>\n    </tr>\n    <tr>\n      <th>2023-10-25</th>\n      <td>29.120001</td>\n      <td>6928858.0</td>\n      <td>2.082461</td>\n      <td>3.9</td>\n      <td>129.118446</td>\n      <td>255.463</td>\n      <td>1372.0</td>\n      <td>3.8</td>\n      <td>6645.8868</td>\n      <td>15.7161</td>\n      <td>15.997</td>\n      <td>3.1342</td>\n      <td>98.9909</td>\n      <td>2639057.02</td>\n      <td>3.6098</td>\n    </tr>\n    <tr>\n      <th>2023-10-26</th>\n      <td>29.020000</td>\n      <td>6928858.0</td>\n      <td>2.082461</td>\n      <td>3.9</td>\n      <td>129.118446</td>\n      <td>255.463</td>\n      <td>1372.0</td>\n      <td>3.8</td>\n      <td>6628.8768</td>\n      <td>15.6644</td>\n      <td>15.9387</td>\n      <td>3.1371</td>\n      <td>98.9909</td>\n      <td>2622045.95</td>\n      <td>3.6098</td>\n    </tr>\n    <tr>\n      <th>2023-10-27</th>\n      <td>28.559999</td>\n      <td>6928858.0</td>\n      <td>2.082461</td>\n      <td>3.9</td>\n      <td>129.118446</td>\n      <td>255.463</td>\n      <td>1372.0</td>\n      <td>3.8</td>\n      <td>6550.3068</td>\n      <td>15.4255</td>\n      <td>15.685</td>\n      <td>3.1845</td>\n      <td>98.9909</td>\n      <td>2588702.38</td>\n      <td>3.6098</td>\n    </tr>\n    <tr>\n      <th>2023-10-30</th>\n      <td>28.910000</td>\n      <td>6928858.0</td>\n      <td>2.082461</td>\n      <td>3.9</td>\n      <td>129.118446</td>\n      <td>255.463</td>\n      <td>1372.0</td>\n      <td>3.8</td>\n      <td>6609.9668</td>\n      <td>15.6069</td>\n      <td>15.8603</td>\n      <td>3.1553</td>\n      <td>98.9909</td>\n      <td>2627660.6</td>\n      <td>3.6098</td>\n    </tr>\n    <tr>\n      <th>2023-10-31</th>\n      <td>29.049999</td>\n      <td>6928858.0</td>\n      <td>2.082461</td>\n      <td>3.9</td>\n      <td>129.118446</td>\n      <td>255.463</td>\n      <td>1372.0</td>\n      <td>3.8</td>\n      <td>6634.3468</td>\n      <td>15.681</td>\n      <td>15.9343</td>\n      <td>3.139</td>\n      <td>98.9909</td>\n      <td>2637450.62</td>\n      <td>3.6098</td>\n    </tr>\n  </tbody>\n</table>\n<p>4274 rows × 15 columns</p>\n</div>"
     },
     "execution_count": 11,
     "metadata": {},
     "output_type": "execute_result"
    }
   ],
   "source": [
    "# merge index_data and fundementals\n",
    "# index_data now has all the data we need for the index (price, macro, and fundamental data)\n",
    "index_data = index_data.merge(fundementals, how='left', left_index=True, right_index=True)\n",
    "index_data"
   ],
   "metadata": {
    "collapsed": false,
    "ExecuteTime": {
     "end_time": "2023-12-15T14:27:07.168175Z",
     "start_time": "2023-12-15T14:27:07.082986Z"
    }
   }
  },
  {
   "cell_type": "code",
   "execution_count": 12,
   "outputs": [
    {
     "data": {
      "text/plain": "                Price        GDP   RATE_10  URATE         CPI      PPI  \\\n2006-11-07   1.743284  3557633.0  2.199885    4.5   85.366591  164.600   \n2006-11-08   1.743284  3557633.0  2.199885    4.5   85.366591  164.600   \n2006-11-09   1.743284  3557633.0  2.199885    4.5   85.366591  164.600   \n2006-11-10   1.747295  3557633.0  2.199885    4.5   85.366591  164.600   \n2006-11-13   1.747295  3557633.0  2.199885    4.5   85.366591  164.600   \n...               ...        ...       ...    ...         ...      ...   \n2023-10-25  29.120001  6928858.0  2.082461    3.9  129.118446  255.463   \n2023-10-26  29.020000  6928858.0  2.082461    3.9  129.118446  255.463   \n2023-10-27  28.559999  6928858.0  2.082461    3.9  129.118446  255.463   \n2023-10-30  28.910000  6928858.0  2.082461    3.9  129.118446  255.463   \n2023-10-31  29.049999  6928858.0  2.082461    3.9  129.118446  255.463   \n\n             HOUSE  SAVE Index Enterprise Value Adjusted Price/Earnings ratio  \\\n2006-11-07  1570.0   2.7              2112.1243                        9.6442   \n2006-11-08  1570.0   2.7              2122.9425                        9.7067   \n2006-11-09  1570.0   2.7              2116.7542                        9.6709   \n2006-11-10  1570.0   2.7              2118.6522                        9.6819   \n2006-11-13  1570.0   2.7              2116.3033                        9.6683   \n...            ...   ...                    ...                           ...   \n2023-10-25  1372.0   3.8              6645.8868                       15.7161   \n2023-10-26  1372.0   3.8              6628.8768                       15.6644   \n2023-10-27  1372.0   3.8              6550.3068                       15.4255   \n2023-10-30  1372.0   3.8              6609.9668                       15.6069   \n2023-10-31  1372.0   3.8              6634.3468                        15.681   \n\n            ...    SMA_60d    EMA_10d    EMA_20d    EMA_60d   MOM_10d  \\\n2006-11-07  ...        NaN        NaN        NaN        NaN       NaN   \n2006-11-08  ...        NaN        NaN        NaN        NaN       NaN   \n2006-11-09  ...        NaN        NaN        NaN        NaN       NaN   \n2006-11-10  ...        NaN        NaN        NaN        NaN       NaN   \n2006-11-13  ...        NaN        NaN        NaN        NaN       NaN   \n...         ...        ...        ...        ...        ...       ...   \n2023-10-25  ...  31.056868  28.991930  29.305068  30.653225  0.170000   \n2023-10-26  ...  30.976594  28.997033  29.277919  30.599677  0.620001   \n2023-10-27  ...  30.889978  28.917573  29.209546  30.532802 -0.110001   \n2023-10-30  ...  30.813828  28.916196  29.181018  30.479595 -0.059999   \n2023-10-31  ...  30.737695  28.940524  29.168540  30.432723 -0.120001   \n\n             MOM_20d   MOM_60d    RSI_10d    RSI_20d    RSI_60d  \n2006-11-07       NaN       NaN        NaN        NaN        NaN  \n2006-11-08       NaN       NaN        NaN        NaN        NaN  \n2006-11-09       NaN       NaN        NaN        NaN        NaN  \n2006-11-10       NaN       NaN        NaN        NaN        NaN  \n2006-11-13       NaN       NaN        NaN        NaN        NaN  \n...              ...       ...        ...        ...        ...  \n2023-10-25 -0.809999 -4.557558  46.073209  38.395811  39.246621  \n2023-10-26 -0.980000 -4.816418  43.738261  37.439669  38.901081  \n2023-10-27 -1.480001 -5.196989  34.739759  33.411001  37.362269  \n2023-10-30 -0.750000 -4.568993  44.408773  38.694427  39.222537  \n2023-10-31 -0.390001 -4.567993  47.843239  40.676298  39.948014  \n\n[4274 rows x 27 columns]",
      "text/html": "<div>\n<style scoped>\n    .dataframe tbody tr th:only-of-type {\n        vertical-align: middle;\n    }\n\n    .dataframe tbody tr th {\n        vertical-align: top;\n    }\n\n    .dataframe thead th {\n        text-align: right;\n    }\n</style>\n<table border=\"1\" class=\"dataframe\">\n  <thead>\n    <tr style=\"text-align: right;\">\n      <th></th>\n      <th>Price</th>\n      <th>GDP</th>\n      <th>RATE_10</th>\n      <th>URATE</th>\n      <th>CPI</th>\n      <th>PPI</th>\n      <th>HOUSE</th>\n      <th>SAVE</th>\n      <th>Index Enterprise Value</th>\n      <th>Adjusted Price/Earnings ratio</th>\n      <th>...</th>\n      <th>SMA_60d</th>\n      <th>EMA_10d</th>\n      <th>EMA_20d</th>\n      <th>EMA_60d</th>\n      <th>MOM_10d</th>\n      <th>MOM_20d</th>\n      <th>MOM_60d</th>\n      <th>RSI_10d</th>\n      <th>RSI_20d</th>\n      <th>RSI_60d</th>\n    </tr>\n  </thead>\n  <tbody>\n    <tr>\n      <th>2006-11-07</th>\n      <td>1.743284</td>\n      <td>3557633.0</td>\n      <td>2.199885</td>\n      <td>4.5</td>\n      <td>85.366591</td>\n      <td>164.600</td>\n      <td>1570.0</td>\n      <td>2.7</td>\n      <td>2112.1243</td>\n      <td>9.6442</td>\n      <td>...</td>\n      <td>NaN</td>\n      <td>NaN</td>\n      <td>NaN</td>\n      <td>NaN</td>\n      <td>NaN</td>\n      <td>NaN</td>\n      <td>NaN</td>\n      <td>NaN</td>\n      <td>NaN</td>\n      <td>NaN</td>\n    </tr>\n    <tr>\n      <th>2006-11-08</th>\n      <td>1.743284</td>\n      <td>3557633.0</td>\n      <td>2.199885</td>\n      <td>4.5</td>\n      <td>85.366591</td>\n      <td>164.600</td>\n      <td>1570.0</td>\n      <td>2.7</td>\n      <td>2122.9425</td>\n      <td>9.7067</td>\n      <td>...</td>\n      <td>NaN</td>\n      <td>NaN</td>\n      <td>NaN</td>\n      <td>NaN</td>\n      <td>NaN</td>\n      <td>NaN</td>\n      <td>NaN</td>\n      <td>NaN</td>\n      <td>NaN</td>\n      <td>NaN</td>\n    </tr>\n    <tr>\n      <th>2006-11-09</th>\n      <td>1.743284</td>\n      <td>3557633.0</td>\n      <td>2.199885</td>\n      <td>4.5</td>\n      <td>85.366591</td>\n      <td>164.600</td>\n      <td>1570.0</td>\n      <td>2.7</td>\n      <td>2116.7542</td>\n      <td>9.6709</td>\n      <td>...</td>\n      <td>NaN</td>\n      <td>NaN</td>\n      <td>NaN</td>\n      <td>NaN</td>\n      <td>NaN</td>\n      <td>NaN</td>\n      <td>NaN</td>\n      <td>NaN</td>\n      <td>NaN</td>\n      <td>NaN</td>\n    </tr>\n    <tr>\n      <th>2006-11-10</th>\n      <td>1.747295</td>\n      <td>3557633.0</td>\n      <td>2.199885</td>\n      <td>4.5</td>\n      <td>85.366591</td>\n      <td>164.600</td>\n      <td>1570.0</td>\n      <td>2.7</td>\n      <td>2118.6522</td>\n      <td>9.6819</td>\n      <td>...</td>\n      <td>NaN</td>\n      <td>NaN</td>\n      <td>NaN</td>\n      <td>NaN</td>\n      <td>NaN</td>\n      <td>NaN</td>\n      <td>NaN</td>\n      <td>NaN</td>\n      <td>NaN</td>\n      <td>NaN</td>\n    </tr>\n    <tr>\n      <th>2006-11-13</th>\n      <td>1.747295</td>\n      <td>3557633.0</td>\n      <td>2.199885</td>\n      <td>4.5</td>\n      <td>85.366591</td>\n      <td>164.600</td>\n      <td>1570.0</td>\n      <td>2.7</td>\n      <td>2116.3033</td>\n      <td>9.6683</td>\n      <td>...</td>\n      <td>NaN</td>\n      <td>NaN</td>\n      <td>NaN</td>\n      <td>NaN</td>\n      <td>NaN</td>\n      <td>NaN</td>\n      <td>NaN</td>\n      <td>NaN</td>\n      <td>NaN</td>\n      <td>NaN</td>\n    </tr>\n    <tr>\n      <th>...</th>\n      <td>...</td>\n      <td>...</td>\n      <td>...</td>\n      <td>...</td>\n      <td>...</td>\n      <td>...</td>\n      <td>...</td>\n      <td>...</td>\n      <td>...</td>\n      <td>...</td>\n      <td>...</td>\n      <td>...</td>\n      <td>...</td>\n      <td>...</td>\n      <td>...</td>\n      <td>...</td>\n      <td>...</td>\n      <td>...</td>\n      <td>...</td>\n      <td>...</td>\n      <td>...</td>\n    </tr>\n    <tr>\n      <th>2023-10-25</th>\n      <td>29.120001</td>\n      <td>6928858.0</td>\n      <td>2.082461</td>\n      <td>3.9</td>\n      <td>129.118446</td>\n      <td>255.463</td>\n      <td>1372.0</td>\n      <td>3.8</td>\n      <td>6645.8868</td>\n      <td>15.7161</td>\n      <td>...</td>\n      <td>31.056868</td>\n      <td>28.991930</td>\n      <td>29.305068</td>\n      <td>30.653225</td>\n      <td>0.170000</td>\n      <td>-0.809999</td>\n      <td>-4.557558</td>\n      <td>46.073209</td>\n      <td>38.395811</td>\n      <td>39.246621</td>\n    </tr>\n    <tr>\n      <th>2023-10-26</th>\n      <td>29.020000</td>\n      <td>6928858.0</td>\n      <td>2.082461</td>\n      <td>3.9</td>\n      <td>129.118446</td>\n      <td>255.463</td>\n      <td>1372.0</td>\n      <td>3.8</td>\n      <td>6628.8768</td>\n      <td>15.6644</td>\n      <td>...</td>\n      <td>30.976594</td>\n      <td>28.997033</td>\n      <td>29.277919</td>\n      <td>30.599677</td>\n      <td>0.620001</td>\n      <td>-0.980000</td>\n      <td>-4.816418</td>\n      <td>43.738261</td>\n      <td>37.439669</td>\n      <td>38.901081</td>\n    </tr>\n    <tr>\n      <th>2023-10-27</th>\n      <td>28.559999</td>\n      <td>6928858.0</td>\n      <td>2.082461</td>\n      <td>3.9</td>\n      <td>129.118446</td>\n      <td>255.463</td>\n      <td>1372.0</td>\n      <td>3.8</td>\n      <td>6550.3068</td>\n      <td>15.4255</td>\n      <td>...</td>\n      <td>30.889978</td>\n      <td>28.917573</td>\n      <td>29.209546</td>\n      <td>30.532802</td>\n      <td>-0.110001</td>\n      <td>-1.480001</td>\n      <td>-5.196989</td>\n      <td>34.739759</td>\n      <td>33.411001</td>\n      <td>37.362269</td>\n    </tr>\n    <tr>\n      <th>2023-10-30</th>\n      <td>28.910000</td>\n      <td>6928858.0</td>\n      <td>2.082461</td>\n      <td>3.9</td>\n      <td>129.118446</td>\n      <td>255.463</td>\n      <td>1372.0</td>\n      <td>3.8</td>\n      <td>6609.9668</td>\n      <td>15.6069</td>\n      <td>...</td>\n      <td>30.813828</td>\n      <td>28.916196</td>\n      <td>29.181018</td>\n      <td>30.479595</td>\n      <td>-0.059999</td>\n      <td>-0.750000</td>\n      <td>-4.568993</td>\n      <td>44.408773</td>\n      <td>38.694427</td>\n      <td>39.222537</td>\n    </tr>\n    <tr>\n      <th>2023-10-31</th>\n      <td>29.049999</td>\n      <td>6928858.0</td>\n      <td>2.082461</td>\n      <td>3.9</td>\n      <td>129.118446</td>\n      <td>255.463</td>\n      <td>1372.0</td>\n      <td>3.8</td>\n      <td>6634.3468</td>\n      <td>15.681</td>\n      <td>...</td>\n      <td>30.737695</td>\n      <td>28.940524</td>\n      <td>29.168540</td>\n      <td>30.432723</td>\n      <td>-0.120001</td>\n      <td>-0.390001</td>\n      <td>-4.567993</td>\n      <td>47.843239</td>\n      <td>40.676298</td>\n      <td>39.948014</td>\n    </tr>\n  </tbody>\n</table>\n<p>4274 rows × 27 columns</p>\n</div>"
     },
     "execution_count": 12,
     "metadata": {},
     "output_type": "execute_result"
    }
   ],
   "source": [
    "# use price column to create technical features (moving averages, momentum, etc.)\n",
    "import talib as ta\n",
    "\n",
    "# 10, 20, and 60 day moving averages\n",
    "index_data['SMA_10d'] = ta.SMA(index_data['Price'], timeperiod=10)\n",
    "index_data['SMA_20d'] = ta.SMA(index_data['Price'], timeperiod=20)\n",
    "index_data['SMA_60d'] = ta.SMA(index_data['Price'], timeperiod=60)\n",
    "\n",
    "# exponential moving averages\n",
    "index_data['EMA_10d'] = ta.EMA(index_data['Price'], timeperiod=10)\n",
    "index_data['EMA_20d'] = ta.EMA(index_data['Price'], timeperiod=20)\n",
    "index_data['EMA_60d'] = ta.EMA(index_data['Price'], timeperiod=60)\n",
    "\n",
    "# momentum\n",
    "index_data['MOM_10d'] = ta.MOM(index_data['Price'], timeperiod=10)\n",
    "index_data['MOM_20d'] = ta.MOM(index_data['Price'], timeperiod=20)\n",
    "index_data['MOM_60d'] = ta.MOM(index_data['Price'], timeperiod=60)\n",
    "\n",
    "# relative strength index\n",
    "index_data['RSI_10d'] = ta.RSI(index_data['Price'], timeperiod=10)\n",
    "index_data['RSI_20d'] = ta.RSI(index_data['Price'], timeperiod=20)\n",
    "index_data['RSI_60d'] = ta.RSI(index_data['Price'], timeperiod=60)\n",
    "\n",
    "index_data"
   ],
   "metadata": {
    "collapsed": false,
    "ExecuteTime": {
     "end_time": "2023-12-15T14:27:07.295521Z",
     "start_time": "2023-12-15T14:27:07.107952Z"
    }
   }
  },
  {
   "cell_type": "code",
   "execution_count": 14,
   "outputs": [],
   "source": [
    "# save index data as csv\n",
    "index_data.to_csv('data/index_data.csv')"
   ],
   "metadata": {
    "collapsed": false,
    "ExecuteTime": {
     "end_time": "2023-12-15T14:28:39.728381Z",
     "start_time": "2023-12-15T14:28:39.597349Z"
    }
   }
  }
 ],
 "metadata": {
  "kernelspec": {
   "name": "quant_env",
   "language": "python",
   "display_name": "quant_env"
  },
  "language_info": {
   "codemirror_mode": {
    "name": "ipython",
    "version": 2
   },
   "file_extension": ".py",
   "mimetype": "text/x-python",
   "name": "python",
   "nbconvert_exporter": "python",
   "pygments_lexer": "ipython2",
   "version": "2.7.6"
  }
 },
 "nbformat": 4,
 "nbformat_minor": 0
}
