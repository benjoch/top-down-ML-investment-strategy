{
 "cells": [
  {
   "cell_type": "markdown",
   "source": [
    "# Overview: SVM Model Building"
   ],
   "metadata": {
    "collapsed": false
   }
  },
  {
   "cell_type": "code",
   "execution_count": 660,
   "outputs": [
    {
     "data": {
      "text/plain": "            date      Price        GDP   RATE_10  URATE         CPI      PPI  \\\n0     2006-11-07   1.743284  3557633.0  2.199885    4.5   85.366591  164.600   \n1     2006-11-08   1.743284  3557633.0  2.199885    4.5   85.366591  164.600   \n2     2006-11-09   1.743284  3557633.0  2.199885    4.5   85.366591  164.600   \n3     2006-11-10   1.747295  3557633.0  2.199885    4.5   85.366591  164.600   \n4     2006-11-13   1.747295  3557633.0  2.199885    4.5   85.366591  164.600   \n...          ...        ...        ...       ...    ...         ...      ...   \n4269  2023-10-25  29.120001  6928858.0  2.082461    3.9  129.118446  255.463   \n4270  2023-10-26  29.020000  6928858.0  2.082461    3.9  129.118446  255.463   \n4271  2023-10-27  28.559999  6928858.0  2.082461    3.9  129.118446  255.463   \n4272  2023-10-30  28.910000  6928858.0  2.082461    3.9  129.118446  255.463   \n4273  2023-10-31  29.049999  6928858.0  2.082461    3.9  129.118446  255.463   \n\n       HOUSE  SAVE  Index Enterprise Value  ...    SMA_60d    EMA_10d  \\\n0     1570.0   2.7               2112.1243  ...        NaN        NaN   \n1     1570.0   2.7               2122.9425  ...        NaN        NaN   \n2     1570.0   2.7               2116.7542  ...        NaN        NaN   \n3     1570.0   2.7               2118.6522  ...        NaN        NaN   \n4     1570.0   2.7               2116.3033  ...        NaN        NaN   \n...      ...   ...                     ...  ...        ...        ...   \n4269  1372.0   3.8               6645.8868  ...  31.056868  28.991930   \n4270  1372.0   3.8               6628.8768  ...  30.976594  28.997033   \n4271  1372.0   3.8               6550.3068  ...  30.889978  28.917573   \n4272  1372.0   3.8               6609.9668  ...  30.813828  28.916196   \n4273  1372.0   3.8               6634.3468  ...  30.737695  28.940524   \n\n        EMA_20d    EMA_60d   MOM_10d   MOM_20d   MOM_60d    RSI_10d  \\\n0           NaN        NaN       NaN       NaN       NaN        NaN   \n1           NaN        NaN       NaN       NaN       NaN        NaN   \n2           NaN        NaN       NaN       NaN       NaN        NaN   \n3           NaN        NaN       NaN       NaN       NaN        NaN   \n4           NaN        NaN       NaN       NaN       NaN        NaN   \n...         ...        ...       ...       ...       ...        ...   \n4269  29.305068  30.653225  0.170000 -0.809999 -4.557558  46.073209   \n4270  29.277919  30.599677  0.620001 -0.980000 -4.816418  43.738261   \n4271  29.209546  30.532802 -0.110001 -1.480001 -5.196989  34.739759   \n4272  29.181018  30.479595 -0.059999 -0.750000 -4.568993  44.408773   \n4273  29.168540  30.432723 -0.120001 -0.390001 -4.567993  47.843239   \n\n        RSI_20d    RSI_60d  \n0           NaN        NaN  \n1           NaN        NaN  \n2           NaN        NaN  \n3           NaN        NaN  \n4           NaN        NaN  \n...         ...        ...  \n4269  38.395811  39.246621  \n4270  37.439669  38.901081  \n4271  33.411001  37.362269  \n4272  38.694427  39.222537  \n4273  40.676298  39.948014  \n\n[4274 rows x 28 columns]",
      "text/html": "<div>\n<style scoped>\n    .dataframe tbody tr th:only-of-type {\n        vertical-align: middle;\n    }\n\n    .dataframe tbody tr th {\n        vertical-align: top;\n    }\n\n    .dataframe thead th {\n        text-align: right;\n    }\n</style>\n<table border=\"1\" class=\"dataframe\">\n  <thead>\n    <tr style=\"text-align: right;\">\n      <th></th>\n      <th>date</th>\n      <th>Price</th>\n      <th>GDP</th>\n      <th>RATE_10</th>\n      <th>URATE</th>\n      <th>CPI</th>\n      <th>PPI</th>\n      <th>HOUSE</th>\n      <th>SAVE</th>\n      <th>Index Enterprise Value</th>\n      <th>...</th>\n      <th>SMA_60d</th>\n      <th>EMA_10d</th>\n      <th>EMA_20d</th>\n      <th>EMA_60d</th>\n      <th>MOM_10d</th>\n      <th>MOM_20d</th>\n      <th>MOM_60d</th>\n      <th>RSI_10d</th>\n      <th>RSI_20d</th>\n      <th>RSI_60d</th>\n    </tr>\n  </thead>\n  <tbody>\n    <tr>\n      <th>0</th>\n      <td>2006-11-07</td>\n      <td>1.743284</td>\n      <td>3557633.0</td>\n      <td>2.199885</td>\n      <td>4.5</td>\n      <td>85.366591</td>\n      <td>164.600</td>\n      <td>1570.0</td>\n      <td>2.7</td>\n      <td>2112.1243</td>\n      <td>...</td>\n      <td>NaN</td>\n      <td>NaN</td>\n      <td>NaN</td>\n      <td>NaN</td>\n      <td>NaN</td>\n      <td>NaN</td>\n      <td>NaN</td>\n      <td>NaN</td>\n      <td>NaN</td>\n      <td>NaN</td>\n    </tr>\n    <tr>\n      <th>1</th>\n      <td>2006-11-08</td>\n      <td>1.743284</td>\n      <td>3557633.0</td>\n      <td>2.199885</td>\n      <td>4.5</td>\n      <td>85.366591</td>\n      <td>164.600</td>\n      <td>1570.0</td>\n      <td>2.7</td>\n      <td>2122.9425</td>\n      <td>...</td>\n      <td>NaN</td>\n      <td>NaN</td>\n      <td>NaN</td>\n      <td>NaN</td>\n      <td>NaN</td>\n      <td>NaN</td>\n      <td>NaN</td>\n      <td>NaN</td>\n      <td>NaN</td>\n      <td>NaN</td>\n    </tr>\n    <tr>\n      <th>2</th>\n      <td>2006-11-09</td>\n      <td>1.743284</td>\n      <td>3557633.0</td>\n      <td>2.199885</td>\n      <td>4.5</td>\n      <td>85.366591</td>\n      <td>164.600</td>\n      <td>1570.0</td>\n      <td>2.7</td>\n      <td>2116.7542</td>\n      <td>...</td>\n      <td>NaN</td>\n      <td>NaN</td>\n      <td>NaN</td>\n      <td>NaN</td>\n      <td>NaN</td>\n      <td>NaN</td>\n      <td>NaN</td>\n      <td>NaN</td>\n      <td>NaN</td>\n      <td>NaN</td>\n    </tr>\n    <tr>\n      <th>3</th>\n      <td>2006-11-10</td>\n      <td>1.747295</td>\n      <td>3557633.0</td>\n      <td>2.199885</td>\n      <td>4.5</td>\n      <td>85.366591</td>\n      <td>164.600</td>\n      <td>1570.0</td>\n      <td>2.7</td>\n      <td>2118.6522</td>\n      <td>...</td>\n      <td>NaN</td>\n      <td>NaN</td>\n      <td>NaN</td>\n      <td>NaN</td>\n      <td>NaN</td>\n      <td>NaN</td>\n      <td>NaN</td>\n      <td>NaN</td>\n      <td>NaN</td>\n      <td>NaN</td>\n    </tr>\n    <tr>\n      <th>4</th>\n      <td>2006-11-13</td>\n      <td>1.747295</td>\n      <td>3557633.0</td>\n      <td>2.199885</td>\n      <td>4.5</td>\n      <td>85.366591</td>\n      <td>164.600</td>\n      <td>1570.0</td>\n      <td>2.7</td>\n      <td>2116.3033</td>\n      <td>...</td>\n      <td>NaN</td>\n      <td>NaN</td>\n      <td>NaN</td>\n      <td>NaN</td>\n      <td>NaN</td>\n      <td>NaN</td>\n      <td>NaN</td>\n      <td>NaN</td>\n      <td>NaN</td>\n      <td>NaN</td>\n    </tr>\n    <tr>\n      <th>...</th>\n      <td>...</td>\n      <td>...</td>\n      <td>...</td>\n      <td>...</td>\n      <td>...</td>\n      <td>...</td>\n      <td>...</td>\n      <td>...</td>\n      <td>...</td>\n      <td>...</td>\n      <td>...</td>\n      <td>...</td>\n      <td>...</td>\n      <td>...</td>\n      <td>...</td>\n      <td>...</td>\n      <td>...</td>\n      <td>...</td>\n      <td>...</td>\n      <td>...</td>\n      <td>...</td>\n    </tr>\n    <tr>\n      <th>4269</th>\n      <td>2023-10-25</td>\n      <td>29.120001</td>\n      <td>6928858.0</td>\n      <td>2.082461</td>\n      <td>3.9</td>\n      <td>129.118446</td>\n      <td>255.463</td>\n      <td>1372.0</td>\n      <td>3.8</td>\n      <td>6645.8868</td>\n      <td>...</td>\n      <td>31.056868</td>\n      <td>28.991930</td>\n      <td>29.305068</td>\n      <td>30.653225</td>\n      <td>0.170000</td>\n      <td>-0.809999</td>\n      <td>-4.557558</td>\n      <td>46.073209</td>\n      <td>38.395811</td>\n      <td>39.246621</td>\n    </tr>\n    <tr>\n      <th>4270</th>\n      <td>2023-10-26</td>\n      <td>29.020000</td>\n      <td>6928858.0</td>\n      <td>2.082461</td>\n      <td>3.9</td>\n      <td>129.118446</td>\n      <td>255.463</td>\n      <td>1372.0</td>\n      <td>3.8</td>\n      <td>6628.8768</td>\n      <td>...</td>\n      <td>30.976594</td>\n      <td>28.997033</td>\n      <td>29.277919</td>\n      <td>30.599677</td>\n      <td>0.620001</td>\n      <td>-0.980000</td>\n      <td>-4.816418</td>\n      <td>43.738261</td>\n      <td>37.439669</td>\n      <td>38.901081</td>\n    </tr>\n    <tr>\n      <th>4271</th>\n      <td>2023-10-27</td>\n      <td>28.559999</td>\n      <td>6928858.0</td>\n      <td>2.082461</td>\n      <td>3.9</td>\n      <td>129.118446</td>\n      <td>255.463</td>\n      <td>1372.0</td>\n      <td>3.8</td>\n      <td>6550.3068</td>\n      <td>...</td>\n      <td>30.889978</td>\n      <td>28.917573</td>\n      <td>29.209546</td>\n      <td>30.532802</td>\n      <td>-0.110001</td>\n      <td>-1.480001</td>\n      <td>-5.196989</td>\n      <td>34.739759</td>\n      <td>33.411001</td>\n      <td>37.362269</td>\n    </tr>\n    <tr>\n      <th>4272</th>\n      <td>2023-10-30</td>\n      <td>28.910000</td>\n      <td>6928858.0</td>\n      <td>2.082461</td>\n      <td>3.9</td>\n      <td>129.118446</td>\n      <td>255.463</td>\n      <td>1372.0</td>\n      <td>3.8</td>\n      <td>6609.9668</td>\n      <td>...</td>\n      <td>30.813828</td>\n      <td>28.916196</td>\n      <td>29.181018</td>\n      <td>30.479595</td>\n      <td>-0.059999</td>\n      <td>-0.750000</td>\n      <td>-4.568993</td>\n      <td>44.408773</td>\n      <td>38.694427</td>\n      <td>39.222537</td>\n    </tr>\n    <tr>\n      <th>4273</th>\n      <td>2023-10-31</td>\n      <td>29.049999</td>\n      <td>6928858.0</td>\n      <td>2.082461</td>\n      <td>3.9</td>\n      <td>129.118446</td>\n      <td>255.463</td>\n      <td>1372.0</td>\n      <td>3.8</td>\n      <td>6634.3468</td>\n      <td>...</td>\n      <td>30.737695</td>\n      <td>28.940524</td>\n      <td>29.168540</td>\n      <td>30.432723</td>\n      <td>-0.120001</td>\n      <td>-0.390001</td>\n      <td>-4.567993</td>\n      <td>47.843239</td>\n      <td>40.676298</td>\n      <td>39.948014</td>\n    </tr>\n  </tbody>\n</table>\n<p>4274 rows × 28 columns</p>\n</div>"
     },
     "execution_count": 660,
     "metadata": {},
     "output_type": "execute_result"
    }
   ],
   "source": [
    "import pandas as pd\n",
    "import numpy as np\n",
    "\n",
    "# read in the full index dataset\n",
    "index_data = pd.read_csv('data/index_data.csv')\n",
    "index_data.rename(columns={'Unnamed: 0':'date'}, inplace=True)\n",
    "index_price = index_data[['date','Price']]\n",
    "index_data"
   ],
   "metadata": {
    "collapsed": false,
    "ExecuteTime": {
     "end_time": "2023-12-16T15:37:45.268443Z",
     "start_time": "2023-12-16T15:37:45.151473Z"
    }
   }
  },
  {
   "cell_type": "markdown",
   "source": [
    "### Preprocessing\n",
    "- Create response variable for binary classification - we will predict whether the index will have a positive or negative return over the next 1 week, 2 weeks, and 1 month and use the most accurate model for the final stock selection model.\n",
    "\n",
    "- Create additional technical indicators to capture shorter-term trends. These will be helpful in predicting the index return over the next 1 week.\n",
    "\n",
    "- Creator indicator variables for economic indicators to indicate whether macro conditions are improving or worsening. For example, if the unemployment rate is increasing from the last reading, this is a negative sign for the economy and the index return is likely to be negative over the next 1 week, 2 weeks, and 1 month. This helps capture longer-term trends in the economy as opposed to the shorter-term trends captured by the technical indicators.\n",
    "\n",
    "- Standardize the numerical columns - transform data to have mean = 0 and std = 1. Empirically, standardization has been found to work best for SVM and other models sensitive to feature scale. Use a backward-looking rolling window to standardize the data. This ensures that the model is not using future data to predict future returns (look-ahead bias).\n",
    "\n",
    "- Split the data into train/validation and test sets. The final test set will be used to evaluate the final stock selection model and is not used in the model building process. This simulates the real-world scenario where the model is trained on historical data and then used to predict future returns. Optimizing our index model for the test set would not be realistic as we would not have access to future data in the real world."
   ],
   "metadata": {
    "collapsed": false
   }
  },
  {
   "cell_type": "code",
   "execution_count": 661,
   "outputs": [],
   "source": [
    "# create the response variable for different time periods\n",
    "response = pd.DataFrame()\n",
    "response['date'] = index_data['date']\n",
    "response['return_1w'] = -1 * index_data['Price'].pct_change(-5)\n",
    "response['return_1w'] = response['return_1w'].map(lambda x: 1 if x > 0 else 0) # map the return to binary\n",
    "response['return_2w'] = -1 * index_data['Price'].pct_change(-10)\n",
    "response['return_2w'] = response['return_2w'].map(lambda x: 1 if x > 0 else 0) # map the return to binary\n",
    "response['return_1m'] = -1 * index_data['Price'].pct_change(-20)\n",
    "response['return_1m'] = response['return_1m'].map(lambda x: 1 if x > 0 else 0) # map the return to binary\n",
    "\n",
    "# drop last 20 rows as they do not have a response variable\n",
    "response = response.iloc[:-20]\n",
    "\n",
    "# drop last 20 rows from index_data as well\n",
    "index_data = index_data.iloc[:-20]\n"
   ],
   "metadata": {
    "collapsed": false,
    "ExecuteTime": {
     "end_time": "2023-12-16T15:37:46.477319Z",
     "start_time": "2023-12-16T15:37:46.446374Z"
    }
   }
  },
  {
   "cell_type": "code",
   "execution_count": 662,
   "outputs": [
    {
     "name": "stderr",
     "output_type": "stream",
     "text": [
      "/var/folders/4r/nslfysrs2yl8s28sy4rz2_vr0000gn/T/ipykernel_45067/1792982454.py:4: SettingWithCopyWarning: \n",
      "A value is trying to be set on a copy of a slice from a DataFrame.\n",
      "Try using .loc[row_indexer,col_indexer] = value instead\n",
      "\n",
      "See the caveats in the documentation: https://pandas.pydata.org/pandas-docs/stable/user_guide/indexing.html#returning-a-view-versus-a-copy\n",
      "  index_data['SMA_3d'] = ta.SMA(index_data['Price'], timeperiod=3)\n",
      "/var/folders/4r/nslfysrs2yl8s28sy4rz2_vr0000gn/T/ipykernel_45067/1792982454.py:5: SettingWithCopyWarning: \n",
      "A value is trying to be set on a copy of a slice from a DataFrame.\n",
      "Try using .loc[row_indexer,col_indexer] = value instead\n",
      "\n",
      "See the caveats in the documentation: https://pandas.pydata.org/pandas-docs/stable/user_guide/indexing.html#returning-a-view-versus-a-copy\n",
      "  index_data['EMA_3d'] = ta.EMA(index_data['Price'], timeperiod=3)\n",
      "/var/folders/4r/nslfysrs2yl8s28sy4rz2_vr0000gn/T/ipykernel_45067/1792982454.py:6: SettingWithCopyWarning: \n",
      "A value is trying to be set on a copy of a slice from a DataFrame.\n",
      "Try using .loc[row_indexer,col_indexer] = value instead\n",
      "\n",
      "See the caveats in the documentation: https://pandas.pydata.org/pandas-docs/stable/user_guide/indexing.html#returning-a-view-versus-a-copy\n",
      "  index_data['MOM_3d'] = ta.MOM(index_data['Price'], timeperiod=3)\n",
      "/var/folders/4r/nslfysrs2yl8s28sy4rz2_vr0000gn/T/ipykernel_45067/1792982454.py:7: SettingWithCopyWarning: \n",
      "A value is trying to be set on a copy of a slice from a DataFrame.\n",
      "Try using .loc[row_indexer,col_indexer] = value instead\n",
      "\n",
      "See the caveats in the documentation: https://pandas.pydata.org/pandas-docs/stable/user_guide/indexing.html#returning-a-view-versus-a-copy\n",
      "  index_data['RSI_3d'] = ta.RSI(index_data['Price'], timeperiod=3)\n",
      "/var/folders/4r/nslfysrs2yl8s28sy4rz2_vr0000gn/T/ipykernel_45067/1792982454.py:8: SettingWithCopyWarning: \n",
      "A value is trying to be set on a copy of a slice from a DataFrame.\n",
      "Try using .loc[row_indexer,col_indexer] = value instead\n",
      "\n",
      "See the caveats in the documentation: https://pandas.pydata.org/pandas-docs/stable/user_guide/indexing.html#returning-a-view-versus-a-copy\n",
      "  index_data['SMA_5d'] = ta.SMA(index_data['Price'], timeperiod=5)\n",
      "/var/folders/4r/nslfysrs2yl8s28sy4rz2_vr0000gn/T/ipykernel_45067/1792982454.py:9: SettingWithCopyWarning: \n",
      "A value is trying to be set on a copy of a slice from a DataFrame.\n",
      "Try using .loc[row_indexer,col_indexer] = value instead\n",
      "\n",
      "See the caveats in the documentation: https://pandas.pydata.org/pandas-docs/stable/user_guide/indexing.html#returning-a-view-versus-a-copy\n",
      "  index_data['EMA_5d'] = ta.EMA(index_data['Price'], timeperiod=5)\n",
      "/var/folders/4r/nslfysrs2yl8s28sy4rz2_vr0000gn/T/ipykernel_45067/1792982454.py:10: SettingWithCopyWarning: \n",
      "A value is trying to be set on a copy of a slice from a DataFrame.\n",
      "Try using .loc[row_indexer,col_indexer] = value instead\n",
      "\n",
      "See the caveats in the documentation: https://pandas.pydata.org/pandas-docs/stable/user_guide/indexing.html#returning-a-view-versus-a-copy\n",
      "  index_data['MOM_5d'] = ta.MOM(index_data['Price'], timeperiod=5)\n",
      "/var/folders/4r/nslfysrs2yl8s28sy4rz2_vr0000gn/T/ipykernel_45067/1792982454.py:11: SettingWithCopyWarning: \n",
      "A value is trying to be set on a copy of a slice from a DataFrame.\n",
      "Try using .loc[row_indexer,col_indexer] = value instead\n",
      "\n",
      "See the caveats in the documentation: https://pandas.pydata.org/pandas-docs/stable/user_guide/indexing.html#returning-a-view-versus-a-copy\n",
      "  index_data['RSI_5d'] = ta.RSI(index_data['Price'], timeperiod=5)\n"
     ]
    },
    {
     "data": {
      "text/plain": "            date      Price        GDP   RATE_10  URATE         CPI      PPI  \\\n0     2006-11-07   1.743284  3557633.0  2.199885    4.5   85.366591  164.600   \n1     2006-11-08   1.743284  3557633.0  2.199885    4.5   85.366591  164.600   \n2     2006-11-09   1.743284  3557633.0  2.199885    4.5   85.366591  164.600   \n3     2006-11-10   1.747295  3557633.0  2.199885    4.5   85.366591  164.600   \n4     2006-11-13   1.747295  3557633.0  2.199885    4.5   85.366591  164.600   \n...          ...        ...        ...       ...    ...         ...      ...   \n4249  2023-09-27  29.930000  6928858.0  1.699708    3.8  129.118446  258.889   \n4250  2023-09-28  30.000000  6928858.0  1.699708    3.8  129.118446  258.889   \n4251  2023-09-29  30.040001  6928858.0  1.699708    3.8  129.118446  258.889   \n4252  2023-10-02  29.660000  6928858.0  2.082461    3.9  129.118446  255.463   \n4253  2023-10-03  29.440001  6928858.0  2.082461    3.9  129.118446  255.463   \n\n       HOUSE  SAVE  Index Enterprise Value  ...    RSI_20d    RSI_60d  \\\n0     1570.0   2.7               2112.1243  ...        NaN        NaN   \n1     1570.0   2.7               2122.9425  ...        NaN        NaN   \n2     1570.0   2.7               2116.7542  ...        NaN        NaN   \n3     1570.0   2.7               2118.6522  ...        NaN        NaN   \n4     1570.0   2.7               2116.3033  ...        NaN        NaN   \n...      ...   ...                     ...  ...        ...        ...   \n4249  1346.0   3.7               6799.8725  ...  24.344941  37.778915   \n4250  1346.0   3.7               6811.0825  ...  25.802704  38.188448   \n4251  1346.0   3.7               6816.9425  ...  26.652829  38.423972   \n4252  1372.0   3.8               6750.3425  ...  23.913021  37.059758   \n4253  1372.0   3.8               6714.4125  ...  22.503291  36.300946   \n\n         SMA_3d     EMA_3d    MOM_3d      RSI_3d     SMA_5d     EMA_5d  \\\n0           NaN        NaN       NaN         NaN        NaN        NaN   \n1           NaN        NaN       NaN         NaN        NaN        NaN   \n2      1.743284   1.743284       NaN         NaN        NaN        NaN   \n3      1.744621   1.745290  0.004011  100.000000        NaN        NaN   \n4      1.745958   1.746292  0.004011  100.000000   1.744888   1.744888   \n...         ...        ...       ...         ...        ...        ...   \n4249  30.226667  30.198428 -0.680000    2.662759  30.440000  30.402667   \n4250  30.063334  30.099214 -0.490000   14.632058  30.258000  30.268445   \n4251  29.990000  30.069607 -0.219999   22.772139  30.144000  30.192297   \n4252  29.900000  29.864804 -0.270000    9.654319  29.978000  30.014865   \n4253  29.713334  29.652402 -0.559999    6.435147  29.814000  29.823243   \n\n        MOM_5d     RSI_5d  \n0          NaN        NaN  \n1          NaN        NaN  \n2          NaN        NaN  \n3          NaN        NaN  \n4          NaN        NaN  \n...        ...        ...  \n4249 -1.360001   8.104238  \n4250 -0.910000  14.700976  \n4251 -0.570000  18.861468  \n4252 -0.830000  11.943716  \n4253 -0.820000   9.438528  \n\n[4254 rows x 36 columns]",
      "text/html": "<div>\n<style scoped>\n    .dataframe tbody tr th:only-of-type {\n        vertical-align: middle;\n    }\n\n    .dataframe tbody tr th {\n        vertical-align: top;\n    }\n\n    .dataframe thead th {\n        text-align: right;\n    }\n</style>\n<table border=\"1\" class=\"dataframe\">\n  <thead>\n    <tr style=\"text-align: right;\">\n      <th></th>\n      <th>date</th>\n      <th>Price</th>\n      <th>GDP</th>\n      <th>RATE_10</th>\n      <th>URATE</th>\n      <th>CPI</th>\n      <th>PPI</th>\n      <th>HOUSE</th>\n      <th>SAVE</th>\n      <th>Index Enterprise Value</th>\n      <th>...</th>\n      <th>RSI_20d</th>\n      <th>RSI_60d</th>\n      <th>SMA_3d</th>\n      <th>EMA_3d</th>\n      <th>MOM_3d</th>\n      <th>RSI_3d</th>\n      <th>SMA_5d</th>\n      <th>EMA_5d</th>\n      <th>MOM_5d</th>\n      <th>RSI_5d</th>\n    </tr>\n  </thead>\n  <tbody>\n    <tr>\n      <th>0</th>\n      <td>2006-11-07</td>\n      <td>1.743284</td>\n      <td>3557633.0</td>\n      <td>2.199885</td>\n      <td>4.5</td>\n      <td>85.366591</td>\n      <td>164.600</td>\n      <td>1570.0</td>\n      <td>2.7</td>\n      <td>2112.1243</td>\n      <td>...</td>\n      <td>NaN</td>\n      <td>NaN</td>\n      <td>NaN</td>\n      <td>NaN</td>\n      <td>NaN</td>\n      <td>NaN</td>\n      <td>NaN</td>\n      <td>NaN</td>\n      <td>NaN</td>\n      <td>NaN</td>\n    </tr>\n    <tr>\n      <th>1</th>\n      <td>2006-11-08</td>\n      <td>1.743284</td>\n      <td>3557633.0</td>\n      <td>2.199885</td>\n      <td>4.5</td>\n      <td>85.366591</td>\n      <td>164.600</td>\n      <td>1570.0</td>\n      <td>2.7</td>\n      <td>2122.9425</td>\n      <td>...</td>\n      <td>NaN</td>\n      <td>NaN</td>\n      <td>NaN</td>\n      <td>NaN</td>\n      <td>NaN</td>\n      <td>NaN</td>\n      <td>NaN</td>\n      <td>NaN</td>\n      <td>NaN</td>\n      <td>NaN</td>\n    </tr>\n    <tr>\n      <th>2</th>\n      <td>2006-11-09</td>\n      <td>1.743284</td>\n      <td>3557633.0</td>\n      <td>2.199885</td>\n      <td>4.5</td>\n      <td>85.366591</td>\n      <td>164.600</td>\n      <td>1570.0</td>\n      <td>2.7</td>\n      <td>2116.7542</td>\n      <td>...</td>\n      <td>NaN</td>\n      <td>NaN</td>\n      <td>1.743284</td>\n      <td>1.743284</td>\n      <td>NaN</td>\n      <td>NaN</td>\n      <td>NaN</td>\n      <td>NaN</td>\n      <td>NaN</td>\n      <td>NaN</td>\n    </tr>\n    <tr>\n      <th>3</th>\n      <td>2006-11-10</td>\n      <td>1.747295</td>\n      <td>3557633.0</td>\n      <td>2.199885</td>\n      <td>4.5</td>\n      <td>85.366591</td>\n      <td>164.600</td>\n      <td>1570.0</td>\n      <td>2.7</td>\n      <td>2118.6522</td>\n      <td>...</td>\n      <td>NaN</td>\n      <td>NaN</td>\n      <td>1.744621</td>\n      <td>1.745290</td>\n      <td>0.004011</td>\n      <td>100.000000</td>\n      <td>NaN</td>\n      <td>NaN</td>\n      <td>NaN</td>\n      <td>NaN</td>\n    </tr>\n    <tr>\n      <th>4</th>\n      <td>2006-11-13</td>\n      <td>1.747295</td>\n      <td>3557633.0</td>\n      <td>2.199885</td>\n      <td>4.5</td>\n      <td>85.366591</td>\n      <td>164.600</td>\n      <td>1570.0</td>\n      <td>2.7</td>\n      <td>2116.3033</td>\n      <td>...</td>\n      <td>NaN</td>\n      <td>NaN</td>\n      <td>1.745958</td>\n      <td>1.746292</td>\n      <td>0.004011</td>\n      <td>100.000000</td>\n      <td>1.744888</td>\n      <td>1.744888</td>\n      <td>NaN</td>\n      <td>NaN</td>\n    </tr>\n    <tr>\n      <th>...</th>\n      <td>...</td>\n      <td>...</td>\n      <td>...</td>\n      <td>...</td>\n      <td>...</td>\n      <td>...</td>\n      <td>...</td>\n      <td>...</td>\n      <td>...</td>\n      <td>...</td>\n      <td>...</td>\n      <td>...</td>\n      <td>...</td>\n      <td>...</td>\n      <td>...</td>\n      <td>...</td>\n      <td>...</td>\n      <td>...</td>\n      <td>...</td>\n      <td>...</td>\n      <td>...</td>\n    </tr>\n    <tr>\n      <th>4249</th>\n      <td>2023-09-27</td>\n      <td>29.930000</td>\n      <td>6928858.0</td>\n      <td>1.699708</td>\n      <td>3.8</td>\n      <td>129.118446</td>\n      <td>258.889</td>\n      <td>1346.0</td>\n      <td>3.7</td>\n      <td>6799.8725</td>\n      <td>...</td>\n      <td>24.344941</td>\n      <td>37.778915</td>\n      <td>30.226667</td>\n      <td>30.198428</td>\n      <td>-0.680000</td>\n      <td>2.662759</td>\n      <td>30.440000</td>\n      <td>30.402667</td>\n      <td>-1.360001</td>\n      <td>8.104238</td>\n    </tr>\n    <tr>\n      <th>4250</th>\n      <td>2023-09-28</td>\n      <td>30.000000</td>\n      <td>6928858.0</td>\n      <td>1.699708</td>\n      <td>3.8</td>\n      <td>129.118446</td>\n      <td>258.889</td>\n      <td>1346.0</td>\n      <td>3.7</td>\n      <td>6811.0825</td>\n      <td>...</td>\n      <td>25.802704</td>\n      <td>38.188448</td>\n      <td>30.063334</td>\n      <td>30.099214</td>\n      <td>-0.490000</td>\n      <td>14.632058</td>\n      <td>30.258000</td>\n      <td>30.268445</td>\n      <td>-0.910000</td>\n      <td>14.700976</td>\n    </tr>\n    <tr>\n      <th>4251</th>\n      <td>2023-09-29</td>\n      <td>30.040001</td>\n      <td>6928858.0</td>\n      <td>1.699708</td>\n      <td>3.8</td>\n      <td>129.118446</td>\n      <td>258.889</td>\n      <td>1346.0</td>\n      <td>3.7</td>\n      <td>6816.9425</td>\n      <td>...</td>\n      <td>26.652829</td>\n      <td>38.423972</td>\n      <td>29.990000</td>\n      <td>30.069607</td>\n      <td>-0.219999</td>\n      <td>22.772139</td>\n      <td>30.144000</td>\n      <td>30.192297</td>\n      <td>-0.570000</td>\n      <td>18.861468</td>\n    </tr>\n    <tr>\n      <th>4252</th>\n      <td>2023-10-02</td>\n      <td>29.660000</td>\n      <td>6928858.0</td>\n      <td>2.082461</td>\n      <td>3.9</td>\n      <td>129.118446</td>\n      <td>255.463</td>\n      <td>1372.0</td>\n      <td>3.8</td>\n      <td>6750.3425</td>\n      <td>...</td>\n      <td>23.913021</td>\n      <td>37.059758</td>\n      <td>29.900000</td>\n      <td>29.864804</td>\n      <td>-0.270000</td>\n      <td>9.654319</td>\n      <td>29.978000</td>\n      <td>30.014865</td>\n      <td>-0.830000</td>\n      <td>11.943716</td>\n    </tr>\n    <tr>\n      <th>4253</th>\n      <td>2023-10-03</td>\n      <td>29.440001</td>\n      <td>6928858.0</td>\n      <td>2.082461</td>\n      <td>3.9</td>\n      <td>129.118446</td>\n      <td>255.463</td>\n      <td>1372.0</td>\n      <td>3.8</td>\n      <td>6714.4125</td>\n      <td>...</td>\n      <td>22.503291</td>\n      <td>36.300946</td>\n      <td>29.713334</td>\n      <td>29.652402</td>\n      <td>-0.559999</td>\n      <td>6.435147</td>\n      <td>29.814000</td>\n      <td>29.823243</td>\n      <td>-0.820000</td>\n      <td>9.438528</td>\n    </tr>\n  </tbody>\n</table>\n<p>4254 rows × 36 columns</p>\n</div>"
     },
     "execution_count": 662,
     "metadata": {},
     "output_type": "execute_result"
    }
   ],
   "source": [
    "import talib as ta\n",
    "\n",
    "# add shorter-term technical indicators\n",
    "index_data['SMA_3d'] = ta.SMA(index_data['Price'], timeperiod=3)\n",
    "index_data['EMA_3d'] = ta.EMA(index_data['Price'], timeperiod=3)\n",
    "index_data['MOM_3d'] = ta.MOM(index_data['Price'], timeperiod=3)\n",
    "index_data['RSI_3d'] = ta.RSI(index_data['Price'], timeperiod=3)\n",
    "index_data['SMA_5d'] = ta.SMA(index_data['Price'], timeperiod=5)\n",
    "index_data['EMA_5d'] = ta.EMA(index_data['Price'], timeperiod=5)\n",
    "index_data['MOM_5d'] = ta.MOM(index_data['Price'], timeperiod=5)\n",
    "index_data['RSI_5d'] = ta.RSI(index_data['Price'], timeperiod=5)\n",
    "\n",
    "index_data"
   ],
   "metadata": {
    "collapsed": false,
    "ExecuteTime": {
     "end_time": "2023-12-16T15:37:47.033052Z",
     "start_time": "2023-12-16T15:37:46.974421Z"
    }
   }
  },
  {
   "cell_type": "code",
   "execution_count": 663,
   "outputs": [
    {
     "data": {
      "text/plain": "            date      Price        GDP   RATE_10  URATE         CPI      PPI  \\\n0     2006-11-07   1.743284  3557633.0  2.199885    4.5   85.366591  164.600   \n1     2006-11-08   1.743284  3557633.0  2.199885    4.5   85.366591  164.600   \n2     2006-11-09   1.743284  3557633.0  2.199885    4.5   85.366591  164.600   \n3     2006-11-10   1.747295  3557633.0  2.199885    4.5   85.366591  164.600   \n4     2006-11-13   1.747295  3557633.0  2.199885    4.5   85.366591  164.600   \n...          ...        ...        ...       ...    ...         ...      ...   \n4249  2023-09-27  29.930000  6928858.0  1.699708    3.8  129.118446  258.889   \n4250  2023-09-28  30.000000  6928858.0  1.699708    3.8  129.118446  258.889   \n4251  2023-09-29  30.040001  6928858.0  1.699708    3.8  129.118446  258.889   \n4252  2023-10-02  29.660000  6928858.0  2.082461    3.9  129.118446  255.463   \n4253  2023-10-03  29.440001  6928858.0  2.082461    3.9  129.118446  255.463   \n\n       HOUSE  SAVE  Index Enterprise Value  ...  HOUSE_change_minus_2  \\\n0     1570.0   2.7               2112.1243  ...                   NaN   \n1     1570.0   2.7               2122.9425  ...                   NaN   \n2     1570.0   2.7               2116.7542  ...                   0.0   \n3     1570.0   2.7               2118.6522  ...                   0.0   \n4     1570.0   2.7               2116.3033  ...                   0.0   \n...      ...   ...                     ...  ...                   ...   \n4249  1346.0   3.7               6799.8725  ...                   0.0   \n4250  1346.0   3.7               6811.0825  ...                   0.0   \n4251  1346.0   3.7               6816.9425  ...                   0.0   \n4252  1372.0   3.8               6750.3425  ...                   0.0   \n4253  1372.0   3.8               6714.4125  ...                   0.0   \n\n      HOUSE_change_minus_3  HOUSE_change_minus_4  HOUSE_change_minus_5  \\\n0                      NaN                   NaN                   NaN   \n1                      NaN                   NaN                   NaN   \n2                      NaN                   NaN                   NaN   \n3                      0.0                   NaN                   NaN   \n4                      0.0                   0.0                   NaN   \n...                    ...                   ...                   ...   \n4249                   0.0                   0.0                   0.0   \n4250                   0.0                   0.0                   0.0   \n4251                   0.0                   0.0                   0.0   \n4252                   0.0                   0.0                   0.0   \n4253                   0.0                   0.0                   0.0   \n\n      SAVE_change_1d  SAVE_change_minus_1  SAVE_change_minus_2  \\\n0                  0                  NaN                  NaN   \n1                  0                  0.0                  NaN   \n2                  0                  0.0                  0.0   \n3                  0                  0.0                  0.0   \n4                  0                  0.0                  0.0   \n...              ...                  ...                  ...   \n4249               0                  0.0                  0.0   \n4250               0                  0.0                  0.0   \n4251               0                  0.0                  0.0   \n4252               1                  0.0                  0.0   \n4253               0                  1.0                  0.0   \n\n      SAVE_change_minus_3  SAVE_change_minus_4  SAVE_change_minus_5  \n0                     NaN                  NaN                  NaN  \n1                     NaN                  NaN                  NaN  \n2                     NaN                  NaN                  NaN  \n3                     0.0                  NaN                  NaN  \n4                     0.0                  0.0                  NaN  \n...                   ...                  ...                  ...  \n4249                  0.0                  0.0                  0.0  \n4250                  0.0                  0.0                  0.0  \n4251                  0.0                  0.0                  0.0  \n4252                  0.0                  0.0                  0.0  \n4253                  0.0                  0.0                  0.0  \n\n[4254 rows x 78 columns]",
      "text/html": "<div>\n<style scoped>\n    .dataframe tbody tr th:only-of-type {\n        vertical-align: middle;\n    }\n\n    .dataframe tbody tr th {\n        vertical-align: top;\n    }\n\n    .dataframe thead th {\n        text-align: right;\n    }\n</style>\n<table border=\"1\" class=\"dataframe\">\n  <thead>\n    <tr style=\"text-align: right;\">\n      <th></th>\n      <th>date</th>\n      <th>Price</th>\n      <th>GDP</th>\n      <th>RATE_10</th>\n      <th>URATE</th>\n      <th>CPI</th>\n      <th>PPI</th>\n      <th>HOUSE</th>\n      <th>SAVE</th>\n      <th>Index Enterprise Value</th>\n      <th>...</th>\n      <th>HOUSE_change_minus_2</th>\n      <th>HOUSE_change_minus_3</th>\n      <th>HOUSE_change_minus_4</th>\n      <th>HOUSE_change_minus_5</th>\n      <th>SAVE_change_1d</th>\n      <th>SAVE_change_minus_1</th>\n      <th>SAVE_change_minus_2</th>\n      <th>SAVE_change_minus_3</th>\n      <th>SAVE_change_minus_4</th>\n      <th>SAVE_change_minus_5</th>\n    </tr>\n  </thead>\n  <tbody>\n    <tr>\n      <th>0</th>\n      <td>2006-11-07</td>\n      <td>1.743284</td>\n      <td>3557633.0</td>\n      <td>2.199885</td>\n      <td>4.5</td>\n      <td>85.366591</td>\n      <td>164.600</td>\n      <td>1570.0</td>\n      <td>2.7</td>\n      <td>2112.1243</td>\n      <td>...</td>\n      <td>NaN</td>\n      <td>NaN</td>\n      <td>NaN</td>\n      <td>NaN</td>\n      <td>0</td>\n      <td>NaN</td>\n      <td>NaN</td>\n      <td>NaN</td>\n      <td>NaN</td>\n      <td>NaN</td>\n    </tr>\n    <tr>\n      <th>1</th>\n      <td>2006-11-08</td>\n      <td>1.743284</td>\n      <td>3557633.0</td>\n      <td>2.199885</td>\n      <td>4.5</td>\n      <td>85.366591</td>\n      <td>164.600</td>\n      <td>1570.0</td>\n      <td>2.7</td>\n      <td>2122.9425</td>\n      <td>...</td>\n      <td>NaN</td>\n      <td>NaN</td>\n      <td>NaN</td>\n      <td>NaN</td>\n      <td>0</td>\n      <td>0.0</td>\n      <td>NaN</td>\n      <td>NaN</td>\n      <td>NaN</td>\n      <td>NaN</td>\n    </tr>\n    <tr>\n      <th>2</th>\n      <td>2006-11-09</td>\n      <td>1.743284</td>\n      <td>3557633.0</td>\n      <td>2.199885</td>\n      <td>4.5</td>\n      <td>85.366591</td>\n      <td>164.600</td>\n      <td>1570.0</td>\n      <td>2.7</td>\n      <td>2116.7542</td>\n      <td>...</td>\n      <td>0.0</td>\n      <td>NaN</td>\n      <td>NaN</td>\n      <td>NaN</td>\n      <td>0</td>\n      <td>0.0</td>\n      <td>0.0</td>\n      <td>NaN</td>\n      <td>NaN</td>\n      <td>NaN</td>\n    </tr>\n    <tr>\n      <th>3</th>\n      <td>2006-11-10</td>\n      <td>1.747295</td>\n      <td>3557633.0</td>\n      <td>2.199885</td>\n      <td>4.5</td>\n      <td>85.366591</td>\n      <td>164.600</td>\n      <td>1570.0</td>\n      <td>2.7</td>\n      <td>2118.6522</td>\n      <td>...</td>\n      <td>0.0</td>\n      <td>0.0</td>\n      <td>NaN</td>\n      <td>NaN</td>\n      <td>0</td>\n      <td>0.0</td>\n      <td>0.0</td>\n      <td>0.0</td>\n      <td>NaN</td>\n      <td>NaN</td>\n    </tr>\n    <tr>\n      <th>4</th>\n      <td>2006-11-13</td>\n      <td>1.747295</td>\n      <td>3557633.0</td>\n      <td>2.199885</td>\n      <td>4.5</td>\n      <td>85.366591</td>\n      <td>164.600</td>\n      <td>1570.0</td>\n      <td>2.7</td>\n      <td>2116.3033</td>\n      <td>...</td>\n      <td>0.0</td>\n      <td>0.0</td>\n      <td>0.0</td>\n      <td>NaN</td>\n      <td>0</td>\n      <td>0.0</td>\n      <td>0.0</td>\n      <td>0.0</td>\n      <td>0.0</td>\n      <td>NaN</td>\n    </tr>\n    <tr>\n      <th>...</th>\n      <td>...</td>\n      <td>...</td>\n      <td>...</td>\n      <td>...</td>\n      <td>...</td>\n      <td>...</td>\n      <td>...</td>\n      <td>...</td>\n      <td>...</td>\n      <td>...</td>\n      <td>...</td>\n      <td>...</td>\n      <td>...</td>\n      <td>...</td>\n      <td>...</td>\n      <td>...</td>\n      <td>...</td>\n      <td>...</td>\n      <td>...</td>\n      <td>...</td>\n      <td>...</td>\n    </tr>\n    <tr>\n      <th>4249</th>\n      <td>2023-09-27</td>\n      <td>29.930000</td>\n      <td>6928858.0</td>\n      <td>1.699708</td>\n      <td>3.8</td>\n      <td>129.118446</td>\n      <td>258.889</td>\n      <td>1346.0</td>\n      <td>3.7</td>\n      <td>6799.8725</td>\n      <td>...</td>\n      <td>0.0</td>\n      <td>0.0</td>\n      <td>0.0</td>\n      <td>0.0</td>\n      <td>0</td>\n      <td>0.0</td>\n      <td>0.0</td>\n      <td>0.0</td>\n      <td>0.0</td>\n      <td>0.0</td>\n    </tr>\n    <tr>\n      <th>4250</th>\n      <td>2023-09-28</td>\n      <td>30.000000</td>\n      <td>6928858.0</td>\n      <td>1.699708</td>\n      <td>3.8</td>\n      <td>129.118446</td>\n      <td>258.889</td>\n      <td>1346.0</td>\n      <td>3.7</td>\n      <td>6811.0825</td>\n      <td>...</td>\n      <td>0.0</td>\n      <td>0.0</td>\n      <td>0.0</td>\n      <td>0.0</td>\n      <td>0</td>\n      <td>0.0</td>\n      <td>0.0</td>\n      <td>0.0</td>\n      <td>0.0</td>\n      <td>0.0</td>\n    </tr>\n    <tr>\n      <th>4251</th>\n      <td>2023-09-29</td>\n      <td>30.040001</td>\n      <td>6928858.0</td>\n      <td>1.699708</td>\n      <td>3.8</td>\n      <td>129.118446</td>\n      <td>258.889</td>\n      <td>1346.0</td>\n      <td>3.7</td>\n      <td>6816.9425</td>\n      <td>...</td>\n      <td>0.0</td>\n      <td>0.0</td>\n      <td>0.0</td>\n      <td>0.0</td>\n      <td>0</td>\n      <td>0.0</td>\n      <td>0.0</td>\n      <td>0.0</td>\n      <td>0.0</td>\n      <td>0.0</td>\n    </tr>\n    <tr>\n      <th>4252</th>\n      <td>2023-10-02</td>\n      <td>29.660000</td>\n      <td>6928858.0</td>\n      <td>2.082461</td>\n      <td>3.9</td>\n      <td>129.118446</td>\n      <td>255.463</td>\n      <td>1372.0</td>\n      <td>3.8</td>\n      <td>6750.3425</td>\n      <td>...</td>\n      <td>0.0</td>\n      <td>0.0</td>\n      <td>0.0</td>\n      <td>0.0</td>\n      <td>1</td>\n      <td>0.0</td>\n      <td>0.0</td>\n      <td>0.0</td>\n      <td>0.0</td>\n      <td>0.0</td>\n    </tr>\n    <tr>\n      <th>4253</th>\n      <td>2023-10-03</td>\n      <td>29.440001</td>\n      <td>6928858.0</td>\n      <td>2.082461</td>\n      <td>3.9</td>\n      <td>129.118446</td>\n      <td>255.463</td>\n      <td>1372.0</td>\n      <td>3.8</td>\n      <td>6714.4125</td>\n      <td>...</td>\n      <td>0.0</td>\n      <td>0.0</td>\n      <td>0.0</td>\n      <td>0.0</td>\n      <td>0</td>\n      <td>1.0</td>\n      <td>0.0</td>\n      <td>0.0</td>\n      <td>0.0</td>\n      <td>0.0</td>\n    </tr>\n  </tbody>\n</table>\n<p>4254 rows × 78 columns</p>\n</div>"
     },
     "execution_count": 663,
     "metadata": {},
     "output_type": "execute_result"
    }
   ],
   "source": [
    "macro_cols = ['GDP','RATE_10','URATE','CPI','PPI','HOUSE','SAVE']\n",
    "# create function to implement the above steps for all economic indicators\n",
    "def create_indicator_change_df(indicator_name):\n",
    "\n",
    "    # calculate indicator change over 1 day and map to 1, -1, or 0\n",
    "    # 1 indicates the indicator has increased over the past 1 day, -1 indicates the indicator has decreased over the past 1 day, and 0 indicates the indicator has not changed over the past 1 day\n",
    "    indicator_change_1d = index_data[indicator_name].pct_change(1)\n",
    "    indicator_change_1d = indicator_change_1d.map(lambda x: 1 if x > 0 else (-1 if x < 0 else 0))\n",
    "\n",
    "    # create indicator change columns, indicating if the metric has increased/decreased/unchanged over the past 1-5 days\n",
    "    indicator_change_minus_1 = indicator_change_1d.shift(1)\n",
    "    indicator_change_minus_2 = indicator_change_1d.shift(2)\n",
    "    indicator_change_minus_3 = indicator_change_1d.shift(3)\n",
    "    indicator_change_minus_4 = indicator_change_1d.shift(4)\n",
    "    indicator_change_minus_5 = indicator_change_1d.shift(5)\n",
    "\n",
    "    # create dataframe with indicator change columns\n",
    "    indicator_change = pd.DataFrame()\n",
    "    indicator_change['date'] = index_data['date']\n",
    "    indicator_change[indicator_name + '_change_1d'] = indicator_change_1d\n",
    "    indicator_change[indicator_name + '_change_minus_1'] = indicator_change_minus_1\n",
    "    indicator_change[indicator_name + '_change_minus_2'] = indicator_change_minus_2\n",
    "    indicator_change[indicator_name + '_change_minus_3'] = indicator_change_minus_3\n",
    "    indicator_change[indicator_name + '_change_minus_4'] = indicator_change_minus_4\n",
    "    indicator_change[indicator_name + '_change_minus_5'] = indicator_change_minus_5\n",
    "\n",
    "    # return dataframe\n",
    "    return indicator_change\n",
    "\n",
    "# add the indicator change columns to the index_data dataframe\n",
    "for col in macro_cols:\n",
    "    indicator_change = create_indicator_change_df(col)\n",
    "    index_data = pd.merge(index_data, indicator_change, on='date', how='left')\n",
    "\n",
    "index_data\n"
   ],
   "metadata": {
    "collapsed": false,
    "ExecuteTime": {
     "end_time": "2023-12-16T15:37:47.667371Z",
     "start_time": "2023-12-16T15:37:47.525803Z"
    }
   }
  },
  {
   "cell_type": "code",
   "execution_count": 664,
   "outputs": [],
   "source": [
    "# standardize the numerical columns - transform data to have mean = 0 and std = 1\n",
    "# empirically, standardization has been found to work best for SVM and other models sensitive to feature scale\n",
    "\n",
    "# SVM is sensitive to the scale of the input features because it aims to maximize the margin between the classes so it\n",
    "#  is important to keep other feature variables on the same scale. So, we will also standardize the other continuous features in the dataset.\n",
    "\n",
    "# Assuming 'index_data' is your DataFrame with features and 'num_cols' are the columns you want to standardize\n",
    "num_cols = ['Price', 'GDP', 'RATE_10', 'URATE', 'CPI', 'PPI', 'HOUSE', 'SAVE', 'Index Enterprise Value',\n",
    "            'Adjusted Price/Earnings ratio','Adjusted Price/Estimated Earnings', 'BEst Div Yld', 'Total Debt to Total Equity', 'Current Market Cap',\n",
    "            'Profit Margin',  'SMA_10d', 'SMA_20d', 'SMA_60d', 'EMA_10d', 'EMA_20d', 'EMA_60d','MOM_10d', 'MOM_20d', 'MOM_60d', 'RSI_10d', 'RSI_20d', 'RSI_60d','SMA_3d', 'EMA_3d', 'MOM_3d', 'RSI_3d', 'SMA_5d', 'EMA_5d', 'MOM_5d','RSI_5d']\n",
    "\n",
    "\n",
    "# use a backward-looking rolling window to standardize the data\n",
    "# using different window sizes to capture different trends\n",
    "window_size_lst = [5,10,20]\n",
    "\n",
    "# Standardize using a rolling window\n",
    "standardized_df = pd.DataFrame()\n",
    "\n",
    "# for each numerical column\n",
    "for col in num_cols:\n",
    "    # for each window size\n",
    "    for window_size in window_size_lst:\n",
    "        # calculate the rolling mean and standard deviation\n",
    "        rolling_means = index_data[col].rolling(window=window_size).mean()\n",
    "        rolling_stds = index_data[col].rolling(window=window_size).std()\n",
    "\n",
    "        # Standardize the numerical columns using the rolling mean and standard deviation\n",
    "        name = col + '_standardized_' + str(window_size)\n",
    "        standardized = pd.DataFrame((index_data[col] - rolling_means) / rolling_stds)\n",
    "        standardized.rename(columns={col: name}, inplace=True)\n",
    "        standardized_df = pd.concat([standardized_df, standardized], axis=1)\n",
    "\n",
    "        # fill nan values with the last value\n",
    "        standardized_df.fillna(method='ffill', inplace=True)\n",
    "\n",
    "        # fill infinite values with 0\n",
    "        standardized_df.fillna(0, inplace=True)\n",
    "\n",
    "\n",
    "# drop numerical columns from index_data and add standardized columns\n",
    "index_data.drop(num_cols, axis=1, inplace=True)\n",
    "standardized_df = pd.concat([index_data, standardized_df], axis=1)"
   ],
   "metadata": {
    "collapsed": false,
    "ExecuteTime": {
     "end_time": "2023-12-16T15:37:48.907758Z",
     "start_time": "2023-12-16T15:37:48.081242Z"
    }
   }
  },
  {
   "cell_type": "code",
   "execution_count": 665,
   "outputs": [
    {
     "data": {
      "text/plain": "            date  GDP_change_1d  GDP_change_minus_1  GDP_change_minus_2  \\\n5     2006-11-14              0                 0.0                 0.0   \n6     2006-11-15              0                 0.0                 0.0   \n7     2006-11-16              0                 0.0                 0.0   \n8     2006-11-17              0                 0.0                 0.0   \n9     2006-11-20              0                 0.0                 0.0   \n...          ...            ...                 ...                 ...   \n4249  2023-09-27              0                 0.0                 0.0   \n4250  2023-09-28              0                 0.0                 0.0   \n4251  2023-09-29              0                 0.0                 0.0   \n4252  2023-10-02              0                 0.0                 0.0   \n4253  2023-10-03              0                 0.0                 0.0   \n\n      GDP_change_minus_3  GDP_change_minus_4  GDP_change_minus_5  \\\n5                    0.0                 0.0                 0.0   \n6                    0.0                 0.0                 0.0   \n7                    0.0                 0.0                 0.0   \n8                    0.0                 0.0                 0.0   \n9                    0.0                 0.0                 0.0   \n...                  ...                 ...                 ...   \n4249                 0.0                 0.0                 0.0   \n4250                 0.0                 0.0                 0.0   \n4251                 0.0                 0.0                 0.0   \n4252                 0.0                 0.0                 0.0   \n4253                 0.0                 0.0                 0.0   \n\n      RATE_10_change_1d  RATE_10_change_minus_1  RATE_10_change_minus_2  ...  \\\n5                     0                     0.0                     0.0  ...   \n6                     0                     0.0                     0.0  ...   \n7                     0                     0.0                     0.0  ...   \n8                     0                     0.0                     0.0  ...   \n9                     0                     0.0                     0.0  ...   \n...                 ...                     ...                     ...  ...   \n4249                  0                     0.0                     0.0  ...   \n4250                  0                     0.0                     0.0  ...   \n4251                  0                     0.0                     0.0  ...   \n4252                  1                     0.0                     0.0  ...   \n4253                  0                     1.0                     0.0  ...   \n\n      SMA_5d_standardized_20  EMA_5d_standardized_5  EMA_5d_standardized_10  \\\n5                   0.000000               0.000000                0.000000   \n6                   0.000000               0.000000                0.000000   \n7                   0.000000               0.000000                0.000000   \n8                   0.000000               1.008289                0.000000   \n9                   0.000000               1.008289                0.000000   \n...                      ...                    ...                     ...   \n4249               -2.200007              -1.334137               -1.872534   \n4250               -2.198684              -1.200958               -1.654430   \n4251               -2.105164              -1.036507               -1.434840   \n4252               -2.100804              -1.232515               -1.438782   \n4253               -2.061603              -1.403208               -1.459692   \n\n      EMA_5d_standardized_20  MOM_5d_standardized_5  MOM_5d_standardized_10  \\\n5                   0.000000               0.000000                0.000000   \n6                   0.000000               0.000000                0.000000   \n7                   0.000000               0.000000                0.000000   \n8                   0.000000               0.000000                0.000000   \n9                   0.000000              -1.095445                0.000000   \n...                      ...                    ...                     ...   \n4249               -2.194755              -1.680651               -1.658305   \n4250               -2.150945               0.288086               -0.665298   \n4251               -2.027824               1.278505                0.195401   \n4252               -2.054254               0.336417               -0.292648   \n4253               -2.046557               0.270791               -0.106254   \n\n      MOM_5d_standardized_20  RSI_5d_standardized_5  RSI_5d_standardized_10  \\\n5                   0.000000               0.000000                0.000000   \n6                   0.000000               0.000000                0.000000   \n7                   0.000000               0.000000                0.000000   \n8                   0.000000               0.000000                0.000000   \n9                   0.000000               0.000000                0.000000   \n...                      ...                    ...                     ...   \n4249               -1.898226              -1.168789               -1.293617   \n4250               -0.901758               0.429108               -0.746099   \n4251               -0.131163               1.304002               -0.279608   \n4252               -0.633031              -0.265082               -0.734192   \n4253               -0.604733              -0.736025               -0.817118   \n\n      RSI_5d_standardized_20  \n5                   0.000000  \n6                   0.000000  \n7                   0.000000  \n8                   0.000000  \n9                   0.000000  \n...                      ...  \n4249               -1.549522  \n4250               -0.986320  \n4251               -0.594680  \n4252               -1.060368  \n4253               -1.189190  \n\n[4249 rows x 148 columns]",
      "text/html": "<div>\n<style scoped>\n    .dataframe tbody tr th:only-of-type {\n        vertical-align: middle;\n    }\n\n    .dataframe tbody tr th {\n        vertical-align: top;\n    }\n\n    .dataframe thead th {\n        text-align: right;\n    }\n</style>\n<table border=\"1\" class=\"dataframe\">\n  <thead>\n    <tr style=\"text-align: right;\">\n      <th></th>\n      <th>date</th>\n      <th>GDP_change_1d</th>\n      <th>GDP_change_minus_1</th>\n      <th>GDP_change_minus_2</th>\n      <th>GDP_change_minus_3</th>\n      <th>GDP_change_minus_4</th>\n      <th>GDP_change_minus_5</th>\n      <th>RATE_10_change_1d</th>\n      <th>RATE_10_change_minus_1</th>\n      <th>RATE_10_change_minus_2</th>\n      <th>...</th>\n      <th>SMA_5d_standardized_20</th>\n      <th>EMA_5d_standardized_5</th>\n      <th>EMA_5d_standardized_10</th>\n      <th>EMA_5d_standardized_20</th>\n      <th>MOM_5d_standardized_5</th>\n      <th>MOM_5d_standardized_10</th>\n      <th>MOM_5d_standardized_20</th>\n      <th>RSI_5d_standardized_5</th>\n      <th>RSI_5d_standardized_10</th>\n      <th>RSI_5d_standardized_20</th>\n    </tr>\n  </thead>\n  <tbody>\n    <tr>\n      <th>5</th>\n      <td>2006-11-14</td>\n      <td>0</td>\n      <td>0.0</td>\n      <td>0.0</td>\n      <td>0.0</td>\n      <td>0.0</td>\n      <td>0.0</td>\n      <td>0</td>\n      <td>0.0</td>\n      <td>0.0</td>\n      <td>...</td>\n      <td>0.000000</td>\n      <td>0.000000</td>\n      <td>0.000000</td>\n      <td>0.000000</td>\n      <td>0.000000</td>\n      <td>0.000000</td>\n      <td>0.000000</td>\n      <td>0.000000</td>\n      <td>0.000000</td>\n      <td>0.000000</td>\n    </tr>\n    <tr>\n      <th>6</th>\n      <td>2006-11-15</td>\n      <td>0</td>\n      <td>0.0</td>\n      <td>0.0</td>\n      <td>0.0</td>\n      <td>0.0</td>\n      <td>0.0</td>\n      <td>0</td>\n      <td>0.0</td>\n      <td>0.0</td>\n      <td>...</td>\n      <td>0.000000</td>\n      <td>0.000000</td>\n      <td>0.000000</td>\n      <td>0.000000</td>\n      <td>0.000000</td>\n      <td>0.000000</td>\n      <td>0.000000</td>\n      <td>0.000000</td>\n      <td>0.000000</td>\n      <td>0.000000</td>\n    </tr>\n    <tr>\n      <th>7</th>\n      <td>2006-11-16</td>\n      <td>0</td>\n      <td>0.0</td>\n      <td>0.0</td>\n      <td>0.0</td>\n      <td>0.0</td>\n      <td>0.0</td>\n      <td>0</td>\n      <td>0.0</td>\n      <td>0.0</td>\n      <td>...</td>\n      <td>0.000000</td>\n      <td>0.000000</td>\n      <td>0.000000</td>\n      <td>0.000000</td>\n      <td>0.000000</td>\n      <td>0.000000</td>\n      <td>0.000000</td>\n      <td>0.000000</td>\n      <td>0.000000</td>\n      <td>0.000000</td>\n    </tr>\n    <tr>\n      <th>8</th>\n      <td>2006-11-17</td>\n      <td>0</td>\n      <td>0.0</td>\n      <td>0.0</td>\n      <td>0.0</td>\n      <td>0.0</td>\n      <td>0.0</td>\n      <td>0</td>\n      <td>0.0</td>\n      <td>0.0</td>\n      <td>...</td>\n      <td>0.000000</td>\n      <td>1.008289</td>\n      <td>0.000000</td>\n      <td>0.000000</td>\n      <td>0.000000</td>\n      <td>0.000000</td>\n      <td>0.000000</td>\n      <td>0.000000</td>\n      <td>0.000000</td>\n      <td>0.000000</td>\n    </tr>\n    <tr>\n      <th>9</th>\n      <td>2006-11-20</td>\n      <td>0</td>\n      <td>0.0</td>\n      <td>0.0</td>\n      <td>0.0</td>\n      <td>0.0</td>\n      <td>0.0</td>\n      <td>0</td>\n      <td>0.0</td>\n      <td>0.0</td>\n      <td>...</td>\n      <td>0.000000</td>\n      <td>1.008289</td>\n      <td>0.000000</td>\n      <td>0.000000</td>\n      <td>-1.095445</td>\n      <td>0.000000</td>\n      <td>0.000000</td>\n      <td>0.000000</td>\n      <td>0.000000</td>\n      <td>0.000000</td>\n    </tr>\n    <tr>\n      <th>...</th>\n      <td>...</td>\n      <td>...</td>\n      <td>...</td>\n      <td>...</td>\n      <td>...</td>\n      <td>...</td>\n      <td>...</td>\n      <td>...</td>\n      <td>...</td>\n      <td>...</td>\n      <td>...</td>\n      <td>...</td>\n      <td>...</td>\n      <td>...</td>\n      <td>...</td>\n      <td>...</td>\n      <td>...</td>\n      <td>...</td>\n      <td>...</td>\n      <td>...</td>\n      <td>...</td>\n    </tr>\n    <tr>\n      <th>4249</th>\n      <td>2023-09-27</td>\n      <td>0</td>\n      <td>0.0</td>\n      <td>0.0</td>\n      <td>0.0</td>\n      <td>0.0</td>\n      <td>0.0</td>\n      <td>0</td>\n      <td>0.0</td>\n      <td>0.0</td>\n      <td>...</td>\n      <td>-2.200007</td>\n      <td>-1.334137</td>\n      <td>-1.872534</td>\n      <td>-2.194755</td>\n      <td>-1.680651</td>\n      <td>-1.658305</td>\n      <td>-1.898226</td>\n      <td>-1.168789</td>\n      <td>-1.293617</td>\n      <td>-1.549522</td>\n    </tr>\n    <tr>\n      <th>4250</th>\n      <td>2023-09-28</td>\n      <td>0</td>\n      <td>0.0</td>\n      <td>0.0</td>\n      <td>0.0</td>\n      <td>0.0</td>\n      <td>0.0</td>\n      <td>0</td>\n      <td>0.0</td>\n      <td>0.0</td>\n      <td>...</td>\n      <td>-2.198684</td>\n      <td>-1.200958</td>\n      <td>-1.654430</td>\n      <td>-2.150945</td>\n      <td>0.288086</td>\n      <td>-0.665298</td>\n      <td>-0.901758</td>\n      <td>0.429108</td>\n      <td>-0.746099</td>\n      <td>-0.986320</td>\n    </tr>\n    <tr>\n      <th>4251</th>\n      <td>2023-09-29</td>\n      <td>0</td>\n      <td>0.0</td>\n      <td>0.0</td>\n      <td>0.0</td>\n      <td>0.0</td>\n      <td>0.0</td>\n      <td>0</td>\n      <td>0.0</td>\n      <td>0.0</td>\n      <td>...</td>\n      <td>-2.105164</td>\n      <td>-1.036507</td>\n      <td>-1.434840</td>\n      <td>-2.027824</td>\n      <td>1.278505</td>\n      <td>0.195401</td>\n      <td>-0.131163</td>\n      <td>1.304002</td>\n      <td>-0.279608</td>\n      <td>-0.594680</td>\n    </tr>\n    <tr>\n      <th>4252</th>\n      <td>2023-10-02</td>\n      <td>0</td>\n      <td>0.0</td>\n      <td>0.0</td>\n      <td>0.0</td>\n      <td>0.0</td>\n      <td>0.0</td>\n      <td>1</td>\n      <td>0.0</td>\n      <td>0.0</td>\n      <td>...</td>\n      <td>-2.100804</td>\n      <td>-1.232515</td>\n      <td>-1.438782</td>\n      <td>-2.054254</td>\n      <td>0.336417</td>\n      <td>-0.292648</td>\n      <td>-0.633031</td>\n      <td>-0.265082</td>\n      <td>-0.734192</td>\n      <td>-1.060368</td>\n    </tr>\n    <tr>\n      <th>4253</th>\n      <td>2023-10-03</td>\n      <td>0</td>\n      <td>0.0</td>\n      <td>0.0</td>\n      <td>0.0</td>\n      <td>0.0</td>\n      <td>0.0</td>\n      <td>0</td>\n      <td>1.0</td>\n      <td>0.0</td>\n      <td>...</td>\n      <td>-2.061603</td>\n      <td>-1.403208</td>\n      <td>-1.459692</td>\n      <td>-2.046557</td>\n      <td>0.270791</td>\n      <td>-0.106254</td>\n      <td>-0.604733</td>\n      <td>-0.736025</td>\n      <td>-0.817118</td>\n      <td>-1.189190</td>\n    </tr>\n  </tbody>\n</table>\n<p>4249 rows × 148 columns</p>\n</div>"
     },
     "execution_count": 665,
     "metadata": {},
     "output_type": "execute_result"
    }
   ],
   "source": [
    "# drop rows with nan values\n",
    "# standardized_df is the final dataset to be used in training the models\n",
    "standardized_df.dropna(inplace=True)\n",
    "standardized_df"
   ],
   "metadata": {
    "collapsed": false,
    "ExecuteTime": {
     "end_time": "2023-12-16T15:37:48.956673Z",
     "start_time": "2023-12-16T15:37:48.909842Z"
    }
   }
  },
  {
   "cell_type": "code",
   "execution_count": 666,
   "outputs": [],
   "source": [
    "# split the data into train/validation and test sets\n",
    "# split roughly in half - 2006-2014 for train/validation and 2015-2023 for test\n",
    "# this ensures that there is enough data in the train/validation set to train the model\n",
    "# and that the test set is large enough to train and evaluate the final stock selection model\n",
    "\n",
    "final_test_data = standardized_df[standardized_df['date'] >= '2015']\n",
    "final_response = response[response['date'] >= '2015']\n",
    "\n",
    "standardized_df = standardized_df[standardized_df['date'] < '2015']\n",
    "response = response[response['date'] < '2015']\n",
    "\n",
    "# save final_test_data for use in the final stock selection model\n",
    "final_test_data.to_csv('data/final_test_data.csv')"
   ],
   "metadata": {
    "collapsed": false,
    "ExecuteTime": {
     "end_time": "2023-12-16T15:37:50.320073Z",
     "start_time": "2023-12-16T15:37:49.676271Z"
    }
   }
  },
  {
   "cell_type": "markdown",
   "source": [
    "## Model Building: Approach 1\n",
    "- Binary classification predicting positive/negative return over the next 1 week\n",
    "- Test SVM with Poly and RBF kernels (linear kernel is not used as it is not suitable for non-linear data)\n",
    "- Use 80/20 train/test split"
   ],
   "metadata": {
    "collapsed": false
   }
  },
  {
   "cell_type": "code",
   "execution_count": 116,
   "outputs": [],
   "source": [
    "# select the response variable as the index return over the next 1 week\n",
    "y = response[response['date'] >= '2006-11-14']['return_1w'].values\n",
    "\n",
    "# select the features and drop the date column\n",
    "X = standardized_df.drop(['date'], axis=1).values\n",
    "\n",
    "# replace infinite values with large finite values to avoid errors while capturing the trends\n",
    "X = np.nan_to_num(X, posinf=3, neginf=-3)"
   ],
   "metadata": {
    "collapsed": false,
    "ExecuteTime": {
     "end_time": "2023-12-15T23:54:13.309486Z",
     "start_time": "2023-12-15T23:54:13.297846Z"
    }
   }
  },
  {
   "cell_type": "code",
   "execution_count": 117,
   "outputs": [],
   "source": [
    "# spit svm dataset into train and test sets\n",
    "from sklearn.model_selection import train_test_split\n",
    "x_train, x_test, y_train, y_test = train_test_split(X, y, shuffle=False, test_size=0.2, random_state=123)"
   ],
   "metadata": {
    "collapsed": false,
    "ExecuteTime": {
     "end_time": "2023-12-15T23:54:14.741895Z",
     "start_time": "2023-12-15T23:54:14.719499Z"
    }
   }
  },
  {
   "cell_type": "code",
   "execution_count": 118,
   "outputs": [
    {
     "name": "stdout",
     "output_type": "stream",
     "text": [
      "Training Model:  0.01 poly\n",
      "Training Model:  0.01 rbf\n",
      "Training Model:  0.1 poly\n",
      "Training Model:  0.1 rbf\n"
     ]
    },
    {
     "ename": "KeyboardInterrupt",
     "evalue": "",
     "output_type": "error",
     "traceback": [
      "\u001B[0;31m---------------------------------------------------------------------------\u001B[0m",
      "\u001B[0;31mKeyboardInterrupt\u001B[0m                         Traceback (most recent call last)",
      "Cell \u001B[0;32mIn[118], line 12\u001B[0m\n\u001B[1;32m     10\u001B[0m name \u001B[38;5;241m=\u001B[39m \u001B[38;5;28mstr\u001B[39m(c) \u001B[38;5;241m+\u001B[39m \u001B[38;5;124m\"\u001B[39m\u001B[38;5;124m_\u001B[39m\u001B[38;5;124m\"\u001B[39m \u001B[38;5;241m+\u001B[39m k\n\u001B[1;32m     11\u001B[0m mod \u001B[38;5;241m=\u001B[39m svm\u001B[38;5;241m.\u001B[39mSVC(C\u001B[38;5;241m=\u001B[39mc, kernel\u001B[38;5;241m=\u001B[39mk)\n\u001B[0;32m---> 12\u001B[0m \u001B[43mmod\u001B[49m\u001B[38;5;241;43m.\u001B[39;49m\u001B[43mfit\u001B[49m\u001B[43m(\u001B[49m\u001B[43mx_train\u001B[49m\u001B[43m,\u001B[49m\u001B[43m \u001B[49m\u001B[43my_train\u001B[49m\u001B[43m)\u001B[49m\n\u001B[1;32m     13\u001B[0m model_dict_1w[\u001B[38;5;124m\"\u001B[39m\u001B[38;5;124mmod_\u001B[39m\u001B[38;5;124m\"\u001B[39m\u001B[38;5;241m+\u001B[39mname] \u001B[38;5;241m=\u001B[39m mod\n",
      "File \u001B[0;32m~/quant_env/lib/python3.10/site-packages/sklearn/svm/_base.py:252\u001B[0m, in \u001B[0;36mBaseLibSVM.fit\u001B[0;34m(self, X, y, sample_weight)\u001B[0m\n\u001B[1;32m    249\u001B[0m     \u001B[38;5;28mprint\u001B[39m(\u001B[38;5;124m\"\u001B[39m\u001B[38;5;124m[LibSVM]\u001B[39m\u001B[38;5;124m\"\u001B[39m, end\u001B[38;5;241m=\u001B[39m\u001B[38;5;124m\"\u001B[39m\u001B[38;5;124m\"\u001B[39m)\n\u001B[1;32m    251\u001B[0m seed \u001B[38;5;241m=\u001B[39m rnd\u001B[38;5;241m.\u001B[39mrandint(np\u001B[38;5;241m.\u001B[39miinfo(\u001B[38;5;124m\"\u001B[39m\u001B[38;5;124mi\u001B[39m\u001B[38;5;124m\"\u001B[39m)\u001B[38;5;241m.\u001B[39mmax)\n\u001B[0;32m--> 252\u001B[0m \u001B[43mfit\u001B[49m\u001B[43m(\u001B[49m\u001B[43mX\u001B[49m\u001B[43m,\u001B[49m\u001B[43m \u001B[49m\u001B[43my\u001B[49m\u001B[43m,\u001B[49m\u001B[43m \u001B[49m\u001B[43msample_weight\u001B[49m\u001B[43m,\u001B[49m\u001B[43m \u001B[49m\u001B[43msolver_type\u001B[49m\u001B[43m,\u001B[49m\u001B[43m \u001B[49m\u001B[43mkernel\u001B[49m\u001B[43m,\u001B[49m\u001B[43m \u001B[49m\u001B[43mrandom_seed\u001B[49m\u001B[38;5;241;43m=\u001B[39;49m\u001B[43mseed\u001B[49m\u001B[43m)\u001B[49m\n\u001B[1;32m    253\u001B[0m \u001B[38;5;66;03m# see comment on the other call to np.iinfo in this file\u001B[39;00m\n\u001B[1;32m    255\u001B[0m \u001B[38;5;28mself\u001B[39m\u001B[38;5;241m.\u001B[39mshape_fit_ \u001B[38;5;241m=\u001B[39m X\u001B[38;5;241m.\u001B[39mshape \u001B[38;5;28;01mif\u001B[39;00m \u001B[38;5;28mhasattr\u001B[39m(X, \u001B[38;5;124m\"\u001B[39m\u001B[38;5;124mshape\u001B[39m\u001B[38;5;124m\"\u001B[39m) \u001B[38;5;28;01melse\u001B[39;00m (n_samples,)\n",
      "File \u001B[0;32m~/quant_env/lib/python3.10/site-packages/sklearn/svm/_base.py:331\u001B[0m, in \u001B[0;36mBaseLibSVM._dense_fit\u001B[0;34m(self, X, y, sample_weight, solver_type, kernel, random_seed)\u001B[0m\n\u001B[1;32m    317\u001B[0m libsvm\u001B[38;5;241m.\u001B[39mset_verbosity_wrap(\u001B[38;5;28mself\u001B[39m\u001B[38;5;241m.\u001B[39mverbose)\n\u001B[1;32m    319\u001B[0m \u001B[38;5;66;03m# we don't pass **self.get_params() to allow subclasses to\u001B[39;00m\n\u001B[1;32m    320\u001B[0m \u001B[38;5;66;03m# add other parameters to __init__\u001B[39;00m\n\u001B[1;32m    321\u001B[0m (\n\u001B[1;32m    322\u001B[0m     \u001B[38;5;28mself\u001B[39m\u001B[38;5;241m.\u001B[39msupport_,\n\u001B[1;32m    323\u001B[0m     \u001B[38;5;28mself\u001B[39m\u001B[38;5;241m.\u001B[39msupport_vectors_,\n\u001B[1;32m    324\u001B[0m     \u001B[38;5;28mself\u001B[39m\u001B[38;5;241m.\u001B[39m_n_support,\n\u001B[1;32m    325\u001B[0m     \u001B[38;5;28mself\u001B[39m\u001B[38;5;241m.\u001B[39mdual_coef_,\n\u001B[1;32m    326\u001B[0m     \u001B[38;5;28mself\u001B[39m\u001B[38;5;241m.\u001B[39mintercept_,\n\u001B[1;32m    327\u001B[0m     \u001B[38;5;28mself\u001B[39m\u001B[38;5;241m.\u001B[39m_probA,\n\u001B[1;32m    328\u001B[0m     \u001B[38;5;28mself\u001B[39m\u001B[38;5;241m.\u001B[39m_probB,\n\u001B[1;32m    329\u001B[0m     \u001B[38;5;28mself\u001B[39m\u001B[38;5;241m.\u001B[39mfit_status_,\n\u001B[1;32m    330\u001B[0m     \u001B[38;5;28mself\u001B[39m\u001B[38;5;241m.\u001B[39m_num_iter,\n\u001B[0;32m--> 331\u001B[0m ) \u001B[38;5;241m=\u001B[39m \u001B[43mlibsvm\u001B[49m\u001B[38;5;241;43m.\u001B[39;49m\u001B[43mfit\u001B[49m\u001B[43m(\u001B[49m\n\u001B[1;32m    332\u001B[0m \u001B[43m    \u001B[49m\u001B[43mX\u001B[49m\u001B[43m,\u001B[49m\n\u001B[1;32m    333\u001B[0m \u001B[43m    \u001B[49m\u001B[43my\u001B[49m\u001B[43m,\u001B[49m\n\u001B[1;32m    334\u001B[0m \u001B[43m    \u001B[49m\u001B[43msvm_type\u001B[49m\u001B[38;5;241;43m=\u001B[39;49m\u001B[43msolver_type\u001B[49m\u001B[43m,\u001B[49m\n\u001B[1;32m    335\u001B[0m \u001B[43m    \u001B[49m\u001B[43msample_weight\u001B[49m\u001B[38;5;241;43m=\u001B[39;49m\u001B[43msample_weight\u001B[49m\u001B[43m,\u001B[49m\n\u001B[1;32m    336\u001B[0m \u001B[43m    \u001B[49m\u001B[38;5;66;43;03m# TODO(1.4): Replace \"_class_weight\" with \"class_weight_\"\u001B[39;49;00m\n\u001B[1;32m    337\u001B[0m \u001B[43m    \u001B[49m\u001B[43mclass_weight\u001B[49m\u001B[38;5;241;43m=\u001B[39;49m\u001B[38;5;28;43mgetattr\u001B[39;49m\u001B[43m(\u001B[49m\u001B[38;5;28;43mself\u001B[39;49m\u001B[43m,\u001B[49m\u001B[43m \u001B[49m\u001B[38;5;124;43m\"\u001B[39;49m\u001B[38;5;124;43m_class_weight\u001B[39;49m\u001B[38;5;124;43m\"\u001B[39;49m\u001B[43m,\u001B[49m\u001B[43m \u001B[49m\u001B[43mnp\u001B[49m\u001B[38;5;241;43m.\u001B[39;49m\u001B[43mempty\u001B[49m\u001B[43m(\u001B[49m\u001B[38;5;241;43m0\u001B[39;49m\u001B[43m)\u001B[49m\u001B[43m)\u001B[49m\u001B[43m,\u001B[49m\n\u001B[1;32m    338\u001B[0m \u001B[43m    \u001B[49m\u001B[43mkernel\u001B[49m\u001B[38;5;241;43m=\u001B[39;49m\u001B[43mkernel\u001B[49m\u001B[43m,\u001B[49m\n\u001B[1;32m    339\u001B[0m \u001B[43m    \u001B[49m\u001B[43mC\u001B[49m\u001B[38;5;241;43m=\u001B[39;49m\u001B[38;5;28;43mself\u001B[39;49m\u001B[38;5;241;43m.\u001B[39;49m\u001B[43mC\u001B[49m\u001B[43m,\u001B[49m\n\u001B[1;32m    340\u001B[0m \u001B[43m    \u001B[49m\u001B[43mnu\u001B[49m\u001B[38;5;241;43m=\u001B[39;49m\u001B[38;5;28;43mself\u001B[39;49m\u001B[38;5;241;43m.\u001B[39;49m\u001B[43mnu\u001B[49m\u001B[43m,\u001B[49m\n\u001B[1;32m    341\u001B[0m \u001B[43m    \u001B[49m\u001B[43mprobability\u001B[49m\u001B[38;5;241;43m=\u001B[39;49m\u001B[38;5;28;43mself\u001B[39;49m\u001B[38;5;241;43m.\u001B[39;49m\u001B[43mprobability\u001B[49m\u001B[43m,\u001B[49m\n\u001B[1;32m    342\u001B[0m \u001B[43m    \u001B[49m\u001B[43mdegree\u001B[49m\u001B[38;5;241;43m=\u001B[39;49m\u001B[38;5;28;43mself\u001B[39;49m\u001B[38;5;241;43m.\u001B[39;49m\u001B[43mdegree\u001B[49m\u001B[43m,\u001B[49m\n\u001B[1;32m    343\u001B[0m \u001B[43m    \u001B[49m\u001B[43mshrinking\u001B[49m\u001B[38;5;241;43m=\u001B[39;49m\u001B[38;5;28;43mself\u001B[39;49m\u001B[38;5;241;43m.\u001B[39;49m\u001B[43mshrinking\u001B[49m\u001B[43m,\u001B[49m\n\u001B[1;32m    344\u001B[0m \u001B[43m    \u001B[49m\u001B[43mtol\u001B[49m\u001B[38;5;241;43m=\u001B[39;49m\u001B[38;5;28;43mself\u001B[39;49m\u001B[38;5;241;43m.\u001B[39;49m\u001B[43mtol\u001B[49m\u001B[43m,\u001B[49m\n\u001B[1;32m    345\u001B[0m \u001B[43m    \u001B[49m\u001B[43mcache_size\u001B[49m\u001B[38;5;241;43m=\u001B[39;49m\u001B[38;5;28;43mself\u001B[39;49m\u001B[38;5;241;43m.\u001B[39;49m\u001B[43mcache_size\u001B[49m\u001B[43m,\u001B[49m\n\u001B[1;32m    346\u001B[0m \u001B[43m    \u001B[49m\u001B[43mcoef0\u001B[49m\u001B[38;5;241;43m=\u001B[39;49m\u001B[38;5;28;43mself\u001B[39;49m\u001B[38;5;241;43m.\u001B[39;49m\u001B[43mcoef0\u001B[49m\u001B[43m,\u001B[49m\n\u001B[1;32m    347\u001B[0m \u001B[43m    \u001B[49m\u001B[43mgamma\u001B[49m\u001B[38;5;241;43m=\u001B[39;49m\u001B[38;5;28;43mself\u001B[39;49m\u001B[38;5;241;43m.\u001B[39;49m\u001B[43m_gamma\u001B[49m\u001B[43m,\u001B[49m\n\u001B[1;32m    348\u001B[0m \u001B[43m    \u001B[49m\u001B[43mepsilon\u001B[49m\u001B[38;5;241;43m=\u001B[39;49m\u001B[38;5;28;43mself\u001B[39;49m\u001B[38;5;241;43m.\u001B[39;49m\u001B[43mepsilon\u001B[49m\u001B[43m,\u001B[49m\n\u001B[1;32m    349\u001B[0m \u001B[43m    \u001B[49m\u001B[43mmax_iter\u001B[49m\u001B[38;5;241;43m=\u001B[39;49m\u001B[38;5;28;43mself\u001B[39;49m\u001B[38;5;241;43m.\u001B[39;49m\u001B[43mmax_iter\u001B[49m\u001B[43m,\u001B[49m\n\u001B[1;32m    350\u001B[0m \u001B[43m    \u001B[49m\u001B[43mrandom_seed\u001B[49m\u001B[38;5;241;43m=\u001B[39;49m\u001B[43mrandom_seed\u001B[49m\u001B[43m,\u001B[49m\n\u001B[1;32m    351\u001B[0m \u001B[43m\u001B[49m\u001B[43m)\u001B[49m\n\u001B[1;32m    353\u001B[0m \u001B[38;5;28mself\u001B[39m\u001B[38;5;241m.\u001B[39m_warn_from_fit_status()\n",
      "\u001B[0;31mKeyboardInterrupt\u001B[0m: "
     ]
    }
   ],
   "source": [
    "# fit SVMs\n",
    "# using multiple c values to find best model\n",
    "from sklearn import svm\n",
    "model_dict_1w = {}\n",
    "c_list = [0.01, 0.1, 0.15, 0.25, 0.5, 0.75, 1, 10, 25]\n",
    "kern_list = ['poly', 'rbf']\n",
    "for c in c_list:\n",
    "    for k in kern_list:\n",
    "        print(\"Training Model: \", c, k)\n",
    "        name = str(c) + \"_\" + k\n",
    "        mod = svm.SVC(C=c, kernel=k)\n",
    "        mod.fit(x_train, y_train)\n",
    "        model_dict_1w[\"mod_\"+name] = mod"
   ],
   "metadata": {
    "collapsed": false,
    "ExecuteTime": {
     "end_time": "2023-12-15T23:54:19.615199Z",
     "start_time": "2023-12-15T23:54:15.365122Z"
    }
   }
  },
  {
   "cell_type": "code",
   "execution_count": 82,
   "outputs": [],
   "source": [
    "# separate SVM models into different dictionaries based on kernel type\n",
    "model_dict_poly_1w = {}\n",
    "model_dict_rbf_1w = {}\n",
    "for key, model in model_dict_1w.items():\n",
    "    if 'poly' in key:\n",
    "        model_dict_poly_1w[key] = model\n",
    "    elif 'rbf' in key:\n",
    "        model_dict_rbf_1w[key] = model"
   ],
   "metadata": {
    "collapsed": false,
    "ExecuteTime": {
     "end_time": "2023-12-15T23:37:17.048510Z",
     "start_time": "2023-12-15T23:37:17.043310Z"
    }
   }
  },
  {
   "cell_type": "code",
   "execution_count": 83,
   "outputs": [
    {
     "name": "stdout",
     "output_type": "stream",
     "text": [
      "Model, Accuracy, Precision, Recall\n",
      "\n",
      "[1 1 1 1 1 1 1 1 1 1 1 1 1 1 1 1 1 1 1 1 1 1 1 1 1 1 1 1 1 1 1 1 1 1 1 1 1\n",
      " 1 1 1 1 1 1 1 1 1 1 1 1 1 1 1 1 1 1 1 1 1 1 1 1 1 1 1 1 1 1 1 1 1 1 1 1 1\n",
      " 1 1 1 1 1 1 1 1 1 1 1 1 1 1 1 1 1 1 1 1 1 1 1 1 1 1 1 1 1 1 1 1 1 1 1 1 1\n",
      " 1 1 1 1 1 1 1 1 1 1 1 1 1 1 1 1 1 1 1 1 1 1 1 1 1 1 1 1 1 1 1 1 1 1 1 1 1\n",
      " 1 1 1 1 1 1 1 1 1 1 1 1 1 1 1 1 1 1 1 1 1 1 1 1 1 1 1 1 1 1 1 1 1 1 1 1 1\n",
      " 1 1 1 1 1 1 1 1 1 1 1 1 1 1 1 1 1 1 1 1 1 1 1 1 1 1 1 1 1 1 1 1 1 1 1 1 1\n",
      " 1 1 1 1 1 1 1 1 1 1 1 1 1 1 1 1 1 1 1 1 1 1 1 1 1 1 1 1 1 1 1 1 1 1 1 1 1\n",
      " 1 1 1 1 1 1 1 1 1 1 1 1 1 1 1 1 1 1 1 1 1 1 1 1 1 1 1 1 1 1 1 1 1 1 1 1 1\n",
      " 1 1 1 1 1 1 1 1 1 1 1 1 1 1 1 1 1 1 1 1 1 1 1 1 1 1 1 1 1 1 1 1 1 1 1 1 1\n",
      " 1 1 1 1 1 1 1 1 1 1 1 1 1 1 1 1 1 1 1 1 1 1 1 1 1 1 1 1 1 1 1 1 1 1 1 1 1\n",
      " 1 1 1 1 1 1 1 1 1 1 1 1 1 1 1 1 1 1 1 1 1 1 1 1 1 1 1 1 1 1 1 1 1 1 1 1 1\n",
      " 1 1 1 1 1 1 1 1 1 1 1 1 1 1 1 1 1 1 1 1 1 1 1 1 1 1 1 1 1 1 1 1 1 1 1 1 1\n",
      " 1 1 1 1 1 1 1 1 1 1 1 1 1 1 1 1 1 1 1 1 1 1 1 1 1 1 1 1 1 1 1 1 1 1 1 1 1\n",
      " 1 1 1 1 1 1 1 1 1 1 1 1 1 1 1 1 1 1 1 1 1 1 1 1 1 1 1 1 1 1 1 1 1 1 1 1 1\n",
      " 1 1 1 1 1 1 1 1 1 1 1 1 1 1 1 1 1 1 1 1 1 1 1 1 1 1 1 1 1 1 1 1 1 1 1 1 1\n",
      " 1 1 1 1 1 1 1 1 1 1 1 1 1 1 1 1 1 1 1 1 1 1 1 1 1 1 1 1 1 1 1 1 1 1 1 1 1\n",
      " 1 1 1 1 1 1 1 1 1 1 1 1 1 1 1 1 1 1 1 1 1 1 1 1 1 1 1 1 1 1 1 1 1 1 1 1 1\n",
      " 1 1 1 1 1 1 1 1 1 1 1 1 1 1 1 1 1 1 1 1 1 1 1 1 1 1 1 1 1 1 1 1 1 1 1 1 1\n",
      " 1 1 1 1 1 1 1 1 1 1 1 1 1 1 1 1 1 1 1 1 1 1 1 1 1 1 1 1 1 1 1 1 1 1 1 1 1\n",
      " 1 1 1 1 1 1 1 1 1 1 1 1 1 1 1 1 1 1 1 1 1 1 1 1 1 1 1 1 1 1 1 1 1 1 1 1 1\n",
      " 1 1 1 1 1 1 1 1 1 1 1 1 1 1 1 1 1 1 1 1 1 1]\n",
      "mod_0.01_poly   0.6220472440944882 0.6220472440944882 1.0\n",
      "[1 1 1 1 1 1 1 1 1 1 1 1 1 1 1 1 1 1 1 1 1 1 1 1 1 1 1 1 1 1 1 1 1 1 1 1 1\n",
      " 1 1 1 1 1 1 1 1 1 1 1 1 1 1 1 1 1 1 1 1 1 1 1 1 1 1 1 1 1 1 1 1 1 1 1 1 1\n",
      " 1 1 1 1 1 1 1 1 1 1 1 1 1 1 1 1 1 1 1 1 1 1 1 1 1 1 1 1 1 1 1 1 1 1 1 1 1\n",
      " 1 1 1 1 1 1 1 1 1 1 1 1 1 1 1 1 1 1 0 1 1 1 1 1 1 1 1 1 1 1 1 1 1 1 1 1 1\n",
      " 1 1 1 1 1 1 1 1 1 1 1 1 1 1 1 1 1 1 1 1 1 1 1 1 1 1 1 1 1 1 1 1 1 1 1 1 1\n",
      " 1 1 1 1 1 1 1 1 1 1 1 1 1 1 1 1 1 1 1 1 1 1 1 1 1 1 1 1 1 1 1 1 1 1 1 1 1\n",
      " 1 1 1 1 1 1 1 1 1 1 1 1 1 1 1 1 1 1 1 1 1 1 1 1 1 1 1 1 1 1 1 1 1 1 1 1 1\n",
      " 1 1 1 1 1 1 1 1 1 1 1 1 1 1 1 1 1 1 1 1 1 1 1 1 1 1 1 1 1 1 1 1 1 1 1 1 1\n",
      " 1 1 1 1 1 1 1 1 1 1 1 1 1 1 1 1 1 1 1 1 1 1 1 1 1 1 1 1 1 1 1 1 1 1 1 1 1\n",
      " 1 1 1 1 1 1 1 1 1 1 1 1 1 1 1 1 1 1 1 1 1 1 1 1 1 1 1 1 1 1 1 1 1 1 1 1 1\n",
      " 1 1 1 1 1 1 1 1 1 1 1 1 1 1 1 1 1 1 1 1 1 1 1 1 1 1 1 1 1 1 1 1 1 1 1 1 1\n",
      " 1 1 1 1 1 1 1 1 1 1 1 1 1 1 1 1 1 1 1 1 1 1 1 1 1 1 1 1 1 1 1 1 1 1 1 1 1\n",
      " 1 1 1 1 1 1 1 1 1 1 1 1 1 1 1 1 1 1 1 1 1 1 1 1 1 1 1 1 1 1 1 1 1 1 1 1 1\n",
      " 1 1 1 1 1 1 1 1 1 1 1 1 1 1 1 1 1 1 1 1 1 1 1 1 1 1 1 1 1 1 1 1 1 1 1 1 1\n",
      " 1 1 1 1 1 1 1 1 1 1 1 1 1 1 1 1 1 1 1 1 1 1 1 1 1 1 1 1 1 1 1 1 1 1 1 1 1\n",
      " 1 1 1 1 1 1 1 1 1 1 1 1 1 1 1 1 1 1 1 1 1 1 1 1 1 1 1 1 1 1 1 1 1 1 1 1 1\n",
      " 1 1 1 1 1 1 1 1 1 1 1 1 1 1 1 1 1 1 1 1 1 1 1 1 1 1 1 1 1 1 1 1 1 1 1 1 1\n",
      " 1 1 1 1 1 1 1 1 1 1 1 1 1 1 1 1 1 1 1 1 1 1 1 1 1 1 1 1 1 1 1 1 1 1 1 1 1\n",
      " 1 1 1 1 1 1 1 1 1 1 1 1 1 1 1 1 1 1 1 1 1 1 1 1 1 1 1 1 1 1 1 1 1 1 1 1 1\n",
      " 1 1 1 1 1 1 1 1 1 1 1 1 1 1 1 1 1 1 1 1 1 1 1 1 1 1 1 1 1 1 1 1 1 1 1 1 1\n",
      " 1 1 1 1 1 1 1 1 1 1 1 1 1 1 1 1 1 1 1 1 1 1]\n",
      "mod_0.1_poly   0.6207349081364829 0.621550591327201 0.9978902953586498\n",
      "[1 1 1 1 1 1 1 1 1 1 1 1 1 1 1 1 1 1 1 1 1 1 1 1 1 1 1 1 1 1 1 1 1 1 1 1 1\n",
      " 1 1 1 1 1 1 1 1 1 1 1 1 1 1 1 1 1 1 1 1 1 1 1 1 1 1 1 1 1 1 1 1 1 1 1 1 1\n",
      " 1 1 1 1 1 1 1 1 1 1 1 1 1 0 1 1 1 1 1 1 1 1 1 1 1 1 1 1 1 1 1 1 1 1 1 1 1\n",
      " 1 1 1 1 1 1 1 1 1 1 1 1 1 1 1 1 1 1 0 1 1 1 1 1 1 1 1 1 1 1 1 1 1 1 1 1 1\n",
      " 1 1 1 1 1 1 1 1 1 1 1 1 1 1 1 1 1 1 1 1 1 1 1 1 1 1 1 1 1 1 1 1 1 1 1 1 1\n",
      " 1 1 0 1 1 1 1 1 1 1 1 1 1 1 1 1 1 1 1 1 1 1 1 1 1 1 1 1 1 1 1 1 1 1 1 1 1\n",
      " 1 1 1 1 1 1 1 1 1 1 1 1 1 1 1 1 1 1 1 1 1 1 1 1 1 1 1 1 1 1 1 1 1 1 1 1 1\n",
      " 1 1 1 1 1 1 1 1 1 1 1 1 1 1 1 1 1 1 1 1 1 1 1 1 1 1 1 1 1 1 1 1 1 1 1 1 1\n",
      " 1 1 1 1 1 1 1 1 1 1 1 1 1 1 1 1 1 1 1 1 1 1 1 1 1 1 1 1 1 1 1 1 1 1 1 1 1\n",
      " 1 1 1 1 1 1 1 1 1 1 1 1 1 1 1 1 1 1 1 1 1 1 1 1 1 1 1 1 1 1 1 1 1 1 1 1 1\n",
      " 1 1 1 1 1 1 1 1 1 1 1 1 1 1 1 1 1 1 1 1 1 1 1 1 1 1 1 1 1 1 1 1 1 1 1 1 1\n",
      " 1 1 1 1 1 1 1 1 1 1 1 1 1 1 1 1 1 1 1 1 1 1 1 1 1 1 1 1 1 1 1 1 1 1 1 1 1\n",
      " 1 1 1 1 1 1 1 1 1 1 1 1 1 1 1 1 1 1 1 1 1 1 1 1 1 1 1 1 1 1 1 1 1 1 1 1 1\n",
      " 1 1 1 1 1 1 1 1 1 1 1 1 1 1 1 1 1 1 1 1 1 0 1 1 1 1 1 1 1 1 1 1 1 1 1 1 1\n",
      " 1 1 1 1 1 1 1 1 1 1 1 1 1 1 1 1 1 1 1 1 1 1 1 1 1 1 1 1 1 1 1 1 1 1 1 1 1\n",
      " 1 1 1 1 1 1 1 1 1 1 1 1 1 1 1 1 1 1 1 1 1 1 1 1 1 1 1 1 1 1 1 1 1 1 1 1 1\n",
      " 1 1 1 1 1 1 1 1 1 1 1 1 1 1 1 1 1 1 1 1 1 1 1 1 1 1 1 1 1 1 1 1 1 1 1 1 1\n",
      " 1 1 1 1 1 1 1 1 1 1 1 1 1 1 1 1 1 1 1 1 1 1 1 1 1 1 1 1 1 1 1 1 1 1 1 1 1\n",
      " 1 1 1 1 1 1 1 1 1 1 1 1 1 1 1 1 1 1 1 1 1 1 1 1 1 1 1 1 1 1 1 1 1 1 1 1 1\n",
      " 1 1 1 1 1 1 1 1 1 1 1 1 1 1 1 1 1 1 1 1 1 1 1 1 1 1 1 1 1 1 1 1 1 1 1 1 1\n",
      " 1 1 1 1 1 1 1 1 1 1 1 1 1 1 1 1 1 1 1 1 1 1]\n",
      "mod_0.15_poly   0.6194225721784777 0.6213720316622692 0.9936708860759493\n",
      "[1 1 1 1 1 1 1 1 1 1 1 1 1 1 1 1 1 1 1 1 1 1 1 1 1 1 1 1 1 1 1 1 1 1 1 1 1\n",
      " 1 1 1 1 1 1 1 1 1 1 1 1 1 1 1 1 1 1 1 0 1 1 1 1 1 1 1 1 1 1 1 1 1 1 1 1 1\n",
      " 1 1 1 1 1 1 1 1 1 1 1 1 1 0 1 1 1 1 1 1 1 1 1 1 1 1 1 1 1 1 1 1 1 1 1 1 1\n",
      " 1 1 1 1 1 1 1 1 1 1 1 1 1 1 1 1 1 1 0 0 1 1 1 1 1 1 1 1 1 1 1 1 1 1 1 1 1\n",
      " 1 1 1 1 1 1 1 1 1 1 1 1 1 1 1 1 1 1 1 1 1 1 1 1 1 1 1 1 1 1 1 1 1 1 1 1 1\n",
      " 1 1 0 1 1 1 1 1 1 1 1 1 1 1 1 1 1 1 1 1 1 1 1 1 1 1 1 1 1 1 1 1 1 1 1 1 1\n",
      " 1 1 1 1 1 1 1 1 1 1 1 1 1 1 0 1 1 1 1 1 1 1 1 1 1 1 1 1 1 1 1 1 1 1 1 1 1\n",
      " 1 1 1 1 1 1 1 1 1 1 1 1 1 1 1 1 1 1 1 1 1 1 1 1 1 1 1 1 1 1 1 1 1 1 1 1 1\n",
      " 1 1 1 1 1 1 1 1 1 1 1 1 1 1 1 1 1 1 1 1 1 1 1 1 1 1 1 1 1 1 1 1 1 1 1 1 1\n",
      " 1 1 1 1 1 1 1 1 1 1 1 1 1 1 1 1 1 1 1 1 1 1 1 1 1 1 1 1 1 1 1 1 1 1 1 1 1\n",
      " 1 1 1 1 1 1 1 1 1 1 1 1 1 1 1 1 1 1 1 1 1 1 1 1 1 1 1 1 1 1 1 1 1 1 1 1 1\n",
      " 1 1 1 1 1 1 1 1 1 1 1 1 1 1 1 1 1 1 1 1 1 1 1 1 1 1 1 1 1 1 1 1 1 1 1 1 1\n",
      " 1 1 1 1 1 1 1 1 1 1 1 1 1 1 1 1 1 1 1 1 1 1 1 1 1 1 1 1 1 1 1 1 1 1 1 1 1\n",
      " 1 1 1 1 1 1 1 1 1 1 1 1 1 1 1 1 1 1 1 1 1 0 1 1 1 1 1 1 1 1 1 1 1 1 1 1 1\n",
      " 1 1 1 1 1 1 1 1 1 1 1 1 1 1 1 1 1 1 1 1 1 1 1 1 1 1 1 1 1 1 1 1 1 1 1 1 1\n",
      " 1 1 1 1 1 1 1 1 1 1 1 1 1 1 1 1 1 1 1 1 1 1 1 1 1 1 1 1 1 1 1 1 1 1 1 1 1\n",
      " 1 1 1 1 1 1 1 1 1 1 1 1 1 1 1 1 1 1 1 1 1 1 1 1 1 1 1 1 1 1 1 1 1 1 1 1 1\n",
      " 1 1 1 1 1 1 1 1 1 1 1 1 1 1 1 1 1 1 1 1 1 1 1 1 1 1 1 1 1 1 1 1 1 1 1 1 1\n",
      " 1 1 1 1 1 1 1 1 1 1 1 1 1 1 1 1 1 1 1 1 1 1 1 1 1 1 1 1 1 1 1 1 1 1 1 1 1\n",
      " 1 1 1 1 1 1 1 1 1 1 1 1 1 1 1 1 1 1 1 1 1 1 1 1 1 1 1 1 1 1 1 1 1 1 1 1 1\n",
      " 1 1 1 1 1 1 1 1 1 1 1 1 1 1 1 1 1 1 1 1 1 1]\n",
      "mod_0.25_poly   0.615485564304462 0.6198675496688741 0.9873417721518988\n",
      "[1 1 1 1 1 1 1 1 1 1 1 1 1 1 1 1 1 1 1 1 1 1 1 1 1 1 1 1 1 1 1 1 1 1 1 1 1\n",
      " 1 1 1 1 1 1 1 1 1 1 1 1 1 1 1 1 1 1 1 0 1 1 1 1 1 1 1 1 1 0 1 1 1 1 1 1 1\n",
      " 1 1 1 1 1 1 1 1 1 1 1 1 1 0 0 1 1 1 1 1 1 1 1 1 0 1 1 1 1 1 1 1 1 1 1 1 1\n",
      " 1 1 1 1 1 1 1 1 1 1 1 1 1 1 1 1 1 1 0 0 1 0 1 1 1 1 1 1 1 1 1 1 1 1 1 1 1\n",
      " 1 1 1 0 1 0 1 1 1 1 1 1 1 1 1 1 1 1 1 1 1 1 1 1 1 1 1 1 1 1 1 1 1 1 1 1 1\n",
      " 1 1 0 0 1 1 1 1 1 1 1 1 1 1 1 1 1 1 1 1 1 1 1 1 1 1 1 1 1 1 1 0 1 1 1 1 1\n",
      " 1 1 1 1 1 1 1 1 1 1 1 1 1 1 0 0 1 1 1 1 1 1 1 1 1 1 1 1 1 0 1 1 1 1 1 1 1\n",
      " 1 1 1 1 1 1 1 1 1 1 1 1 1 1 1 1 1 1 1 0 1 1 1 1 1 1 1 1 1 1 1 1 1 1 1 1 1\n",
      " 1 1 1 1 1 1 1 1 1 1 1 1 1 1 1 1 1 1 1 1 1 1 1 1 1 1 1 1 1 1 1 1 1 1 1 1 1\n",
      " 1 1 1 1 1 1 1 1 1 1 1 1 1 1 1 1 1 1 1 1 1 1 1 1 1 1 1 1 1 1 1 1 1 1 1 1 1\n",
      " 1 1 1 1 1 1 1 1 1 1 1 1 1 1 1 1 1 1 1 1 1 1 1 1 1 1 1 1 1 1 1 1 1 1 1 1 1\n",
      " 1 1 1 1 1 1 1 1 1 1 1 1 1 1 1 1 1 1 1 1 1 1 1 1 1 1 1 1 1 1 1 1 1 1 1 1 1\n",
      " 1 1 1 1 1 1 1 1 1 1 1 1 1 1 1 1 1 1 1 1 1 1 1 1 1 1 1 1 1 1 1 1 1 1 1 1 1\n",
      " 1 1 1 1 1 1 1 1 1 1 1 1 1 1 1 1 1 1 1 1 1 0 0 0 1 1 1 1 1 1 1 1 1 1 1 1 1\n",
      " 1 1 1 1 1 1 1 1 1 1 1 1 1 1 1 1 1 1 1 1 1 1 1 1 1 1 1 1 1 1 1 1 1 1 1 1 1\n",
      " 1 1 1 1 1 1 1 1 1 1 1 1 1 1 1 1 1 1 1 1 1 1 1 1 1 1 1 1 1 1 1 1 1 1 1 1 1\n",
      " 1 1 1 1 1 1 1 1 1 1 1 1 1 1 1 1 1 1 1 1 1 1 1 1 1 1 1 1 1 1 1 1 1 1 1 1 1\n",
      " 1 1 1 1 1 1 1 1 1 1 1 1 1 1 1 1 1 1 1 1 1 1 1 1 1 1 1 1 1 1 1 1 1 1 1 1 1\n",
      " 1 1 1 1 1 1 1 1 1 1 1 1 1 1 1 1 1 1 1 1 1 1 1 1 1 1 1 1 1 1 1 1 1 1 1 1 1\n",
      " 1 1 1 1 1 1 1 1 1 1 1 1 1 1 1 1 1 1 1 1 1 1 1 1 1 1 1 1 1 1 1 1 1 1 1 1 1\n",
      " 1 1 1 1 1 1 1 1 1 1 1 1 1 1 1 1 1 1 1 1 1 1]\n",
      "mod_0.5_poly   0.6062992125984252 0.6172506738544474 0.9662447257383966\n",
      "[1 1 1 1 1 1 1 1 1 1 1 1 1 1 1 1 1 1 1 1 1 1 1 1 1 1 1 1 1 1 1 1 1 1 1 1 1\n",
      " 1 1 1 1 1 1 1 1 1 1 1 1 1 1 1 1 1 1 1 0 1 1 1 1 1 1 1 1 1 0 1 1 1 1 1 1 1\n",
      " 1 1 1 1 1 1 1 1 1 1 1 1 1 0 0 1 1 1 1 1 1 1 1 1 0 0 1 1 1 1 1 1 1 1 1 1 1\n",
      " 1 1 0 1 1 1 1 1 1 1 1 1 1 0 0 1 1 1 0 0 1 0 1 0 1 1 1 1 1 1 1 1 1 1 1 1 1\n",
      " 1 1 0 0 1 0 1 1 1 1 1 1 1 1 1 1 1 1 1 1 1 1 1 1 1 1 1 1 1 1 1 1 1 1 1 1 1\n",
      " 1 1 0 0 0 1 1 1 1 1 1 1 1 1 1 1 1 1 1 1 1 1 1 1 1 1 1 1 1 1 1 0 1 1 1 1 1\n",
      " 1 1 1 1 1 1 1 1 1 1 1 1 1 1 0 0 1 1 1 1 1 1 1 1 1 1 1 1 0 0 1 1 1 1 1 1 1\n",
      " 1 1 1 1 1 1 1 1 1 1 1 1 1 1 1 1 1 1 1 0 1 1 1 1 1 1 1 1 1 1 1 1 1 1 1 1 1\n",
      " 1 1 1 1 1 1 1 1 1 1 1 1 1 1 1 1 1 1 1 1 1 1 1 0 1 1 1 1 1 1 1 1 1 1 1 1 1\n",
      " 1 1 1 1 1 1 1 1 1 1 1 1 1 1 1 1 1 1 1 1 1 1 1 1 1 1 1 1 1 1 1 1 1 1 1 1 1\n",
      " 1 1 1 1 1 1 1 1 1 1 1 1 1 1 1 1 1 1 1 1 1 1 1 1 1 1 1 1 1 1 1 1 1 1 1 1 1\n",
      " 1 1 1 1 1 1 1 1 1 1 1 1 1 1 1 1 1 1 1 1 1 1 1 1 1 1 1 1 1 1 1 1 1 1 1 1 1\n",
      " 1 1 1 1 1 1 1 1 1 1 1 1 1 1 1 1 1 1 1 1 1 1 1 1 1 1 1 1 1 1 1 1 1 1 1 1 1\n",
      " 1 1 1 1 1 1 1 1 1 1 1 1 1 1 1 1 1 1 1 1 1 0 0 0 1 1 1 1 1 1 1 1 1 1 1 1 1\n",
      " 1 1 1 1 1 1 1 1 1 1 1 1 1 1 1 1 1 1 1 1 1 1 1 1 1 1 1 1 1 1 1 1 1 1 1 1 1\n",
      " 1 1 1 1 1 1 1 1 1 1 1 1 1 1 1 1 1 1 1 1 1 1 1 1 1 1 1 1 1 1 1 1 1 1 1 1 1\n",
      " 1 1 1 1 1 1 1 1 1 1 1 1 1 1 1 1 1 1 1 1 1 1 0 0 1 1 1 1 1 1 1 1 1 1 1 1 1\n",
      " 1 1 1 1 1 1 1 1 1 1 1 1 1 1 1 1 1 1 1 1 1 1 1 1 1 1 1 1 1 1 1 1 1 1 1 1 1\n",
      " 1 1 1 1 1 1 1 1 1 1 1 1 1 1 1 1 1 1 1 1 1 1 1 1 1 1 1 1 1 1 1 1 1 1 1 1 1\n",
      " 1 1 1 1 1 1 1 1 1 1 1 1 1 1 1 1 1 1 1 1 1 1 1 1 1 1 1 1 1 1 1 1 1 1 1 1 1\n",
      " 1 1 1 1 1 1 1 1 1 1 1 1 1 1 0 1 1 1 1 1 1 1]\n",
      "mod_0.75_poly   0.6089238845144357 0.6205479452054794 0.9556962025316456\n",
      "[1 1 1 1 1 1 1 1 1 1 1 1 1 1 1 1 1 1 1 1 1 1 1 1 1 1 1 1 1 1 1 1 1 1 1 1 1\n",
      " 1 1 1 1 1 1 1 1 1 1 1 1 1 1 1 1 1 1 1 0 1 1 1 1 1 1 1 1 1 0 1 1 1 1 1 1 1\n",
      " 1 1 1 1 1 1 1 1 1 1 1 1 1 0 0 0 0 0 1 1 1 0 1 1 0 0 0 0 1 1 1 1 1 1 1 1 1\n",
      " 1 1 0 1 1 1 1 1 1 1 1 1 1 0 0 1 1 1 0 0 1 0 0 0 1 1 1 1 1 1 1 1 1 1 1 1 1\n",
      " 1 1 0 0 1 0 1 1 1 1 1 1 1 1 1 1 1 1 1 1 1 1 1 1 1 1 1 1 1 1 1 1 1 1 1 1 1\n",
      " 1 1 0 0 1 1 1 0 1 1 1 1 1 1 1 1 1 1 1 1 1 1 1 1 1 1 1 1 1 1 1 0 1 1 1 1 1\n",
      " 1 1 1 1 1 1 1 1 1 1 1 1 1 1 0 0 1 1 1 1 1 1 1 1 1 1 1 1 0 0 0 1 1 1 1 1 1\n",
      " 1 1 1 1 1 1 1 1 0 1 1 1 0 1 1 1 1 1 1 0 1 1 1 1 1 1 1 1 1 1 1 1 1 1 1 1 1\n",
      " 1 1 1 1 1 1 1 1 1 1 1 1 1 1 1 1 1 1 1 0 1 1 1 0 1 1 1 1 1 1 1 1 1 1 1 1 1\n",
      " 1 1 1 1 1 1 1 1 1 1 1 1 1 1 1 1 1 1 1 1 1 1 1 1 1 1 1 1 1 1 1 1 1 1 1 1 1\n",
      " 1 1 1 1 1 1 1 1 1 1 1 1 1 1 1 1 1 1 1 1 1 1 1 1 1 1 1 1 1 1 1 1 1 1 1 1 1\n",
      " 1 1 1 1 1 1 1 1 1 1 1 1 1 1 1 1 1 1 1 1 1 1 1 1 1 1 1 1 1 1 1 1 1 1 1 1 1\n",
      " 1 1 1 1 1 1 1 1 1 1 1 1 1 1 1 1 1 1 1 1 1 1 1 1 1 1 1 1 1 1 1 1 1 1 1 1 1\n",
      " 1 1 1 1 1 1 1 1 1 1 1 1 1 1 1 1 1 1 1 1 1 0 0 0 1 1 1 1 1 1 1 1 1 1 1 1 1\n",
      " 1 1 1 1 1 1 1 1 1 1 1 1 1 1 1 1 1 1 1 1 1 1 1 1 1 1 1 1 1 1 1 1 1 1 1 1 1\n",
      " 1 1 1 1 1 1 1 1 1 1 1 1 1 1 1 1 1 1 1 1 1 1 1 1 1 1 1 1 1 1 1 1 1 1 1 1 1\n",
      " 1 1 1 1 1 1 1 1 1 1 1 1 1 1 1 1 1 1 1 1 1 1 0 0 1 0 1 1 1 1 1 1 1 1 1 1 1\n",
      " 1 1 1 1 1 1 1 1 1 1 1 1 1 1 1 1 1 1 1 1 1 1 1 1 1 1 1 1 1 1 1 1 1 1 1 1 1\n",
      " 1 1 1 1 1 1 1 1 1 1 1 1 1 1 1 1 1 1 1 1 1 1 1 1 1 1 1 1 1 1 1 1 1 1 1 1 1\n",
      " 1 1 1 1 1 1 1 1 1 1 1 1 1 1 1 1 1 1 1 1 1 1 1 1 1 1 1 1 1 1 1 1 1 1 1 1 1\n",
      " 1 1 1 1 1 1 1 1 1 1 1 1 1 0 0 1 1 1 1 1 1 1]\n",
      "mod_1_poly   0.6128608923884514 0.6248256624825662 0.9451476793248945\n",
      "[0 0 0 0 0 0 0 0 0 1 1 1 1 1 1 1 1 1 0 0 0 0 0 1 1 1 1 1 1 1 1 1 1 1 1 1 1\n",
      " 1 0 1 1 1 1 1 1 1 1 1 1 0 0 1 1 1 1 1 0 1 1 1 1 1 1 1 1 1 0 1 1 1 1 1 0 1\n",
      " 1 1 1 0 0 0 0 0 1 1 1 1 1 0 0 0 0 0 0 1 0 0 0 0 0 0 0 0 0 0 1 1 1 0 0 0 1\n",
      " 0 0 0 0 0 1 1 1 1 1 1 1 1 0 0 0 1 1 0 0 0 0 0 0 0 0 0 0 0 0 1 0 0 0 1 1 1\n",
      " 1 0 0 0 1 1 0 1 0 0 1 1 0 0 1 1 1 1 1 0 1 1 1 1 1 1 1 1 0 0 1 0 1 1 1 1 1\n",
      " 0 1 0 0 0 0 0 0 1 1 1 1 1 1 1 1 1 1 0 1 1 1 0 0 1 1 1 1 1 1 1 0 1 0 0 1 0\n",
      " 0 0 1 0 0 1 0 1 0 1 1 1 1 0 0 0 0 0 0 1 0 0 0 1 1 1 1 1 0 0 0 0 0 1 1 1 1\n",
      " 1 1 1 1 1 0 1 1 0 1 0 0 0 0 1 1 1 0 0 1 1 1 1 1 1 1 1 1 1 1 1 1 1 1 0 0 0\n",
      " 1 1 1 1 1 1 0 1 1 1 1 1 1 1 1 1 1 1 1 0 1 0 0 0 0 1 1 1 1 1 1 1 1 1 1 1 0\n",
      " 0 0 0 0 1 1 1 1 1 0 0 1 1 1 1 1 1 1 1 1 1 1 0 1 1 1 1 1 1 1 1 1 1 1 1 1 1\n",
      " 1 1 1 1 1 1 1 1 1 1 1 1 1 1 1 1 1 1 1 1 1 1 1 1 0 0 1 1 1 1 1 1 1 1 1 0 1\n",
      " 1 1 1 1 1 1 1 0 1 1 0 1 1 1 1 0 0 0 1 0 1 1 1 1 1 1 1 1 1 0 0 1 1 1 1 1 1\n",
      " 1 1 1 1 1 1 1 1 1 1 1 1 1 0 0 0 1 1 1 1 1 1 1 1 1 1 1 1 1 1 0 1 1 1 1 1 0\n",
      " 1 1 1 1 1 1 1 0 0 0 0 1 1 0 0 0 0 1 1 1 1 0 0 0 0 0 1 1 0 1 1 1 1 1 1 1 1\n",
      " 1 1 0 1 0 0 1 0 0 1 1 0 1 1 1 1 1 1 1 1 1 1 1 1 1 1 1 1 1 1 0 0 1 1 1 1 1\n",
      " 1 1 1 1 1 1 1 1 0 0 1 1 1 1 1 1 0 0 0 0 0 1 1 1 1 1 1 1 1 1 0 0 0 0 0 1 1\n",
      " 1 1 1 1 1 1 0 0 1 1 1 0 1 1 1 0 1 1 1 1 1 1 0 0 0 0 0 1 1 0 1 0 0 0 1 1 1\n",
      " 1 1 1 1 0 1 1 1 1 1 1 1 1 1 1 0 1 1 1 1 1 1 1 1 1 1 1 1 1 1 1 1 0 0 1 1 1\n",
      " 1 1 1 1 1 1 1 1 1 1 1 1 1 1 0 1 0 1 1 0 1 1 0 0 1 1 0 0 0 1 0 1 1 1 1 1 1\n",
      " 1 1 1 1 0 1 1 1 1 1 0 1 0 1 0 1 1 0 1 0 1 1 1 1 1 1 1 1 1 0 0 1 1 1 0 1 0\n",
      " 1 1 1 1 1 1 1 0 1 1 1 1 1 0 1 1 1 0 1 1 1 1]\n",
      "mod_10_poly   0.5603674540682415 0.6299065420560748 0.7109704641350211\n",
      "[0 0 0 0 0 0 0 0 0 0 1 1 1 1 1 1 1 0 0 0 0 0 0 0 1 1 1 1 1 1 1 1 1 1 1 1 1\n",
      " 1 0 1 1 1 1 1 1 1 1 1 0 0 0 1 1 1 1 1 0 1 1 1 1 1 1 1 1 1 0 1 1 1 1 1 0 0\n",
      " 1 1 1 0 0 0 0 0 1 0 1 1 1 0 0 0 0 0 0 0 0 0 0 0 0 0 0 0 0 1 0 1 1 0 0 0 0\n",
      " 0 0 0 0 0 0 0 1 1 0 0 1 0 1 0 0 1 1 1 0 0 0 0 0 0 0 0 0 0 0 1 0 0 0 0 0 1\n",
      " 1 0 0 0 1 1 0 0 0 0 0 0 0 0 1 1 1 1 1 0 1 1 1 1 1 1 1 1 0 0 1 1 1 1 1 1 0\n",
      " 0 0 1 0 0 0 0 0 1 1 1 1 1 1 1 1 1 0 0 1 1 1 1 0 1 1 1 1 1 1 1 1 1 1 0 1 0\n",
      " 0 1 1 0 0 1 0 1 0 1 1 1 1 0 0 0 0 0 0 1 0 0 0 1 0 1 1 1 0 0 0 0 1 1 1 1 1\n",
      " 1 1 1 1 1 0 1 1 1 1 0 0 0 0 0 1 0 0 0 1 1 1 1 1 1 1 0 0 1 1 1 1 1 1 1 1 0\n",
      " 1 1 1 0 1 1 0 1 1 1 1 1 1 1 1 1 1 1 1 0 1 0 0 0 0 1 1 1 1 1 1 1 1 0 1 1 0\n",
      " 0 0 0 0 1 1 1 1 0 0 0 0 1 1 1 1 1 1 1 1 1 1 0 1 1 1 1 1 1 1 1 1 1 1 1 1 1\n",
      " 1 1 1 1 1 1 1 1 1 1 1 1 1 1 1 1 1 1 1 1 1 1 1 1 0 0 0 1 1 1 1 1 0 1 1 0 1\n",
      " 0 1 0 1 1 1 1 0 1 1 0 0 1 1 1 0 0 0 1 0 1 1 1 1 1 1 1 1 1 0 0 1 1 1 1 1 1\n",
      " 1 1 1 1 1 1 1 1 1 1 1 1 1 0 0 0 1 1 0 1 1 1 1 1 1 1 1 1 1 1 0 1 1 1 1 1 0\n",
      " 0 1 1 1 1 1 0 0 0 0 0 1 1 0 0 0 1 1 0 1 1 0 0 0 0 0 1 1 0 1 1 1 1 1 1 1 1\n",
      " 1 1 0 1 0 0 1 0 0 1 1 0 1 1 1 1 1 1 1 0 1 1 1 1 1 1 1 1 1 1 0 0 1 1 1 1 1\n",
      " 1 1 1 1 1 1 1 1 0 0 1 1 1 1 1 1 1 1 0 0 0 1 1 1 1 1 1 1 1 1 0 0 0 0 0 1 1\n",
      " 1 1 1 1 1 1 1 0 0 1 0 0 1 1 1 1 1 1 0 1 1 1 0 1 1 0 1 1 1 0 1 0 0 0 1 1 1\n",
      " 1 1 1 1 0 1 1 1 0 1 0 1 1 1 0 0 0 1 1 1 1 0 1 1 1 1 1 1 1 1 0 1 0 0 1 1 1\n",
      " 1 1 1 1 1 0 1 1 1 1 1 1 1 1 0 1 0 0 1 0 1 1 0 0 1 1 1 0 0 1 0 0 1 1 1 1 1\n",
      " 1 1 1 1 0 1 1 1 0 1 0 0 0 1 0 1 1 0 1 0 1 1 1 1 1 1 0 1 1 0 0 0 1 1 0 1 1\n",
      " 1 1 1 1 1 1 1 0 1 1 1 1 1 1 1 1 1 1 1 1 1 1]\n",
      "mod_25_poly   0.541994750656168 0.6242544731610338 0.6624472573839663\n"
     ]
    }
   ],
   "source": [
    "# analyze poly results\n",
    "from sklearn.metrics import precision_score, recall_score\n",
    "poly_results_1w = {}\n",
    "print(\"Model, Accuracy, Precision, Recall\\n\")\n",
    "for key, model in model_dict_poly_1w.items():\n",
    "       acc = model.score(x_test, y_test)\n",
    "       preds = model.predict(x_test)\n",
    "       precision = precision_score(y_test, preds)\n",
    "       recall = recall_score(y_test, preds)\n",
    "       poly_results_1w[key] = [acc, precision, recall]\n",
    "       print(key, \" \", acc, precision, recall)"
   ],
   "metadata": {
    "collapsed": false,
    "ExecuteTime": {
     "end_time": "2023-12-15T23:37:21.156753Z",
     "start_time": "2023-12-15T23:37:18.184860Z"
    }
   }
  },
  {
   "cell_type": "code",
   "execution_count": 359,
   "outputs": [
    {
     "data": {
      "text/plain": "      Accuracy  Precision    Recall\nc                                  \n0.01  0.605932   0.605932  1.000000\n0.1   0.604520   0.605375  0.997669\n0.15  0.604520   0.605674  0.995338\n0.25  0.600282   0.603989  0.988345\n0.5   0.594633   0.603198  0.967366\n0.75  0.583333   0.598240  0.951049\n1     0.587571   0.603008  0.934732\n10    0.531073   0.596040  0.701632\n25    0.501412   0.582251  0.627040",
      "text/html": "<div>\n<style scoped>\n    .dataframe tbody tr th:only-of-type {\n        vertical-align: middle;\n    }\n\n    .dataframe tbody tr th {\n        vertical-align: top;\n    }\n\n    .dataframe thead th {\n        text-align: right;\n    }\n</style>\n<table border=\"1\" class=\"dataframe\">\n  <thead>\n    <tr style=\"text-align: right;\">\n      <th></th>\n      <th>Accuracy</th>\n      <th>Precision</th>\n      <th>Recall</th>\n    </tr>\n    <tr>\n      <th>c</th>\n      <th></th>\n      <th></th>\n      <th></th>\n    </tr>\n  </thead>\n  <tbody>\n    <tr>\n      <th>0.01</th>\n      <td>0.605932</td>\n      <td>0.605932</td>\n      <td>1.000000</td>\n    </tr>\n    <tr>\n      <th>0.1</th>\n      <td>0.604520</td>\n      <td>0.605375</td>\n      <td>0.997669</td>\n    </tr>\n    <tr>\n      <th>0.15</th>\n      <td>0.604520</td>\n      <td>0.605674</td>\n      <td>0.995338</td>\n    </tr>\n    <tr>\n      <th>0.25</th>\n      <td>0.600282</td>\n      <td>0.603989</td>\n      <td>0.988345</td>\n    </tr>\n    <tr>\n      <th>0.5</th>\n      <td>0.594633</td>\n      <td>0.603198</td>\n      <td>0.967366</td>\n    </tr>\n    <tr>\n      <th>0.75</th>\n      <td>0.583333</td>\n      <td>0.598240</td>\n      <td>0.951049</td>\n    </tr>\n    <tr>\n      <th>1</th>\n      <td>0.587571</td>\n      <td>0.603008</td>\n      <td>0.934732</td>\n    </tr>\n    <tr>\n      <th>10</th>\n      <td>0.531073</td>\n      <td>0.596040</td>\n      <td>0.701632</td>\n    </tr>\n    <tr>\n      <th>25</th>\n      <td>0.501412</td>\n      <td>0.582251</td>\n      <td>0.627040</td>\n    </tr>\n  </tbody>\n</table>\n</div>"
     },
     "execution_count": 359,
     "metadata": {},
     "output_type": "execute_result"
    }
   ],
   "source": [
    "# create results dataframe\n",
    "poly_results_df_1w = pd.DataFrame.from_dict(poly_results_1w).transpose()\n",
    "poly_results_df_1w.rename(columns={0:'Accuracy',1:'Precision',2:'Recall'}, inplace=True)\n",
    "poly_results_df_1w['c'] = ['0.01', '0.1', '0.15', '0.25', '0.5', '0.75', '1', '10', '25']\n",
    "poly_results_df_1w.set_index('c', inplace=True)\n",
    "poly_results_df_1w"
   ],
   "metadata": {
    "collapsed": false,
    "ExecuteTime": {
     "end_time": "2023-12-15T22:12:42.239182Z",
     "start_time": "2023-12-15T22:12:42.227702Z"
    }
   }
  },
  {
   "cell_type": "code",
   "execution_count": 360,
   "outputs": [
    {
     "data": {
      "text/plain": "<Axes: xlabel='c'>"
     },
     "execution_count": 360,
     "metadata": {},
     "output_type": "execute_result"
    },
    {
     "data": {
      "text/plain": "<Figure size 640x480 with 1 Axes>",
      "image/png": "[encoded data removed]"
     },
     "metadata": {},
     "output_type": "display_data"
    }
   ],
   "source": [
    "# plot results dataframe\n",
    "poly_results_df_1w['Accuracy'].transpose().plot(legend=True)\n",
    "poly_results_df_1w['Precision'].transpose().plot(legend=True)\n",
    "poly_results_df_1w['Recall'].transpose().plot(legend=True)"
   ],
   "metadata": {
    "collapsed": false,
    "ExecuteTime": {
     "end_time": "2023-12-15T22:12:43.405470Z",
     "start_time": "2023-12-15T22:12:43.221359Z"
    }
   }
  },
  {
   "cell_type": "code",
   "execution_count": 361,
   "outputs": [
    {
     "name": "stdout",
     "output_type": "stream",
     "text": [
      "Model, Accuracy, Precision, Recall\n",
      "\n",
      "mod_0.01_rbf   0.6059322033898306 0.6059322033898306 1.0\n",
      "mod_0.1_rbf   0.6059322033898306 0.6059322033898306 1.0\n",
      "mod_0.15_rbf   0.6059322033898306 0.6059322033898306 1.0\n",
      "mod_0.25_rbf   0.6059322033898306 0.6059322033898306 1.0\n",
      "mod_0.5_rbf   0.6045197740112994 0.6056737588652482 0.9953379953379954\n",
      "mod_0.75_rbf   0.5861581920903954 0.5997067448680352 0.9533799533799534\n",
      "mod_1_rbf   0.5677966101694916 0.5947611710323575 0.8997668997668997\n",
      "mod_10_rbf   0.5310734463276836 0.6008316008316008 0.6736596736596736\n",
      "mod_25_rbf   0.5282485875706214 0.6021505376344086 0.6526806526806527\n"
     ]
    }
   ],
   "source": [
    "# analyze rbf results\n",
    "rbf_results_1w = {}\n",
    "print(\"Model, Accuracy, Precision, Recall\\n\")\n",
    "for key, model in model_dict_rbf_1w.items():\n",
    "       acc = model.score(x_test, y_test)\n",
    "       preds = model.predict(x_test)\n",
    "       precision = precision_score(y_test, preds)\n",
    "       recall = recall_score(y_test, preds)\n",
    "       rbf_results_1w[key] = [acc, precision, recall]\n",
    "       print(key, \" \", acc, precision, recall)"
   ],
   "metadata": {
    "collapsed": false,
    "ExecuteTime": {
     "end_time": "2023-12-15T22:12:50.626797Z",
     "start_time": "2023-12-15T22:12:44.050557Z"
    }
   }
  },
  {
   "cell_type": "code",
   "execution_count": 362,
   "outputs": [
    {
     "data": {
      "text/plain": "      Accuracy  Precision    Recall\nc                                  \n0.01  0.605932   0.605932  1.000000\n0.1   0.605932   0.605932  1.000000\n0.15  0.605932   0.605932  1.000000\n0.25  0.605932   0.605932  1.000000\n0.5   0.604520   0.605674  0.995338\n0.75  0.586158   0.599707  0.953380\n1     0.567797   0.594761  0.899767\n10    0.531073   0.600832  0.673660\n25    0.528249   0.602151  0.652681",
      "text/html": "<div>\n<style scoped>\n    .dataframe tbody tr th:only-of-type {\n        vertical-align: middle;\n    }\n\n    .dataframe tbody tr th {\n        vertical-align: top;\n    }\n\n    .dataframe thead th {\n        text-align: right;\n    }\n</style>\n<table border=\"1\" class=\"dataframe\">\n  <thead>\n    <tr style=\"text-align: right;\">\n      <th></th>\n      <th>Accuracy</th>\n      <th>Precision</th>\n      <th>Recall</th>\n    </tr>\n    <tr>\n      <th>c</th>\n      <th></th>\n      <th></th>\n      <th></th>\n    </tr>\n  </thead>\n  <tbody>\n    <tr>\n      <th>0.01</th>\n      <td>0.605932</td>\n      <td>0.605932</td>\n      <td>1.000000</td>\n    </tr>\n    <tr>\n      <th>0.1</th>\n      <td>0.605932</td>\n      <td>0.605932</td>\n      <td>1.000000</td>\n    </tr>\n    <tr>\n      <th>0.15</th>\n      <td>0.605932</td>\n      <td>0.605932</td>\n      <td>1.000000</td>\n    </tr>\n    <tr>\n      <th>0.25</th>\n      <td>0.605932</td>\n      <td>0.605932</td>\n      <td>1.000000</td>\n    </tr>\n    <tr>\n      <th>0.5</th>\n      <td>0.604520</td>\n      <td>0.605674</td>\n      <td>0.995338</td>\n    </tr>\n    <tr>\n      <th>0.75</th>\n      <td>0.586158</td>\n      <td>0.599707</td>\n      <td>0.953380</td>\n    </tr>\n    <tr>\n      <th>1</th>\n      <td>0.567797</td>\n      <td>0.594761</td>\n      <td>0.899767</td>\n    </tr>\n    <tr>\n      <th>10</th>\n      <td>0.531073</td>\n      <td>0.600832</td>\n      <td>0.673660</td>\n    </tr>\n    <tr>\n      <th>25</th>\n      <td>0.528249</td>\n      <td>0.602151</td>\n      <td>0.652681</td>\n    </tr>\n  </tbody>\n</table>\n</div>"
     },
     "execution_count": 362,
     "metadata": {},
     "output_type": "execute_result"
    }
   ],
   "source": [
    "# create results dataframe\n",
    "rbf_results_df_1w = pd.DataFrame.from_dict(rbf_results_1w).transpose()\n",
    "rbf_results_df_1w.rename(columns={0:'Accuracy',1:'Precision',2:'Recall'}, inplace=True)\n",
    "rbf_results_df_1w['c'] = ['0.01', '0.1', '0.15', '0.25', '0.5', '0.75', '1', '10', '25']\n",
    "rbf_results_df_1w.set_index('c', inplace=True)\n",
    "rbf_results_df_1w"
   ],
   "metadata": {
    "collapsed": false,
    "ExecuteTime": {
     "end_time": "2023-12-15T22:12:52.802673Z",
     "start_time": "2023-12-15T22:12:52.789210Z"
    }
   }
  },
  {
   "cell_type": "code",
   "execution_count": 363,
   "outputs": [
    {
     "data": {
      "text/plain": "<Axes: xlabel='c'>"
     },
     "execution_count": 363,
     "metadata": {},
     "output_type": "execute_result"
    },
    {
     "data": {
      "text/plain": "<Figure size 640x480 with 1 Axes>",
      "image/png": "[encoded data removed]"
     },
     "metadata": {},
     "output_type": "display_data"
    }
   ],
   "source": [
    "# plot results dataframe\n",
    "rbf_results_df_1w['Accuracy'].transpose().plot(legend=True)\n",
    "rbf_results_df_1w['Precision'].transpose().plot(legend=True)\n",
    "rbf_results_df_1w['Recall'].transpose().plot(legend=True)"
   ],
   "metadata": {
    "collapsed": false,
    "ExecuteTime": {
     "end_time": "2023-12-15T22:12:54.130143Z",
     "start_time": "2023-12-15T22:12:53.953938Z"
    }
   }
  },
  {
   "cell_type": "code",
   "execution_count": 364,
   "outputs": [
    {
     "name": "stdout",
     "output_type": "stream",
     "text": [
      "Cross Validation for C =  0.001\n",
      "Scores: [0.58657244 0.46996466 0.66784452 0.64664311 0.57243816 0.67844523\n",
      " 0.6360424  0.58303887 0.59363958 0.62765957]\n",
      "Mean: 0.6062288549733102\n",
      "Standard Deviation: 0.05725863369068064\n",
      "\n",
      "\n",
      "Cross Validation for C =  0.01\n",
      "Scores: [0.58657244 0.46996466 0.66784452 0.64664311 0.57243816 0.67844523\n",
      " 0.6360424  0.58303887 0.59363958 0.62765957]\n",
      "Mean: 0.6062288549733102\n",
      "Standard Deviation: 0.05725863369068064\n",
      "\n",
      "\n",
      "Cross Validation for C =  0.1\n",
      "Scores: [0.58657244 0.46996466 0.66784452 0.64664311 0.57243816 0.67844523\n",
      " 0.6360424  0.58303887 0.59363958 0.62765957]\n",
      "Mean: 0.6062288549733102\n",
      "Standard Deviation: 0.05725863369068064\n",
      "\n",
      "\n",
      "Cross Validation for C =  0.15\n",
      "Scores: [0.58657244 0.46996466 0.66784452 0.64664311 0.57243816 0.67844523\n",
      " 0.6360424  0.58303887 0.59363958 0.62765957]\n",
      "Mean: 0.6062288549733102\n",
      "Standard Deviation: 0.05725863369068064\n",
      "\n",
      "\n",
      "Cross Validation for C =  0.25\n",
      "Scores: [0.58657244 0.46996466 0.66784452 0.64664311 0.57243816 0.67844523\n",
      " 0.6360424  0.58303887 0.59363958 0.62765957]\n",
      "Mean: 0.6062288549733102\n",
      "Standard Deviation: 0.05725863369068064\n",
      "\n",
      "\n",
      "Cross Validation for C =  0.5\n",
      "Scores: [0.58303887 0.47349823 0.65724382 0.64664311 0.57243816 0.65017668\n",
      " 0.62897527 0.5795053  0.58303887 0.63120567]\n",
      "Mean: 0.600576397764579\n",
      "Standard Deviation: 0.052476580919279966\n",
      "\n",
      "\n",
      "Cross Validation for C =  0.75\n",
      "Scores: [0.5795053  0.4664311  0.66431095 0.62190813 0.5795053  0.62897527\n",
      " 0.62190813 0.5795053  0.55123675 0.61347518]\n",
      "Mean: 0.5906761396386238\n",
      "Standard Deviation: 0.051697426053795556\n",
      "\n",
      "\n",
      "Cross Validation for C =  1\n",
      "Scores: [0.56537102 0.45583039 0.65724382 0.59717314 0.56183746 0.6254417\n",
      " 0.59363958 0.56890459 0.54770318 0.60638298]\n",
      "Mean: 0.5779527855048493\n",
      "Standard Deviation: 0.05127848519429283\n",
      "\n",
      "\n"
     ]
    }
   ],
   "source": [
    "# perform cross validation to ensure consistent results across different train/test splits\n",
    "from sklearn.model_selection import cross_val_score, KFold\n",
    "\n",
    "# cross validation\n",
    "for c in [0.001, 0.01, 0.1, 0.15, 0.25, 0.5, 0.75, 1, 1.25, 1.5]:\n",
    "    print(\"Cross Validation for C = \", c)\n",
    "    mod = svm.SVC(C=c, kernel='rbf')\n",
    "    scores = cross_val_score(mod, x_train, y_train, cv=KFold(10, shuffle=False), scoring='accuracy')\n",
    "    print(\"Scores:\", scores)\n",
    "    print(\"Mean:\", scores.mean())\n",
    "    print(\"Standard Deviation:\", scores.std())\n",
    "    print(\"\\n\")\n"
   ],
   "metadata": {
    "collapsed": false,
    "ExecuteTime": {
     "end_time": "2023-12-15T22:13:50.442650Z",
     "start_time": "2023-12-15T22:12:54.852266Z"
    }
   }
  },
  {
   "cell_type": "markdown",
   "source": [
    "## Model Building: Approach 2\n",
    "- Binary classification predicting positive/negative return over the next 2 weeks\n",
    "- Test SVM with Poly and RBF kernels (linear kernel is not used as it is not suitable for non-linear data)\n",
    "- Use 80/20 train/test split"
   ],
   "metadata": {
    "collapsed": false
   }
  },
  {
   "cell_type": "code",
   "execution_count": 365,
   "outputs": [],
   "source": [
    "# select the response variable as the index return over the next 2 weeks\n",
    "y = response[response['date'] >= '2006-11-14']['return_1w'].values\n",
    "\n",
    "# select the features and drop the date column\n",
    "X = standardized_df.drop(['date'], axis=1).values\n",
    "\n",
    "# replace infinite values\n",
    "X = np.nan_to_num(X, posinf=3, neginf=-3)"
   ],
   "metadata": {
    "collapsed": false,
    "ExecuteTime": {
     "end_time": "2023-12-15T22:13:50.460525Z",
     "start_time": "2023-12-15T22:13:50.444583Z"
    }
   }
  },
  {
   "cell_type": "code",
   "execution_count": 284,
   "outputs": [],
   "source": [
    "# spit svm dataset into train and test sets\n",
    "from sklearn.model_selection import train_test_split\n",
    "x_train, x_test, y_train, y_test = train_test_split(X, y, shuffle=False, test_size=0.2, random_state=123)"
   ],
   "metadata": {
    "collapsed": false,
    "ExecuteTime": {
     "end_time": "2023-12-15T21:52:00.921082Z",
     "start_time": "2023-12-15T21:52:00.905465Z"
    }
   }
  },
  {
   "cell_type": "code",
   "execution_count": 285,
   "outputs": [
    {
     "name": "stdout",
     "output_type": "stream",
     "text": [
      "Training Model:  0.01 poly\n",
      "Training Model:  0.01 rbf\n",
      "Training Model:  0.1 poly\n",
      "Training Model:  0.1 rbf\n",
      "Training Model:  0.15 poly\n",
      "Training Model:  0.15 rbf\n",
      "Training Model:  0.25 poly\n",
      "Training Model:  0.25 rbf\n",
      "Training Model:  0.5 poly\n",
      "Training Model:  0.5 rbf\n",
      "Training Model:  0.75 poly\n",
      "Training Model:  0.75 rbf\n",
      "Training Model:  1 poly\n",
      "Training Model:  1 rbf\n",
      "Training Model:  10 poly\n",
      "Training Model:  10 rbf\n",
      "Training Model:  25 poly\n",
      "Training Model:  25 rbf\n"
     ]
    }
   ],
   "source": [
    "# fit SVMs\n",
    "# using multiple c values to find best model\n",
    "from sklearn import svm\n",
    "model_dict_2w = {}\n",
    "c_list = [0.01, 0.1, 0.15, 0.25, 0.5, 0.75, 1, 10, 25]\n",
    "kern_list = ['poly', 'rbf']\n",
    "for c in c_list:\n",
    "    for k in kern_list:\n",
    "        print(\"Training Model: \", c, k)\n",
    "        name = str(c) + \"_\" + k\n",
    "        mod = svm.SVC(C=c, kernel=k)\n",
    "        mod.fit(x_train, y_train)\n",
    "        model_dict_2w[\"mod_\"+name] = mod"
   ],
   "metadata": {
    "collapsed": false,
    "ExecuteTime": {
     "end_time": "2023-12-15T21:52:18.482113Z",
     "start_time": "2023-12-15T21:52:02.175962Z"
    }
   }
  },
  {
   "cell_type": "code",
   "execution_count": 286,
   "outputs": [],
   "source": [
    "# separate SVM models into different dictionaries based on kernel type\n",
    "model_dict_poly_2w = {}\n",
    "model_dict_rbf_2w = {}\n",
    "for key, model in model_dict_2w.items():\n",
    "    if 'poly' in key:\n",
    "        model_dict_poly_2w[key] = model\n",
    "    elif 'rbf' in key:\n",
    "        model_dict_rbf_2w[key] = model"
   ],
   "metadata": {
    "collapsed": false,
    "ExecuteTime": {
     "end_time": "2023-12-15T21:52:22.690788Z",
     "start_time": "2023-12-15T21:52:22.678763Z"
    }
   }
  },
  {
   "cell_type": "code",
   "execution_count": 287,
   "outputs": [
    {
     "name": "stdout",
     "output_type": "stream",
     "text": [
      "Model, Accuracy, Precision, Recall\n",
      "\n",
      "mod_0.01_poly   0.6059322033898306 0.6059322033898306 1.0\n",
      "mod_0.1_poly   0.6045197740112994 0.6053748231966054 0.9976689976689976\n",
      "mod_0.15_poly   0.6045197740112994 0.6056737588652482 0.9953379953379954\n",
      "mod_0.25_poly   0.6002824858757062 0.603988603988604 0.9883449883449883\n",
      "mod_0.5_poly   0.594632768361582 0.6031976744186046 0.9673659673659674\n",
      "mod_0.75_poly   0.5833333333333334 0.5982404692082112 0.951048951048951\n",
      "mod_1_poly   0.5875706214689266 0.6030075187969924 0.9347319347319347\n",
      "mod_10_poly   0.5310734463276836 0.596039603960396 0.7016317016317016\n",
      "mod_25_poly   0.501412429378531 0.5822510822510822 0.627039627039627\n"
     ]
    }
   ],
   "source": [
    "# analyze poly results\n",
    "from sklearn.metrics import precision_score, recall_score\n",
    "poly_results_2w = {}\n",
    "print(\"Model, Accuracy, Precision, Recall\\n\")\n",
    "for key, model in model_dict_poly_2w.items():\n",
    "       acc = model.score(x_test, y_test)\n",
    "       preds = model.predict(x_test)\n",
    "       precision = precision_score(y_test, preds)\n",
    "       recall = recall_score(y_test, preds)\n",
    "       poly_results_2w[key] = [acc, precision, recall]\n",
    "       print(key, \" \", acc, precision, recall)"
   ],
   "metadata": {
    "collapsed": false,
    "ExecuteTime": {
     "end_time": "2023-12-15T21:52:25.888468Z",
     "start_time": "2023-12-15T21:52:23.815796Z"
    }
   }
  },
  {
   "cell_type": "code",
   "execution_count": 288,
   "outputs": [
    {
     "data": {
      "text/plain": "      Accuracy  Precision    Recall\nc                                  \n0.01  0.605932   0.605932  1.000000\n0.1   0.604520   0.605375  0.997669\n0.15  0.604520   0.605674  0.995338\n0.25  0.600282   0.603989  0.988345\n0.5   0.594633   0.603198  0.967366\n0.75  0.583333   0.598240  0.951049\n1     0.587571   0.603008  0.934732\n10    0.531073   0.596040  0.701632\n25    0.501412   0.582251  0.627040",
      "text/html": "<div>\n<style scoped>\n    .dataframe tbody tr th:only-of-type {\n        vertical-align: middle;\n    }\n\n    .dataframe tbody tr th {\n        vertical-align: top;\n    }\n\n    .dataframe thead th {\n        text-align: right;\n    }\n</style>\n<table border=\"1\" class=\"dataframe\">\n  <thead>\n    <tr style=\"text-align: right;\">\n      <th></th>\n      <th>Accuracy</th>\n      <th>Precision</th>\n      <th>Recall</th>\n    </tr>\n    <tr>\n      <th>c</th>\n      <th></th>\n      <th></th>\n      <th></th>\n    </tr>\n  </thead>\n  <tbody>\n    <tr>\n      <th>0.01</th>\n      <td>0.605932</td>\n      <td>0.605932</td>\n      <td>1.000000</td>\n    </tr>\n    <tr>\n      <th>0.1</th>\n      <td>0.604520</td>\n      <td>0.605375</td>\n      <td>0.997669</td>\n    </tr>\n    <tr>\n      <th>0.15</th>\n      <td>0.604520</td>\n      <td>0.605674</td>\n      <td>0.995338</td>\n    </tr>\n    <tr>\n      <th>0.25</th>\n      <td>0.600282</td>\n      <td>0.603989</td>\n      <td>0.988345</td>\n    </tr>\n    <tr>\n      <th>0.5</th>\n      <td>0.594633</td>\n      <td>0.603198</td>\n      <td>0.967366</td>\n    </tr>\n    <tr>\n      <th>0.75</th>\n      <td>0.583333</td>\n      <td>0.598240</td>\n      <td>0.951049</td>\n    </tr>\n    <tr>\n      <th>1</th>\n      <td>0.587571</td>\n      <td>0.603008</td>\n      <td>0.934732</td>\n    </tr>\n    <tr>\n      <th>10</th>\n      <td>0.531073</td>\n      <td>0.596040</td>\n      <td>0.701632</td>\n    </tr>\n    <tr>\n      <th>25</th>\n      <td>0.501412</td>\n      <td>0.582251</td>\n      <td>0.627040</td>\n    </tr>\n  </tbody>\n</table>\n</div>"
     },
     "execution_count": 288,
     "metadata": {},
     "output_type": "execute_result"
    }
   ],
   "source": [
    "# analyze poly results\n",
    "# plot results dataframe\n",
    "# create results dataframe\n",
    "poly_results_df_2w = pd.DataFrame.from_dict(poly_results_2w).transpose()\n",
    "poly_results_df_2w.rename(columns={0:'Accuracy',1:'Precision',2:'Recall'}, inplace=True)\n",
    "poly_results_df_2w['c'] = ['0.01', '0.1', '0.15', '0.25', '0.5', '0.75', '1', '10', '25']\n",
    "poly_results_df_2w.set_index('c', inplace=True)\n",
    "poly_results_df_2w"
   ],
   "metadata": {
    "collapsed": false,
    "ExecuteTime": {
     "end_time": "2023-12-15T21:52:28.391015Z",
     "start_time": "2023-12-15T21:52:28.380724Z"
    }
   }
  },
  {
   "cell_type": "code",
   "execution_count": 289,
   "outputs": [
    {
     "data": {
      "text/plain": "<Axes: xlabel='c'>"
     },
     "execution_count": 289,
     "metadata": {},
     "output_type": "execute_result"
    },
    {
     "data": {
      "text/plain": "<Figure size 640x480 with 1 Axes>",
      "image/png": "[encoded data removed]"
     },
     "metadata": {},
     "output_type": "display_data"
    }
   ],
   "source": [
    "# plot results dataframe\n",
    "poly_results_df_2w['Accuracy'].transpose().plot(legend=True)\n",
    "poly_results_df_2w['Precision'].transpose().plot(legend=True)\n",
    "poly_results_df_2w['Recall'].transpose().plot(legend=True)"
   ],
   "metadata": {
    "collapsed": false,
    "ExecuteTime": {
     "end_time": "2023-12-15T21:52:31.013067Z",
     "start_time": "2023-12-15T21:52:30.838251Z"
    }
   }
  },
  {
   "cell_type": "code",
   "execution_count": 290,
   "outputs": [
    {
     "name": "stdout",
     "output_type": "stream",
     "text": [
      "Model, Accuracy, Precision, Recall\n",
      "\n",
      "mod_0.01_rbf   0.6059322033898306 0.6059322033898306 1.0\n",
      "mod_0.1_rbf   0.6059322033898306 0.6059322033898306 1.0\n",
      "mod_0.15_rbf   0.6059322033898306 0.6059322033898306 1.0\n",
      "mod_0.25_rbf   0.6059322033898306 0.6059322033898306 1.0\n",
      "mod_0.5_rbf   0.6045197740112994 0.6056737588652482 0.9953379953379954\n",
      "mod_0.75_rbf   0.5861581920903954 0.5997067448680352 0.9533799533799534\n",
      "mod_1_rbf   0.5677966101694916 0.5947611710323575 0.8997668997668997\n",
      "mod_10_rbf   0.5310734463276836 0.6008316008316008 0.6736596736596736\n",
      "mod_25_rbf   0.5282485875706214 0.6021505376344086 0.6526806526806527\n"
     ]
    }
   ],
   "source": [
    "# analyze rbf results\n",
    "rbf_results_2w = {}\n",
    "print(\"Model, Accuracy, Precision, Recall\\n\")\n",
    "for key, model in model_dict_rbf_2w.items():\n",
    "       acc = model.score(x_test, y_test)\n",
    "       preds = model.predict(x_test)\n",
    "       precision = precision_score(y_test, preds)\n",
    "       recall = recall_score(y_test, preds)\n",
    "       rbf_results_2w[key] = [acc, precision, recall]\n",
    "       print(key, \" \", acc, precision, recall)"
   ],
   "metadata": {
    "collapsed": false,
    "ExecuteTime": {
     "end_time": "2023-12-15T21:52:39.325532Z",
     "start_time": "2023-12-15T21:52:33.251529Z"
    }
   }
  },
  {
   "cell_type": "code",
   "execution_count": 291,
   "outputs": [
    {
     "data": {
      "text/plain": "      Accuracy  Precision    Recall\nc                                  \n0.01  0.605932   0.605932  1.000000\n0.1   0.605932   0.605932  1.000000\n0.15  0.605932   0.605932  1.000000\n0.25  0.605932   0.605932  1.000000\n0.5   0.604520   0.605674  0.995338\n0.75  0.586158   0.599707  0.953380\n1     0.567797   0.594761  0.899767\n10    0.531073   0.600832  0.673660\n25    0.528249   0.602151  0.652681",
      "text/html": "<div>\n<style scoped>\n    .dataframe tbody tr th:only-of-type {\n        vertical-align: middle;\n    }\n\n    .dataframe tbody tr th {\n        vertical-align: top;\n    }\n\n    .dataframe thead th {\n        text-align: right;\n    }\n</style>\n<table border=\"1\" class=\"dataframe\">\n  <thead>\n    <tr style=\"text-align: right;\">\n      <th></th>\n      <th>Accuracy</th>\n      <th>Precision</th>\n      <th>Recall</th>\n    </tr>\n    <tr>\n      <th>c</th>\n      <th></th>\n      <th></th>\n      <th></th>\n    </tr>\n  </thead>\n  <tbody>\n    <tr>\n      <th>0.01</th>\n      <td>0.605932</td>\n      <td>0.605932</td>\n      <td>1.000000</td>\n    </tr>\n    <tr>\n      <th>0.1</th>\n      <td>0.605932</td>\n      <td>0.605932</td>\n      <td>1.000000</td>\n    </tr>\n    <tr>\n      <th>0.15</th>\n      <td>0.605932</td>\n      <td>0.605932</td>\n      <td>1.000000</td>\n    </tr>\n    <tr>\n      <th>0.25</th>\n      <td>0.605932</td>\n      <td>0.605932</td>\n      <td>1.000000</td>\n    </tr>\n    <tr>\n      <th>0.5</th>\n      <td>0.604520</td>\n      <td>0.605674</td>\n      <td>0.995338</td>\n    </tr>\n    <tr>\n      <th>0.75</th>\n      <td>0.586158</td>\n      <td>0.599707</td>\n      <td>0.953380</td>\n    </tr>\n    <tr>\n      <th>1</th>\n      <td>0.567797</td>\n      <td>0.594761</td>\n      <td>0.899767</td>\n    </tr>\n    <tr>\n      <th>10</th>\n      <td>0.531073</td>\n      <td>0.600832</td>\n      <td>0.673660</td>\n    </tr>\n    <tr>\n      <th>25</th>\n      <td>0.528249</td>\n      <td>0.602151</td>\n      <td>0.652681</td>\n    </tr>\n  </tbody>\n</table>\n</div>"
     },
     "execution_count": 291,
     "metadata": {},
     "output_type": "execute_result"
    }
   ],
   "source": [
    "# create results dataframe\n",
    "rbf_results_df_2w = pd.DataFrame.from_dict(rbf_results_2w).transpose()\n",
    "rbf_results_df_2w.rename(columns={0:'Accuracy',1:'Precision',2:'Recall'}, inplace=True)\n",
    "rbf_results_df_2w['c'] = ['0.01', '0.1', '0.15', '0.25', '0.5', '0.75', '1', '10', '25']\n",
    "rbf_results_df_2w.set_index('c', inplace=True)\n",
    "rbf_results_df_2w"
   ],
   "metadata": {
    "collapsed": false,
    "ExecuteTime": {
     "end_time": "2023-12-15T21:52:44.756492Z",
     "start_time": "2023-12-15T21:52:44.742078Z"
    }
   }
  },
  {
   "cell_type": "code",
   "execution_count": 292,
   "outputs": [
    {
     "data": {
      "text/plain": "<Axes: xlabel='c'>"
     },
     "execution_count": 292,
     "metadata": {},
     "output_type": "execute_result"
    },
    {
     "data": {
      "text/plain": "<Figure size 640x480 with 1 Axes>",
      "image/png": "[encoded data removed]"
     },
     "metadata": {},
     "output_type": "display_data"
    }
   ],
   "source": [
    "# plot results dataframe\n",
    "rbf_results_df_2w['Accuracy'].transpose().plot(legend=True)\n",
    "rbf_results_df_2w['Precision'].transpose().plot(legend=True)\n",
    "rbf_results_df_2w['Recall'].transpose().plot(legend=True)"
   ],
   "metadata": {
    "collapsed": false,
    "ExecuteTime": {
     "end_time": "2023-12-15T21:52:47.397673Z",
     "start_time": "2023-12-15T21:52:47.184674Z"
    }
   }
  },
  {
   "cell_type": "code",
   "execution_count": 293,
   "outputs": [
    {
     "name": "stdout",
     "output_type": "stream",
     "text": [
      "Cross Validation for C =  0.001\n",
      "Scores: [0.58657244 0.46996466 0.66784452 0.64664311 0.57243816 0.67844523\n",
      " 0.6360424  0.58303887 0.59363958 0.62765957]\n",
      "Mean: 0.6062288549733102\n",
      "Standard Deviation: 0.05725863369068064\n",
      "\n",
      "\n",
      "Cross Validation for C =  0.01\n",
      "Scores: [0.58657244 0.46996466 0.66784452 0.64664311 0.57243816 0.67844523\n",
      " 0.6360424  0.58303887 0.59363958 0.62765957]\n",
      "Mean: 0.6062288549733102\n",
      "Standard Deviation: 0.05725863369068064\n",
      "\n",
      "\n",
      "Cross Validation for C =  0.1\n",
      "Scores: [0.58657244 0.46996466 0.66784452 0.64664311 0.57243816 0.67844523\n",
      " 0.6360424  0.58303887 0.59363958 0.62765957]\n",
      "Mean: 0.6062288549733102\n",
      "Standard Deviation: 0.05725863369068064\n",
      "\n",
      "\n",
      "Cross Validation for C =  0.15\n",
      "Scores: [0.58657244 0.46996466 0.66784452 0.64664311 0.57243816 0.67844523\n",
      " 0.6360424  0.58303887 0.59363958 0.62765957]\n",
      "Mean: 0.6062288549733102\n",
      "Standard Deviation: 0.05725863369068064\n",
      "\n",
      "\n",
      "Cross Validation for C =  0.25\n",
      "Scores: [0.58657244 0.46996466 0.66784452 0.64664311 0.57243816 0.67844523\n",
      " 0.6360424  0.58303887 0.59363958 0.62765957]\n",
      "Mean: 0.6062288549733102\n",
      "Standard Deviation: 0.05725863369068064\n",
      "\n",
      "\n",
      "Cross Validation for C =  0.5\n",
      "Scores: [0.58303887 0.47349823 0.65724382 0.64664311 0.57243816 0.65017668\n",
      " 0.62897527 0.5795053  0.58303887 0.63120567]\n",
      "Mean: 0.600576397764579\n",
      "Standard Deviation: 0.052476580919279966\n",
      "\n",
      "\n",
      "Cross Validation for C =  0.75\n",
      "Scores: [0.5795053  0.4664311  0.66431095 0.62190813 0.5795053  0.62897527\n",
      " 0.62190813 0.5795053  0.55123675 0.61347518]\n",
      "Mean: 0.5906761396386238\n",
      "Standard Deviation: 0.051697426053795556\n",
      "\n",
      "\n",
      "Cross Validation for C =  1\n",
      "Scores: [0.56537102 0.45583039 0.65724382 0.59717314 0.56183746 0.6254417\n",
      " 0.59363958 0.56890459 0.54770318 0.60638298]\n",
      "Mean: 0.5779527855048493\n",
      "Standard Deviation: 0.05127848519429283\n",
      "\n",
      "\n"
     ]
    }
   ],
   "source": [
    "# cross validation\n",
    "for c in [0.001, 0.01, 0.1, 0.15, 0.25, 0.5, 0.75, 1, 1.25, 1.5]:\n",
    "    print(\"Cross Validation for C = \", c)\n",
    "    mod = svm.SVC(C=c, kernel='rbf')\n",
    "    scores = cross_val_score(mod, x_train, y_train, cv=KFold(10, shuffle=False), scoring='accuracy')\n",
    "    print(\"Scores:\", scores)\n",
    "    print(\"Mean:\", scores.mean())\n",
    "    print(\"Standard Deviation:\", scores.std())\n",
    "    print(\"\\n\")"
   ],
   "metadata": {
    "collapsed": false,
    "ExecuteTime": {
     "end_time": "2023-12-15T21:53:51.405001Z",
     "start_time": "2023-12-15T21:52:50.365877Z"
    }
   }
  },
  {
   "cell_type": "markdown",
   "source": [
    "## Model Building: Approach 3\n",
    "- Binary classification predicting positive/negative return over the next 1 month\n",
    "- Test SVM with Poly and RBF kernels (linear kernel is not used as it is not suitable for non-linear data)\n",
    "- Use 80/20 train/test split"
   ],
   "metadata": {
    "collapsed": false
   }
  },
  {
   "cell_type": "code",
   "execution_count": 667,
   "outputs": [],
   "source": [
    "# select the response variable as the index return over the next 1 month\n",
    "y = response[response['date'] >= '2006-11-14']['return_1m'].values\n",
    "\n",
    "# select the features and drop the date column\n",
    "X = standardized_df.drop(['date'], axis=1).values\n",
    "\n",
    "# replace infinite values\n",
    "X = np.nan_to_num(X, posinf=3, neginf=-3)"
   ],
   "metadata": {
    "collapsed": false,
    "ExecuteTime": {
     "end_time": "2023-12-16T15:37:58.837311Z",
     "start_time": "2023-12-16T15:37:58.794439Z"
    }
   }
  },
  {
   "cell_type": "code",
   "execution_count": 668,
   "outputs": [],
   "source": [
    "# spit svm dataset into train and test sets\n",
    "from sklearn.model_selection import train_test_split\n",
    "x_train, x_test, y_train, y_test = train_test_split(X, y, shuffle=False, test_size=0.2, random_state=123)"
   ],
   "metadata": {
    "collapsed": false,
    "ExecuteTime": {
     "end_time": "2023-12-16T15:37:59.400538Z",
     "start_time": "2023-12-16T15:37:59.382198Z"
    }
   }
  },
  {
   "cell_type": "code",
   "execution_count": 669,
   "outputs": [
    {
     "name": "stdout",
     "output_type": "stream",
     "text": [
      "Training Model:  0.01 poly\n",
      "Training Model:  0.01 rbf\n",
      "Training Model:  0.1 poly\n",
      "Training Model:  0.1 rbf\n",
      "Training Model:  0.15 poly\n",
      "Training Model:  0.15 rbf\n",
      "Training Model:  0.25 poly\n",
      "Training Model:  0.25 rbf\n",
      "Training Model:  0.5 poly\n",
      "Training Model:  0.5 rbf\n",
      "Training Model:  0.75 poly\n",
      "Training Model:  0.75 rbf\n",
      "Training Model:  1 poly\n",
      "Training Model:  1 rbf\n",
      "Training Model:  10 poly\n",
      "Training Model:  10 rbf\n",
      "Training Model:  25 poly\n",
      "Training Model:  25 rbf\n"
     ]
    }
   ],
   "source": [
    "# fit SVMs\n",
    "# using multiple c values to find best model\n",
    "from sklearn import svm\n",
    "model_dict_1m = {}\n",
    "c_list = [0.01, 0.1, 0.15, 0.25, 0.5, 0.75, 1, 10, 25]\n",
    "kern_list = ['poly', 'rbf']\n",
    "for c in c_list:\n",
    "    for k in kern_list:\n",
    "        print(\"Training Model: \", c, k)\n",
    "        name = str(c) + \"_\" + k\n",
    "        mod = svm.SVC(C=c, kernel=k)\n",
    "        mod.fit(x_train, y_train)\n",
    "        model_dict_1m[\"mod_\"+name] = mod"
   ],
   "metadata": {
    "collapsed": false,
    "ExecuteTime": {
     "end_time": "2023-12-16T15:38:03.612550Z",
     "start_time": "2023-12-16T15:38:00.029584Z"
    }
   }
  },
  {
   "cell_type": "code",
   "execution_count": 670,
   "outputs": [],
   "source": [
    "# separate SVM models into different dictionaries based on kernel type\n",
    "model_dict_poly_1m = {}\n",
    "model_dict_rbf_1m = {}\n",
    "for key, model in model_dict_1m.items():\n",
    "    if 'poly' in key:\n",
    "        model_dict_poly_1m[key] = model\n",
    "    elif 'rbf' in key:\n",
    "        model_dict_rbf_1m[key] = model"
   ],
   "metadata": {
    "collapsed": false,
    "ExecuteTime": {
     "end_time": "2023-12-16T15:38:08.214795Z",
     "start_time": "2023-12-16T15:38:08.207782Z"
    }
   }
  },
  {
   "cell_type": "code",
   "execution_count": 671,
   "outputs": [
    {
     "name": "stdout",
     "output_type": "stream",
     "text": [
      "Model, Accuracy, Precision, Recall\n",
      "\n",
      "mod_0.01_poly   0.7902439024390244 0.7902439024390244 1.0\n",
      "mod_0.1_poly   0.7878048780487805 0.7897310513447433 0.9969135802469136\n",
      "mod_0.15_poly   0.7853658536585366 0.7892156862745098 0.9938271604938271\n",
      "mod_0.25_poly   0.7829268292682927 0.7886977886977887 0.9907407407407407\n",
      "mod_0.5_poly   0.7804878048780488 0.7881773399014779 0.9876543209876543\n",
      "mod_0.75_poly   0.7658536585365854 0.785 0.9691358024691358\n",
      "mod_1_poly   0.7463414634146341 0.7806122448979592 0.9444444444444444\n",
      "mod_10_poly   0.6024390243902439 0.784452296819788 0.6851851851851852\n",
      "mod_25_poly   0.5829268292682926 0.7931034482758621 0.6388888888888888\n"
     ]
    }
   ],
   "source": [
    "# analyze poly results\n",
    "from sklearn.metrics import precision_score, recall_score\n",
    "poly_results_1m = {}\n",
    "print(\"Model, Accuracy, Precision, Recall\\n\")\n",
    "for key, model in model_dict_poly_1m.items():\n",
    "       acc = model.score(x_test, y_test)\n",
    "       preds = model.predict(x_test)\n",
    "       precision = precision_score(y_test, preds)\n",
    "       recall = recall_score(y_test, preds)\n",
    "       poly_results_1m[key] = [acc, precision, recall]\n",
    "       print(key, \" \", acc, precision, recall)"
   ],
   "metadata": {
    "collapsed": false,
    "ExecuteTime": {
     "end_time": "2023-12-16T15:38:09.764026Z",
     "start_time": "2023-12-16T15:38:09.261335Z"
    }
   }
  },
  {
   "cell_type": "code",
   "execution_count": 672,
   "outputs": [
    {
     "data": {
      "text/plain": "      Accuracy  Precision    Recall\nc                                  \n0.01  0.790244   0.790244  1.000000\n0.1   0.787805   0.789731  0.996914\n0.15  0.785366   0.789216  0.993827\n0.25  0.782927   0.788698  0.990741\n0.5   0.780488   0.788177  0.987654\n0.75  0.765854   0.785000  0.969136\n1     0.746341   0.780612  0.944444\n10    0.602439   0.784452  0.685185\n25    0.582927   0.793103  0.638889",
      "text/html": "<div>\n<style scoped>\n    .dataframe tbody tr th:only-of-type {\n        vertical-align: middle;\n    }\n\n    .dataframe tbody tr th {\n        vertical-align: top;\n    }\n\n    .dataframe thead th {\n        text-align: right;\n    }\n</style>\n<table border=\"1\" class=\"dataframe\">\n  <thead>\n    <tr style=\"text-align: right;\">\n      <th></th>\n      <th>Accuracy</th>\n      <th>Precision</th>\n      <th>Recall</th>\n    </tr>\n    <tr>\n      <th>c</th>\n      <th></th>\n      <th></th>\n      <th></th>\n    </tr>\n  </thead>\n  <tbody>\n    <tr>\n      <th>0.01</th>\n      <td>0.790244</td>\n      <td>0.790244</td>\n      <td>1.000000</td>\n    </tr>\n    <tr>\n      <th>0.1</th>\n      <td>0.787805</td>\n      <td>0.789731</td>\n      <td>0.996914</td>\n    </tr>\n    <tr>\n      <th>0.15</th>\n      <td>0.785366</td>\n      <td>0.789216</td>\n      <td>0.993827</td>\n    </tr>\n    <tr>\n      <th>0.25</th>\n      <td>0.782927</td>\n      <td>0.788698</td>\n      <td>0.990741</td>\n    </tr>\n    <tr>\n      <th>0.5</th>\n      <td>0.780488</td>\n      <td>0.788177</td>\n      <td>0.987654</td>\n    </tr>\n    <tr>\n      <th>0.75</th>\n      <td>0.765854</td>\n      <td>0.785000</td>\n      <td>0.969136</td>\n    </tr>\n    <tr>\n      <th>1</th>\n      <td>0.746341</td>\n      <td>0.780612</td>\n      <td>0.944444</td>\n    </tr>\n    <tr>\n      <th>10</th>\n      <td>0.602439</td>\n      <td>0.784452</td>\n      <td>0.685185</td>\n    </tr>\n    <tr>\n      <th>25</th>\n      <td>0.582927</td>\n      <td>0.793103</td>\n      <td>0.638889</td>\n    </tr>\n  </tbody>\n</table>\n</div>"
     },
     "execution_count": 672,
     "metadata": {},
     "output_type": "execute_result"
    }
   ],
   "source": [
    "# create results dataframe\n",
    "poly_results_df_1m = pd.DataFrame.from_dict(poly_results_1m).transpose()\n",
    "poly_results_df_1m.rename(columns={0:'Accuracy',1:'Precision',2:'Recall'}, inplace=True)\n",
    "poly_results_df_1m['c'] = ['0.01', '0.1', '0.15', '0.25', '0.5', '0.75', '1', '10', '25']\n",
    "poly_results_df_1m.set_index('c', inplace=True)\n",
    "poly_results_df_1m"
   ],
   "metadata": {
    "collapsed": false,
    "ExecuteTime": {
     "end_time": "2023-12-16T15:38:16.161826Z",
     "start_time": "2023-12-16T15:38:16.145018Z"
    }
   }
  },
  {
   "cell_type": "code",
   "execution_count": 673,
   "outputs": [
    {
     "data": {
      "text/plain": "<Axes: xlabel='c'>"
     },
     "execution_count": 673,
     "metadata": {},
     "output_type": "execute_result"
    },
    {
     "data": {
      "text/plain": "<Figure size 640x480 with 1 Axes>",
      "image/png": "[encoded data removed]"
     },
     "metadata": {},
     "output_type": "display_data"
    }
   ],
   "source": [
    "# plot results dataframe\n",
    "poly_results_df_1m['Accuracy'].transpose().plot(legend=True)\n",
    "poly_results_df_1m['Precision'].transpose().plot(legend=True)\n",
    "poly_results_df_1m['Recall'].transpose().plot(legend=True)\n"
   ],
   "metadata": {
    "collapsed": false,
    "ExecuteTime": {
     "end_time": "2023-12-16T15:38:19.401847Z",
     "start_time": "2023-12-16T15:38:18.117872Z"
    }
   }
  },
  {
   "cell_type": "code",
   "execution_count": 674,
   "outputs": [
    {
     "name": "stdout",
     "output_type": "stream",
     "text": [
      "Model, Accuracy, Precision, Recall\n",
      "\n",
      "mod_0.01_rbf   0.7902439024390244 0.7902439024390244 1.0\n",
      "mod_0.1_rbf   0.7902439024390244 0.7902439024390244 1.0\n",
      "mod_0.15_rbf   0.7902439024390244 0.7902439024390244 1.0\n",
      "mod_0.25_rbf   0.7902439024390244 0.7902439024390244 1.0\n",
      "mod_0.5_rbf   0.7853658536585366 0.7892156862745098 0.9938271604938271\n",
      "mod_0.75_rbf   0.7829268292682927 0.7886977886977887 0.9907407407407407\n",
      "mod_1_rbf   0.7829268292682927 0.7886977886977887 0.9907407407407407\n",
      "mod_10_rbf   0.624390243902439 0.8102189781021898 0.6851851851851852\n",
      "mod_25_rbf   0.6097560975609756 0.8129770992366412 0.6574074074074074\n"
     ]
    }
   ],
   "source": [
    "# analyze rbf results\n",
    "rbf_results_1m = {}\n",
    "print(\"Model, Accuracy, Precision, Recall\\n\")\n",
    "for key, model in model_dict_rbf_1m.items():\n",
    "       acc = model.score(x_test, y_test)\n",
    "       preds = model.predict(x_test)\n",
    "       precision = precision_score(y_test, preds)\n",
    "       recall = recall_score(y_test, preds)\n",
    "       rbf_results_1m[key] = [acc, precision, recall]\n",
    "       print(key, \" \", acc, precision, recall)"
   ],
   "metadata": {
    "collapsed": false,
    "ExecuteTime": {
     "end_time": "2023-12-16T15:38:35.584449Z",
     "start_time": "2023-12-16T15:38:34.055580Z"
    }
   }
  },
  {
   "cell_type": "code",
   "execution_count": 675,
   "outputs": [
    {
     "data": {
      "text/plain": "      Accuracy  Precision    Recall\nc                                  \n0.01  0.790244   0.790244  1.000000\n0.1   0.790244   0.790244  1.000000\n0.15  0.790244   0.790244  1.000000\n0.25  0.790244   0.790244  1.000000\n0.5   0.785366   0.789216  0.993827\n0.75  0.782927   0.788698  0.990741\n1     0.782927   0.788698  0.990741\n10    0.624390   0.810219  0.685185\n25    0.609756   0.812977  0.657407",
      "text/html": "<div>\n<style scoped>\n    .dataframe tbody tr th:only-of-type {\n        vertical-align: middle;\n    }\n\n    .dataframe tbody tr th {\n        vertical-align: top;\n    }\n\n    .dataframe thead th {\n        text-align: right;\n    }\n</style>\n<table border=\"1\" class=\"dataframe\">\n  <thead>\n    <tr style=\"text-align: right;\">\n      <th></th>\n      <th>Accuracy</th>\n      <th>Precision</th>\n      <th>Recall</th>\n    </tr>\n    <tr>\n      <th>c</th>\n      <th></th>\n      <th></th>\n      <th></th>\n    </tr>\n  </thead>\n  <tbody>\n    <tr>\n      <th>0.01</th>\n      <td>0.790244</td>\n      <td>0.790244</td>\n      <td>1.000000</td>\n    </tr>\n    <tr>\n      <th>0.1</th>\n      <td>0.790244</td>\n      <td>0.790244</td>\n      <td>1.000000</td>\n    </tr>\n    <tr>\n      <th>0.15</th>\n      <td>0.790244</td>\n      <td>0.790244</td>\n      <td>1.000000</td>\n    </tr>\n    <tr>\n      <th>0.25</th>\n      <td>0.790244</td>\n      <td>0.790244</td>\n      <td>1.000000</td>\n    </tr>\n    <tr>\n      <th>0.5</th>\n      <td>0.785366</td>\n      <td>0.789216</td>\n      <td>0.993827</td>\n    </tr>\n    <tr>\n      <th>0.75</th>\n      <td>0.782927</td>\n      <td>0.788698</td>\n      <td>0.990741</td>\n    </tr>\n    <tr>\n      <th>1</th>\n      <td>0.782927</td>\n      <td>0.788698</td>\n      <td>0.990741</td>\n    </tr>\n    <tr>\n      <th>10</th>\n      <td>0.624390</td>\n      <td>0.810219</td>\n      <td>0.685185</td>\n    </tr>\n    <tr>\n      <th>25</th>\n      <td>0.609756</td>\n      <td>0.812977</td>\n      <td>0.657407</td>\n    </tr>\n  </tbody>\n</table>\n</div>"
     },
     "execution_count": 675,
     "metadata": {},
     "output_type": "execute_result"
    }
   ],
   "source": [
    "# create results dataframe\n",
    "rbf_results_df_1m = pd.DataFrame.from_dict(rbf_results_1m).transpose()\n",
    "rbf_results_df_1m.rename(columns={0:'Accuracy',1:'Precision',2:'Recall'}, inplace=True)\n",
    "rbf_results_df_1m['c'] = ['0.01', '0.1', '0.15', '0.25', '0.5', '0.75', '1', '10', '25']\n",
    "rbf_results_df_1m.set_index('c', inplace=True)\n",
    "rbf_results_df_1m"
   ],
   "metadata": {
    "collapsed": false,
    "ExecuteTime": {
     "end_time": "2023-12-16T15:38:37.605433Z",
     "start_time": "2023-12-16T15:38:37.586898Z"
    }
   }
  },
  {
   "cell_type": "code",
   "execution_count": 676,
   "outputs": [
    {
     "data": {
      "text/plain": "<Axes: xlabel='c'>"
     },
     "execution_count": 676,
     "metadata": {},
     "output_type": "execute_result"
    },
    {
     "data": {
      "text/plain": "<Figure size 640x480 with 1 Axes>",
      "image/png": "[encoded data removed]"
     },
     "metadata": {},
     "output_type": "display_data"
    }
   ],
   "source": [
    "# plot results dataframe\n",
    "rbf_results_df_1m['Accuracy'].transpose().plot(legend=True)\n",
    "rbf_results_df_1m['Precision'].transpose().plot(legend=True)\n",
    "rbf_results_df_1m['Recall'].transpose().plot(legend=True)"
   ],
   "metadata": {
    "collapsed": false,
    "ExecuteTime": {
     "end_time": "2023-12-16T15:38:40.993019Z",
     "start_time": "2023-12-16T15:38:40.768228Z"
    }
   }
  },
  {
   "cell_type": "code",
   "execution_count": 679,
   "outputs": [
    {
     "name": "stdout",
     "output_type": "stream",
     "text": [
      "Cross Validation for C =  0.001\n",
      "Scores: [0.76829268 0.59146341 0.4695122  0.70731707 0.89634146 0.67073171\n",
      " 0.74846626 0.71779141 0.78527607 0.80981595]\n",
      "Mean: 0.71650082298369\n",
      "Standard Deviation: 0.11327097798213868\n",
      "\n",
      "\n",
      "Cross Validation for C =  0.01\n",
      "Scores: [0.76829268 0.59146341 0.4695122  0.70731707 0.89634146 0.67073171\n",
      " 0.74846626 0.71779141 0.78527607 0.80981595]\n",
      "Mean: 0.71650082298369\n",
      "Standard Deviation: 0.11327097798213868\n",
      "\n",
      "\n",
      "Cross Validation for C =  0.1\n",
      "Scores: [0.76829268 0.59146341 0.4695122  0.70731707 0.89634146 0.67073171\n",
      " 0.74846626 0.71779141 0.78527607 0.80981595]\n",
      "Mean: 0.71650082298369\n",
      "Standard Deviation: 0.11327097798213868\n",
      "\n",
      "\n",
      "Cross Validation for C =  0.15\n",
      "Scores: [0.76829268 0.59146341 0.4695122  0.70731707 0.89634146 0.67073171\n",
      " 0.74846626 0.71779141 0.78527607 0.80981595]\n",
      "Mean: 0.71650082298369\n",
      "Standard Deviation: 0.11327097798213868\n",
      "\n",
      "\n",
      "Cross Validation for C =  0.25\n",
      "Scores: [0.76829268 0.59146341 0.4695122  0.70731707 0.89634146 0.67073171\n",
      " 0.74846626 0.71779141 0.78527607 0.80981595]\n",
      "Mean: 0.71650082298369\n",
      "Standard Deviation: 0.11327097798213868\n",
      "\n",
      "\n",
      "Cross Validation for C =  0.5\n",
      "Scores: [0.76829268 0.59146341 0.4695122  0.67682927 0.89634146 0.67073171\n",
      " 0.74846626 0.71779141 0.79141104 0.80981595]\n",
      "Mean: 0.7140655394284005\n",
      "Standard Deviation: 0.11428684763169927\n",
      "\n",
      "\n",
      "Cross Validation for C =  0.75\n",
      "Scores: [0.77439024 0.59146341 0.4695122  0.66463415 0.88414634 0.67073171\n",
      " 0.74233129 0.72392638 0.7791411  0.80368098]\n",
      "Mean: 0.7103957803381715\n",
      "Standard Deviation: 0.11169275987260621\n",
      "\n",
      "\n",
      "Cross Validation for C =  1\n",
      "Scores: [0.76829268 0.59146341 0.47560976 0.65853659 0.86585366 0.67073171\n",
      " 0.74233129 0.72392638 0.77300613 0.76687117]\n",
      "Mean: 0.7036622774203203\n",
      "Standard Deviation: 0.10436008894762726\n",
      "\n",
      "\n",
      "Cross Validation for C =  1.25\n",
      "Scores: [0.76219512 0.59756098 0.47560976 0.64634146 0.83536585 0.66463415\n",
      " 0.73006135 0.72392638 0.7607362  0.72392638]\n",
      "Mean: 0.6920357623821638\n",
      "Standard Deviation: 0.09605732028154808\n",
      "\n",
      "\n",
      "Cross Validation for C =  1.5\n",
      "Scores: [0.76829268 0.59756098 0.47560976 0.61585366 0.82926829 0.66463415\n",
      " 0.70552147 0.72392638 0.74233129 0.67484663]\n",
      "Mean: 0.6797845279066287\n",
      "Standard Deviation: 0.09459979023299106\n",
      "\n",
      "\n",
      "Cross Validation for C =  2\n",
      "Scores: [0.75       0.59756098 0.46341463 0.59146341 0.77439024 0.65853659\n",
      " 0.6809816  0.64417178 0.72392638 0.66257669]\n",
      "Mean: 0.6547022295376328\n",
      "Standard Deviation: 0.08540040308077702\n",
      "\n",
      "\n",
      "Cross Validation for C =  2.5\n",
      "Scores: [0.72560976 0.58536585 0.44512195 0.57926829 0.74390244 0.64634146\n",
      " 0.66871166 0.6196319  0.71165644 0.65644172]\n",
      "Mean: 0.6382051473888972\n",
      "Standard Deviation: 0.0833232409667506\n",
      "\n",
      "\n"
     ]
    }
   ],
   "source": [
    "# cross validation\n",
    "for c in [0.001, 0.01, 0.1, 0.15, 0.25, 0.5, 0.75, 1, 1.25, 1.5, 2, 2.5]:\n",
    "    print(\"Cross Validation for C = \", c)\n",
    "    mod = svm.SVC(C=c, kernel='rbf')\n",
    "    scores = cross_val_score(mod, x_train, y_train, cv=KFold(10, shuffle=False), scoring='accuracy')\n",
    "    print(\"Scores:\", scores)\n",
    "    print(\"Mean:\", scores.mean())\n",
    "    print(\"Standard Deviation:\", scores.std())\n",
    "    print(\"\\n\")"
   ],
   "metadata": {
    "collapsed": false,
    "ExecuteTime": {
     "end_time": "2023-12-16T15:41:22.248224Z",
     "start_time": "2023-12-16T15:40:58.789467Z"
    }
   }
  },
  {
   "cell_type": "markdown",
   "source": [
    "# Model Building Conclusion\n",
    "- The models predicting 1-month positive/negative return performed the best, with the highest accuracy and comparable precision and recall scores. This is likely because the 1-month return is easier to predict than the 1-week and 2-week returns, which are more volatile and harder to predict. Additionally, the macroeconomic indicators are more likely to have an impact on the index return over the next 1 month than over the next 1 week or 2 weeks.\n",
    "\n",
    "- As a result, we will use the model predicting 1-month positive/negative return to predict the index return over the next 1 month and use the predictions to select stocks for the final stock selection model.\n",
    "\n",
    "- The rbf kernel slighlty performed better than the poly kernel, although they are very similar indicating that kernel choice is not very important for this dataset.\n",
    "\n",
    "- As C increases in our models, the accuracy and recall slowly decrease up to a certain point (a little after C=1) and then drop off sharply. This is likely because as C increases, the model is overfitting to the training data and is not able to generalize well to the test data. This is why we see a sharp drop in accuracy and recall as C increases past a certain point. On the other hand precision increases as C increases.\n",
    "\n",
    "- We choose C=1.5 as it maintains a relatively high accuracy and recall, while also having some improvement in precision over smaller Cs. This helps to ensure that we don't underfit the data and that we are able to capture as many positive returns as possible on the unseen test set.\n",
    "\n",
    "- Next, we train the final model using the entire train/validation dataset and use the final model to predict the index return over the next 1 month on the unseen test set. We will use these predictions to select stocks for the final stock selection model."
   ],
   "metadata": {
    "collapsed": false
   }
  },
  {
   "cell_type": "markdown",
   "source": [
    "## Train and Fit Best Model"
   ],
   "metadata": {
    "collapsed": false
   }
  },
  {
   "cell_type": "code",
   "execution_count": 649,
   "outputs": [],
   "source": [
    "# follow the same steps as above to train and fit the best model\n",
    "x = standardized_df.drop(['date'], axis=1).values\n",
    "y = response[response['date'] >= '2006-11-14']['return_1m'].values\n",
    "\n",
    "# replace infinite values\n",
    "x = np.nan_to_num(x, posinf=3, neginf=-3)"
   ],
   "metadata": {
    "collapsed": false,
    "ExecuteTime": {
     "end_time": "2023-12-16T01:42:04.596136Z",
     "start_time": "2023-12-16T01:42:04.568911Z"
    }
   }
  },
  {
   "cell_type": "code",
   "execution_count": 650,
   "outputs": [
    {
     "data": {
      "text/plain": "SVC(C=1.5)",
      "text/html": "<style>#sk-container-id-81 {color: black;background-color: white;}#sk-container-id-81 pre{padding: 0;}#sk-container-id-81 div.sk-toggleable {background-color: white;}#sk-container-id-81 label.sk-toggleable__label {cursor: pointer;display: block;width: 100%;margin-bottom: 0;padding: 0.3em;box-sizing: border-box;text-align: center;}#sk-container-id-81 label.sk-toggleable__label-arrow:before {content: \"▸\";float: left;margin-right: 0.25em;color: #696969;}#sk-container-id-81 label.sk-toggleable__label-arrow:hover:before {color: black;}#sk-container-id-81 div.sk-estimator:hover label.sk-toggleable__label-arrow:before {color: black;}#sk-container-id-81 div.sk-toggleable__content {max-height: 0;max-width: 0;overflow: hidden;text-align: left;background-color: #f0f8ff;}#sk-container-id-81 div.sk-toggleable__content pre {margin: 0.2em;color: black;border-radius: 0.25em;background-color: #f0f8ff;}#sk-container-id-81 input.sk-toggleable__control:checked~div.sk-toggleable__content {max-height: 200px;max-width: 100%;overflow: auto;}#sk-container-id-81 input.sk-toggleable__control:checked~label.sk-toggleable__label-arrow:before {content: \"▾\";}#sk-container-id-81 div.sk-estimator input.sk-toggleable__control:checked~label.sk-toggleable__label {background-color: #d4ebff;}#sk-container-id-81 div.sk-label input.sk-toggleable__control:checked~label.sk-toggleable__label {background-color: #d4ebff;}#sk-container-id-81 input.sk-hidden--visually {border: 0;clip: rect(1px 1px 1px 1px);clip: rect(1px, 1px, 1px, 1px);height: 1px;margin: -1px;overflow: hidden;padding: 0;position: absolute;width: 1px;}#sk-container-id-81 div.sk-estimator {font-family: monospace;background-color: #f0f8ff;border: 1px dotted black;border-radius: 0.25em;box-sizing: border-box;margin-bottom: 0.5em;}#sk-container-id-81 div.sk-estimator:hover {background-color: #d4ebff;}#sk-container-id-81 div.sk-parallel-item::after {content: \"\";width: 100%;border-bottom: 1px solid gray;flex-grow: 1;}#sk-container-id-81 div.sk-label:hover label.sk-toggleable__label {background-color: #d4ebff;}#sk-container-id-81 div.sk-serial::before {content: \"\";position: absolute;border-left: 1px solid gray;box-sizing: border-box;top: 0;bottom: 0;left: 50%;z-index: 0;}#sk-container-id-81 div.sk-serial {display: flex;flex-direction: column;align-items: center;background-color: white;padding-right: 0.2em;padding-left: 0.2em;position: relative;}#sk-container-id-81 div.sk-item {position: relative;z-index: 1;}#sk-container-id-81 div.sk-parallel {display: flex;align-items: stretch;justify-content: center;background-color: white;position: relative;}#sk-container-id-81 div.sk-item::before, #sk-container-id-81 div.sk-parallel-item::before {content: \"\";position: absolute;border-left: 1px solid gray;box-sizing: border-box;top: 0;bottom: 0;left: 50%;z-index: -1;}#sk-container-id-81 div.sk-parallel-item {display: flex;flex-direction: column;z-index: 1;position: relative;background-color: white;}#sk-container-id-81 div.sk-parallel-item:first-child::after {align-self: flex-end;width: 50%;}#sk-container-id-81 div.sk-parallel-item:last-child::after {align-self: flex-start;width: 50%;}#sk-container-id-81 div.sk-parallel-item:only-child::after {width: 0;}#sk-container-id-81 div.sk-dashed-wrapped {border: 1px dashed gray;margin: 0 0.4em 0.5em 0.4em;box-sizing: border-box;padding-bottom: 0.4em;background-color: white;}#sk-container-id-81 div.sk-label label {font-family: monospace;font-weight: bold;display: inline-block;line-height: 1.2em;}#sk-container-id-81 div.sk-label-container {text-align: center;}#sk-container-id-81 div.sk-container {/* jupyter's `normalize.less` sets `[hidden] { display: none; }` but bootstrap.min.css set `[hidden] { display: none !important; }` so we also need the `!important` here to be able to override the default hidden behavior on the sphinx rendered scikit-learn.org. See: https://github.com/scikit-learn/scikit-learn/issues/21755 */display: inline-block !important;position: relative;}#sk-container-id-81 div.sk-text-repr-fallback {display: none;}</style><div id=\"sk-container-id-81\" class=\"sk-top-container\"><div class=\"sk-text-repr-fallback\"><pre>SVC(C=1.5)</pre><b>In a Jupyter environment, please rerun this cell to show the HTML representation or trust the notebook. <br />On GitHub, the HTML representation is unable to render, please try loading this page with nbviewer.org.</b></div><div class=\"sk-container\" hidden><div class=\"sk-item\"><div class=\"sk-estimator sk-toggleable\"><input class=\"sk-toggleable__control sk-hidden--visually\" id=\"sk-estimator-id-81\" type=\"checkbox\" checked><label for=\"sk-estimator-id-81\" class=\"sk-toggleable__label sk-toggleable__label-arrow\">SVC</label><div class=\"sk-toggleable__content\"><pre>SVC(C=1.5)</pre></div></div></div></div></div>"
     },
     "execution_count": 650,
     "metadata": {},
     "output_type": "execute_result"
    }
   ],
   "source": [
    "# fit final model\n",
    "final_mod = svm.SVC(C=1.5, kernel='rbf')\n",
    "final_mod.fit(x, y)"
   ],
   "metadata": {
    "collapsed": false,
    "ExecuteTime": {
     "end_time": "2023-12-16T01:42:05.212488Z",
     "start_time": "2023-12-16T01:42:04.916632Z"
    }
   }
  },
  {
   "cell_type": "code",
   "execution_count": 651,
   "outputs": [
    {
     "data": {
      "text/plain": "            prediction\ndate                  \n2015-01-02           0\n2015-01-05           0\n2015-01-06           0\n2015-01-07           0\n2015-01-08           0\n...                ...\n2023-09-27           1\n2023-09-28           1\n2023-09-29           1\n2023-10-02           1\n2023-10-03           1\n\n[2203 rows x 1 columns]",
      "text/html": "<div>\n<style scoped>\n    .dataframe tbody tr th:only-of-type {\n        vertical-align: middle;\n    }\n\n    .dataframe tbody tr th {\n        vertical-align: top;\n    }\n\n    .dataframe thead th {\n        text-align: right;\n    }\n</style>\n<table border=\"1\" class=\"dataframe\">\n  <thead>\n    <tr style=\"text-align: right;\">\n      <th></th>\n      <th>prediction</th>\n    </tr>\n    <tr>\n      <th>date</th>\n      <th></th>\n    </tr>\n  </thead>\n  <tbody>\n    <tr>\n      <th>2015-01-02</th>\n      <td>0</td>\n    </tr>\n    <tr>\n      <th>2015-01-05</th>\n      <td>0</td>\n    </tr>\n    <tr>\n      <th>2015-01-06</th>\n      <td>0</td>\n    </tr>\n    <tr>\n      <th>2015-01-07</th>\n      <td>0</td>\n    </tr>\n    <tr>\n      <th>2015-01-08</th>\n      <td>0</td>\n    </tr>\n    <tr>\n      <th>...</th>\n      <td>...</td>\n    </tr>\n    <tr>\n      <th>2023-09-27</th>\n      <td>1</td>\n    </tr>\n    <tr>\n      <th>2023-09-28</th>\n      <td>1</td>\n    </tr>\n    <tr>\n      <th>2023-09-29</th>\n      <td>1</td>\n    </tr>\n    <tr>\n      <th>2023-10-02</th>\n      <td>1</td>\n    </tr>\n    <tr>\n      <th>2023-10-03</th>\n      <td>1</td>\n    </tr>\n  </tbody>\n</table>\n<p>2203 rows × 1 columns</p>\n</div>"
     },
     "execution_count": 651,
     "metadata": {},
     "output_type": "execute_result"
    }
   ],
   "source": [
    "# predict index return over the next 1 month on the unseen test set\n",
    "final_test_data = final_test_data.drop(['date'], axis=1).values\n",
    "final_test_data = np.nan_to_num(final_test_data, posinf=3, neginf=-3)\n",
    "final_index_predictions = pd.DataFrame(final_mod.predict(final_test_data))\n",
    "\n",
    "# add date column\n",
    "final_index_predictions['date'] = final_response['date'].values\n",
    "final_index_predictions.rename(columns={0:'prediction'}, inplace=True)\n",
    "final_index_predictions.set_index('date', inplace=True)\n",
    "final_index_predictions"
   ],
   "metadata": {
    "collapsed": false,
    "ExecuteTime": {
     "end_time": "2023-12-16T01:42:06.075016Z",
     "start_time": "2023-12-16T01:42:05.419873Z"
    }
   }
  },
  {
   "cell_type": "code",
   "execution_count": 655,
   "outputs": [],
   "source": [
    "# save final_index_predictions for use in the final stock selection model\n",
    "final_index_predictions.to_csv('data/final_index_predictions.csv')"
   ],
   "metadata": {
    "collapsed": false,
    "ExecuteTime": {
     "end_time": "2023-12-16T01:42:13.339606Z",
     "start_time": "2023-12-16T01:42:13.326654Z"
    }
   }
  }
 ],
 "metadata": {
  "kernelspec": {
   "name": "quant_env",
   "language": "python",
   "display_name": "quant_env"
  },
  "language_info": {
   "codemirror_mode": {
    "name": "ipython",
    "version": 2
   },
   "file_extension": ".py",
   "mimetype": "text/x-python",
   "name": "python",
   "nbconvert_exporter": "python",
   "pygments_lexer": "ipython2",
   "version": "2.7.6"
  }
 },
 "nbformat": 4,
 "nbformat_minor": 0
}
