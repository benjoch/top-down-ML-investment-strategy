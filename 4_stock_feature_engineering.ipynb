{
 "cells": [
  {
   "cell_type": "markdown",
   "source": [
    "# Overview:\n",
    "\n",
    "- This notebook is used to create a training dataset for each constituent in the index including the index return prediction (over the next 1-month) from the index forecasting notebook, the constituent price and fundamental data, and macroeconomic data."
   ],
   "metadata": {
    "collapsed": false
   }
  },
  {
   "cell_type": "code",
   "execution_count": 142,
   "outputs": [],
   "source": [
    "import pandas as pd\n",
    "constituent_prices = pd.read_csv('data/constituent_prices.csv')\n",
    "index_predictions = pd.read_csv('data/final_index_predictions.csv')\n",
    "unprocessed_index_data = pd.read_csv('data/index_data.csv')\n",
    "\n",
    "# processed index data (from index forecasting notebook) if needed\n",
    "# processed_index_data = pd.read_csv('data/final_test_data.csv')"
   ],
   "metadata": {
    "collapsed": false,
    "ExecuteTime": {
     "end_time": "2023-12-16T15:47:18.680961Z",
     "start_time": "2023-12-16T15:47:18.550519Z"
    }
   }
  },
  {
   "cell_type": "code",
   "execution_count": 143,
   "outputs": [],
   "source": [
    "# rename date columns to be consistent for merging\n",
    "unprocessed_index_data.rename(columns={'Unnamed: 0':'Date'}, inplace=True)\n",
    "index_predictions.rename(columns={'date':'Date'}, inplace=True)"
   ],
   "metadata": {
    "collapsed": false,
    "ExecuteTime": {
     "end_time": "2023-12-16T15:47:34.308030Z",
     "start_time": "2023-12-16T15:47:34.303531Z"
    }
   }
  },
  {
   "cell_type": "code",
   "execution_count": 144,
   "outputs": [],
   "source": [
    "# loop to create training/testing dataframes for each constituent\n",
    "data_dict = {}\n",
    "\n",
    "# for each constituent assemble the dataframes\n",
    "for co in constituent_prices.columns:\n",
    "\n",
    "    # first column is date so skip\n",
    "    if co == 'Date':\n",
    "        continue\n",
    "\n",
    "    # for all other columns (constituents), assemble the final dataframe by merging the constituent price data, index prediction data, and constituent fundamental data\n",
    "    else:\n",
    "        # select constituent price data\n",
    "        co_prices = constituent_prices[['Date', co]]\n",
    "\n",
    "        # merge the constituent price data with the index / macro data\n",
    "        co_data = pd.merge(unprocessed_index_data, co_prices, on='Date', how='left')\n",
    "\n",
    "        # merge with the index return predictions\n",
    "        co_data = pd.merge(co_data, index_predictions, on='Date', how='left')\n",
    "\n",
    "        # select only the data after 2015-01-01 since we only have index prediction data after 2015\n",
    "        co_data = co_data[co_data['Date'] >= '2015-01-01'][:-20]\n",
    "\n",
    "        # BF-B is labeled differently in the fundamental data so format the file loading correctly\n",
    "        if co == 'BF-B':\n",
    "            co_fundamental = pd.read_excel('data/CON DATA VALUES.xlsx', sheet_name= 'BF B US Equity', header=1)\n",
    "        else:\n",
    "            co_fundamental = pd.read_excel('data/CON DATA VALUES.xlsx', sheet_name=f'{co} US Equity', header=1)\n",
    "\n",
    "        # rename the date column to be consistent for merging\n",
    "        co_fundamental.rename(columns={'Dates':'Date'}, inplace=True)\n",
    "        co_fundamental['Date'] = co_fundamental['Date'].astype(str)\n",
    "\n",
    "        # merge the fundamental data with the constituent price / index / macro data\n",
    "        co_data = pd.merge(co_data, co_fundamental, on='Date', how='left')\n",
    "        co_data = co_data.dropna(axis=1)\n",
    "\n",
    "        # rename price columns to indcate which is the index price and which is the constituent price\n",
    "        co_data.rename(columns={\"Price\":'index_price', 'Last Price':'equity_price'}, inplace=True)\n",
    "\n",
    "        # add data to dictionary\n",
    "        data_dict[co] = co_data"
   ],
   "metadata": {
    "collapsed": false,
    "ExecuteTime": {
     "end_time": "2023-12-16T15:51:28.323088Z",
     "start_time": "2023-12-16T15:51:04.834460Z"
    }
   }
  },
  {
   "cell_type": "code",
   "execution_count": 147,
   "outputs": [
    {
     "name": "stdout",
     "output_type": "stream",
     "text": [
      "dict_keys(['ADM', 'BF-B', 'CAG', 'CL', 'CLX', 'COST', 'CPB', 'EL', 'GIS', 'HRL', 'HSY', 'K', 'KMB', 'KO', 'KR', 'MDLZ', 'MKC', 'MNST', 'MO', 'PEP', 'PG', 'SJM', 'STZ', 'SYY', 'TAP', 'TSN', 'WBA', 'WMT'])\n"
     ]
    },
    {
     "data": {
      "text/plain": "            Date  index_price        GDP   RATE_10  URATE         CPI  \\\n0     2015-01-02     8.873692  4411435.0  0.709943    5.7   99.298784   \n1     2015-01-05     8.816514  4411435.0  0.709943    5.7   99.298784   \n2     2015-01-06     8.813953  4411435.0  0.709943    5.7   99.298784   \n3     2015-01-07     8.933431  4411435.0  0.709943    5.7   99.298784   \n4     2015-01-08     9.081926  4411435.0  0.709943    5.7   99.298784   \n...          ...          ...        ...       ...    ...         ...   \n2198  2023-09-27    29.930000  6928858.0  1.699708    3.8  129.118446   \n2199  2023-09-28    30.000000  6928858.0  1.699708    3.8  129.118446   \n2200  2023-09-29    30.040001  6928858.0  1.699708    3.8  129.118446   \n2201  2023-10-02    29.660000  6928858.0  2.082461    3.9  129.118446   \n2202  2023-10-03    29.440001  6928858.0  2.082461    3.9  129.118446   \n\n          PPI   HOUSE  SAVE  Index Enterprise Value  ...         KO  \\\n0     192.000  1085.0   6.3               4297.5892  ...  31.598585   \n1     192.000  1085.0   6.3               4264.8392  ...  31.598585   \n2     192.000  1085.0   6.3               4252.9792  ...  31.838535   \n3     192.000  1085.0   6.3               4322.7592  ...  32.235947   \n4     192.000  1085.0   6.3               4383.0192  ...  32.625870   \n...       ...     ...   ...                     ...  ...        ...   \n2198  258.889  1346.0   3.7               6799.8725  ...  55.950001   \n2199  258.889  1346.0   3.7               6811.0825  ...  55.810001   \n2200  258.889  1346.0   3.7               6816.9425  ...  55.980000   \n2201  255.463  1372.0   3.8               6750.3425  ...  55.480000   \n2202  255.463  1372.0   3.8               6714.4125  ...  54.880001   \n\n      prediction  equity_price  Profit Margin_y  Total Debt to Total Equity_y  \\\n0            0.0         42.14           7.0824                      136.5957   \n1            0.0         42.14           7.0824                      136.5957   \n2            0.0         42.46           7.0824                      136.5957   \n3            0.0         42.99           7.0824                      136.5957   \n4            0.0         43.51           7.0824                      136.5957   \n...          ...           ...              ...                           ...   \n2198         1.0         55.95          21.2746                      151.0780   \n2199         1.0         55.81          21.2746                      151.0780   \n2200         1.0         55.98          25.8262                      144.3287   \n2201         1.0         55.48          25.8262                      144.3287   \n2202         1.0         54.88          25.8262                      144.3287   \n\n      Price Earnings Ratio (P/E)  Revenue  Net Income/Net Profit (Losses)  \\\n0                        20.8825  10872.0                           770.0   \n1                        20.8825  10872.0                           770.0   \n2                        21.0411  10872.0                           770.0   \n3                        21.3038  10872.0                           770.0   \n4                        21.5614  10872.0                           770.0   \n...                          ...      ...                             ...   \n2198                     21.3631  11972.0                          2547.0   \n2199                     21.3096  11972.0                          2547.0   \n2200                     21.0584  11953.0                          3087.0   \n2201                     20.8703  11953.0                          3087.0   \n2202                     20.6446  11953.0                          3087.0   \n\n      Net Debt  Overridable Adjusted Beta  \n0      20070.0                     0.7609  \n1      20070.0                     0.7543  \n2      20070.0                     0.7509  \n3      20070.0                     0.7525  \n4      20070.0                     0.7524  \n...        ...                        ...  \n2198   25931.0                     0.6430  \n2199   25931.0                     0.6412  \n2200   24736.0                     0.6410  \n2201   24736.0                     0.6407  \n2202   24736.0                     0.6413  \n\n[2203 rows x 38 columns]",
      "text/html": "<div>\n<style scoped>\n    .dataframe tbody tr th:only-of-type {\n        vertical-align: middle;\n    }\n\n    .dataframe tbody tr th {\n        vertical-align: top;\n    }\n\n    .dataframe thead th {\n        text-align: right;\n    }\n</style>\n<table border=\"1\" class=\"dataframe\">\n  <thead>\n    <tr style=\"text-align: right;\">\n      <th></th>\n      <th>Date</th>\n      <th>index_price</th>\n      <th>GDP</th>\n      <th>RATE_10</th>\n      <th>URATE</th>\n      <th>CPI</th>\n      <th>PPI</th>\n      <th>HOUSE</th>\n      <th>SAVE</th>\n      <th>Index Enterprise Value</th>\n      <th>...</th>\n      <th>KO</th>\n      <th>prediction</th>\n      <th>equity_price</th>\n      <th>Profit Margin_y</th>\n      <th>Total Debt to Total Equity_y</th>\n      <th>Price Earnings Ratio (P/E)</th>\n      <th>Revenue</th>\n      <th>Net Income/Net Profit (Losses)</th>\n      <th>Net Debt</th>\n      <th>Overridable Adjusted Beta</th>\n    </tr>\n  </thead>\n  <tbody>\n    <tr>\n      <th>0</th>\n      <td>2015-01-02</td>\n      <td>8.873692</td>\n      <td>4411435.0</td>\n      <td>0.709943</td>\n      <td>5.7</td>\n      <td>99.298784</td>\n      <td>192.000</td>\n      <td>1085.0</td>\n      <td>6.3</td>\n      <td>4297.5892</td>\n      <td>...</td>\n      <td>31.598585</td>\n      <td>0.0</td>\n      <td>42.14</td>\n      <td>7.0824</td>\n      <td>136.5957</td>\n      <td>20.8825</td>\n      <td>10872.0</td>\n      <td>770.0</td>\n      <td>20070.0</td>\n      <td>0.7609</td>\n    </tr>\n    <tr>\n      <th>1</th>\n      <td>2015-01-05</td>\n      <td>8.816514</td>\n      <td>4411435.0</td>\n      <td>0.709943</td>\n      <td>5.7</td>\n      <td>99.298784</td>\n      <td>192.000</td>\n      <td>1085.0</td>\n      <td>6.3</td>\n      <td>4264.8392</td>\n      <td>...</td>\n      <td>31.598585</td>\n      <td>0.0</td>\n      <td>42.14</td>\n      <td>7.0824</td>\n      <td>136.5957</td>\n      <td>20.8825</td>\n      <td>10872.0</td>\n      <td>770.0</td>\n      <td>20070.0</td>\n      <td>0.7543</td>\n    </tr>\n    <tr>\n      <th>2</th>\n      <td>2015-01-06</td>\n      <td>8.813953</td>\n      <td>4411435.0</td>\n      <td>0.709943</td>\n      <td>5.7</td>\n      <td>99.298784</td>\n      <td>192.000</td>\n      <td>1085.0</td>\n      <td>6.3</td>\n      <td>4252.9792</td>\n      <td>...</td>\n      <td>31.838535</td>\n      <td>0.0</td>\n      <td>42.46</td>\n      <td>7.0824</td>\n      <td>136.5957</td>\n      <td>21.0411</td>\n      <td>10872.0</td>\n      <td>770.0</td>\n      <td>20070.0</td>\n      <td>0.7509</td>\n    </tr>\n    <tr>\n      <th>3</th>\n      <td>2015-01-07</td>\n      <td>8.933431</td>\n      <td>4411435.0</td>\n      <td>0.709943</td>\n      <td>5.7</td>\n      <td>99.298784</td>\n      <td>192.000</td>\n      <td>1085.0</td>\n      <td>6.3</td>\n      <td>4322.7592</td>\n      <td>...</td>\n      <td>32.235947</td>\n      <td>0.0</td>\n      <td>42.99</td>\n      <td>7.0824</td>\n      <td>136.5957</td>\n      <td>21.3038</td>\n      <td>10872.0</td>\n      <td>770.0</td>\n      <td>20070.0</td>\n      <td>0.7525</td>\n    </tr>\n    <tr>\n      <th>4</th>\n      <td>2015-01-08</td>\n      <td>9.081926</td>\n      <td>4411435.0</td>\n      <td>0.709943</td>\n      <td>5.7</td>\n      <td>99.298784</td>\n      <td>192.000</td>\n      <td>1085.0</td>\n      <td>6.3</td>\n      <td>4383.0192</td>\n      <td>...</td>\n      <td>32.625870</td>\n      <td>0.0</td>\n      <td>43.51</td>\n      <td>7.0824</td>\n      <td>136.5957</td>\n      <td>21.5614</td>\n      <td>10872.0</td>\n      <td>770.0</td>\n      <td>20070.0</td>\n      <td>0.7524</td>\n    </tr>\n    <tr>\n      <th>...</th>\n      <td>...</td>\n      <td>...</td>\n      <td>...</td>\n      <td>...</td>\n      <td>...</td>\n      <td>...</td>\n      <td>...</td>\n      <td>...</td>\n      <td>...</td>\n      <td>...</td>\n      <td>...</td>\n      <td>...</td>\n      <td>...</td>\n      <td>...</td>\n      <td>...</td>\n      <td>...</td>\n      <td>...</td>\n      <td>...</td>\n      <td>...</td>\n      <td>...</td>\n      <td>...</td>\n    </tr>\n    <tr>\n      <th>2198</th>\n      <td>2023-09-27</td>\n      <td>29.930000</td>\n      <td>6928858.0</td>\n      <td>1.699708</td>\n      <td>3.8</td>\n      <td>129.118446</td>\n      <td>258.889</td>\n      <td>1346.0</td>\n      <td>3.7</td>\n      <td>6799.8725</td>\n      <td>...</td>\n      <td>55.950001</td>\n      <td>1.0</td>\n      <td>55.95</td>\n      <td>21.2746</td>\n      <td>151.0780</td>\n      <td>21.3631</td>\n      <td>11972.0</td>\n      <td>2547.0</td>\n      <td>25931.0</td>\n      <td>0.6430</td>\n    </tr>\n    <tr>\n      <th>2199</th>\n      <td>2023-09-28</td>\n      <td>30.000000</td>\n      <td>6928858.0</td>\n      <td>1.699708</td>\n      <td>3.8</td>\n      <td>129.118446</td>\n      <td>258.889</td>\n      <td>1346.0</td>\n      <td>3.7</td>\n      <td>6811.0825</td>\n      <td>...</td>\n      <td>55.810001</td>\n      <td>1.0</td>\n      <td>55.81</td>\n      <td>21.2746</td>\n      <td>151.0780</td>\n      <td>21.3096</td>\n      <td>11972.0</td>\n      <td>2547.0</td>\n      <td>25931.0</td>\n      <td>0.6412</td>\n    </tr>\n    <tr>\n      <th>2200</th>\n      <td>2023-09-29</td>\n      <td>30.040001</td>\n      <td>6928858.0</td>\n      <td>1.699708</td>\n      <td>3.8</td>\n      <td>129.118446</td>\n      <td>258.889</td>\n      <td>1346.0</td>\n      <td>3.7</td>\n      <td>6816.9425</td>\n      <td>...</td>\n      <td>55.980000</td>\n      <td>1.0</td>\n      <td>55.98</td>\n      <td>25.8262</td>\n      <td>144.3287</td>\n      <td>21.0584</td>\n      <td>11953.0</td>\n      <td>3087.0</td>\n      <td>24736.0</td>\n      <td>0.6410</td>\n    </tr>\n    <tr>\n      <th>2201</th>\n      <td>2023-10-02</td>\n      <td>29.660000</td>\n      <td>6928858.0</td>\n      <td>2.082461</td>\n      <td>3.9</td>\n      <td>129.118446</td>\n      <td>255.463</td>\n      <td>1372.0</td>\n      <td>3.8</td>\n      <td>6750.3425</td>\n      <td>...</td>\n      <td>55.480000</td>\n      <td>1.0</td>\n      <td>55.48</td>\n      <td>25.8262</td>\n      <td>144.3287</td>\n      <td>20.8703</td>\n      <td>11953.0</td>\n      <td>3087.0</td>\n      <td>24736.0</td>\n      <td>0.6407</td>\n    </tr>\n    <tr>\n      <th>2202</th>\n      <td>2023-10-03</td>\n      <td>29.440001</td>\n      <td>6928858.0</td>\n      <td>2.082461</td>\n      <td>3.9</td>\n      <td>129.118446</td>\n      <td>255.463</td>\n      <td>1372.0</td>\n      <td>3.8</td>\n      <td>6714.4125</td>\n      <td>...</td>\n      <td>54.880001</td>\n      <td>1.0</td>\n      <td>54.88</td>\n      <td>25.8262</td>\n      <td>144.3287</td>\n      <td>20.6446</td>\n      <td>11953.0</td>\n      <td>3087.0</td>\n      <td>24736.0</td>\n      <td>0.6413</td>\n    </tr>\n  </tbody>\n</table>\n<p>2203 rows × 38 columns</p>\n</div>"
     },
     "execution_count": 147,
     "metadata": {},
     "output_type": "execute_result"
    }
   ],
   "source": [
    "print(data_dict.keys())\n",
    "data_dict['KO']"
   ],
   "metadata": {
    "collapsed": false,
    "ExecuteTime": {
     "end_time": "2023-12-16T15:51:43.454603Z",
     "start_time": "2023-12-16T15:51:43.424261Z"
    }
   }
  },
  {
   "cell_type": "code",
   "execution_count": 1,
   "outputs": [
    {
     "data": {
      "text/plain": "\"\\nIntroduction\\n\\n\\nProduct\\nEulith offers trade execution and risk management software, and third-party Separately Managed Account (SMA) services for digital assets. The company has three core products:\\n\\nDeFi Armor: a non-custodial access management system for mitigating on-chain trading and operational risks. Enables the separation of on-chain trading and operations by providing a “co-signer” that performs transaction simulations and access control based on user-defined policies.\\n\\nPoems: an order execution and management system for DeFi fund managers and capital allocators. Provides active DeFi traders and fund managers with a CeFi-like trading experience for DeFi by offering advanced tools and algorithms, data feeds and price quotes, triggers, and pre-trade risk analyses. For investors and capital allocators, Poems offers customized and real-time analytics, portfolio management tools, and security solutions.\\n\\nEulith Capital: Separately Managed Account (SMA) and liquidity services for digital assets. Provides third-party risk controls and trading tools via its software products, and legal infrastructure solutions to streamline and de-risk digital asset SMAs. Facilitates fundraising and unlocks liquidity via Eulith’s network of fund managers and capital allocators.\\n\\nMarket Opportunity &Traction\\n\\nA lack of robust infrastructure severely bottlenecks institutional demand for DeFi. Without in-built security, trade execution, and risk management capabilities, DeFi protocols are unsuited to support large-scale, sophisticated use. Eulith's opportunity is in its ability to equip DeFi with the  advanced functionality found in TradFi and CeFi without restricting functionality.\\n\\nEquipping DeFi with the advanced functionality found in TradFi and CeFi without restricting functionality\\n\""
     },
     "execution_count": 1,
     "metadata": {},
     "output_type": "execute_result"
    }
   ],
   "source": [
    "'''\n",
    "Introduction\n",
    "\n",
    "\n",
    "Product\n",
    "Eulith offers trade execution and risk management software, and third-party Separately Managed Account (SMA) services for digital assets. The company has three core products:\n",
    "\n",
    "DeFi Armor: a non-custodial access management system for mitigating on-chain trading and operational risks. Enables the separation of on-chain trading and operations by providing a “co-signer” that performs transaction simulations and access control based on user-defined policies.\n",
    "\n",
    "Poems: an order execution and management system for DeFi fund managers and capital allocators. Provides active DeFi traders and fund managers with a CeFi-like trading experience for DeFi by offering advanced tools and algorithms, data feeds and price quotes, triggers, and pre-trade risk analyses. For investors and capital allocators, Poems offers customized and real-time analytics, portfolio management tools, and security solutions.\n",
    "\n",
    "Eulith Capital: Separately Managed Account (SMA) and liquidity services for digital assets. Provides third-party risk controls and trading tools via its software products, and legal infrastructure solutions to streamline and de-risk digital asset SMAs. Facilitates fundraising and unlocks liquidity via Eulith’s network of fund managers and capital allocators.\n",
    "\n",
    "Market Opportunity &Traction\n",
    "\n",
    "A lack of robust infrastructure severely bottlenecks institutional demand for DeFi. Without in-built security, trade execution, and risk management capabilities, DeFi protocols are unsuited to support large-scale, organizational use. Eulith aims to capitalize on this opportunity by equipping DeFi with the advanced functionality expected by institutional investors and traders without restricting its functionality.\n",
    "\n",
    "Statistics from PWC”s 2023 Crypto Hedge Fund report support the thesis that demand for professional-grade DeFi infrastructure will grow, implying a large market opportunity for Eulith's products. The report estimates that the total assets under management (AUM) of crypto hedge funds will grow from $2 billion in 2020 to $13 billion in 2023, representing a 550% increase. The report also estimates that the total AUM of crypto hedge funds will grow from $2 billion in 2020 to $13 billion in 2023, representing a 550% increase. The report also estimates that the total AUM of crypto hedge funds will grow from $2 billion in 2020 to $13 billion in 2023, representing a 550% increase. The report also estimates that the total AUM of crypto hedge funds will grow from $2 billion in 2020 to $13 billion in 2023, representing a 550% increase. The report also estimates that the total AUM of crypto hedge funds will grow from $2 billion in 2020 to $13 billion in 2023, representing a 550% increase. The report also estimates that the total AUM of crypto hedge funds will grow from $2 billion in 2020 to $13 billion in 2023, representing a 550% increase. The report also estimates that the total AUM of crypto hedge funds will grow from $2 billion in 2020 to $13 billion in 2023, representing a 550% increase. The report also estimates that the total AUM of crypto hedge funds will grow from $2 billion in 2020 to $13 billion in 2023, representing a 550% increase.\n",
    "'''"
   ],
   "metadata": {
    "collapsed": false,
    "ExecuteTime": {
     "end_time": "2023-12-16T18:33:29.655336Z",
     "start_time": "2023-12-16T18:33:29.645918Z"
    }
   }
  },
  {
   "cell_type": "code",
   "execution_count": null,
   "outputs": [],
   "source": [],
   "metadata": {
    "collapsed": false
   }
  }
 ],
 "metadata": {
  "kernelspec": {
   "display_name": "Python 3",
   "language": "python",
   "name": "python3"
  },
  "language_info": {
   "codemirror_mode": {
    "name": "ipython",
    "version": 2
   },
   "file_extension": ".py",
   "mimetype": "text/x-python",
   "name": "python",
   "nbconvert_exporter": "python",
   "pygments_lexer": "ipython2",
   "version": "2.7.6"
  }
 },
 "nbformat": 4,
 "nbformat_minor": 0
}
